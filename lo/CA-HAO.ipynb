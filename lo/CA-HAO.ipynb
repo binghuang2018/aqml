{
 "cells": [
  {
   "cell_type": "code",
   "execution_count": 108,
   "metadata": {},
   "outputs": [],
   "source": [
    "from pyscf import gto, scf, lo\n",
    "import numpy as np\n",
    "from functools import reduce\n",
    "from pyscf.lo.orth import pre_orth_ao_atm_scf\n",
    "import ase\n",
    "from pyscf import lo\n",
    "\n",
    "T,F=True,False\n",
    "np.set_printoptions(precision=2,suppress=True)\n",
    "\n",
    "def calc(aseobj, bst='cc-pvdz', icab=F):\n",
    "    zs = aseobj.numbers\n",
    "    nh = (zs==1).sum()\n",
    "    coords = aseobj.positions\n",
    "    assert zs[0]>1 and np.all(zs[1:]==1) #zs = []; coords = []\n",
    "    spin = sum(zs)%2\n",
    "    atom = ''\n",
    "    na = len(aseobj)\n",
    "    for i in range(na):\n",
    "        x,y,z = coords[i]\n",
    "        ai = aseobj[i]\n",
    "        atom += '%s %.8f %.8f %.8f;'%(ai.symbol, x,y,z)\n",
    "    if icab:\n",
    "        basis = {'H':'sto-3g'}\n",
    "    else:\n",
    "        basis = {'H':bst}\n",
    "    for si in ['C','N','O','F']: basis[si] = bst\n",
    "    mol = gto.M(atom=atom, basis=basis, verbose=0, spin=spin)\n",
    "    mf = None\n",
    "    if not icab:\n",
    "        mf = scf.RHF(mol)\n",
    "        mf.kernel()\n",
    "    return mol, mf\n",
    "\n",
    "def get_hao(mol):\n",
    "    zs = mol.atom_charges()\n",
    "    nh = (zs==1).sum()\n",
    "    s1 = mol.intor_symmetric('int1e_ovlp')\n",
    "    b1 = pre_orth_ao_atm_scf(mol)\n",
    "    sb = reduce( np.dot, (b1.conjugate().T, s1, b1) )\n",
    "    aolbs = mol.ao_labels(); nao = len(aolbs)\n",
    "    sb_hx = sb[-nh:,:-nh] # overlap matrix H-X\n",
    "    u,d,vh = np.linalg.svd(sb_hx, full_matrices=False, compute_uv=True)\n",
    "    a1 = np.dot(vh.T, u.T)\n",
    "    # now Schmidt orthogonalization\n",
    "    n1 = nh\n",
    "    n2 = nao - nh\n",
    "    t = np.eye(n2)\n",
    "    t[:,:nh] = a1\n",
    "    for i in range(nh,n2):\n",
    "        for j in range(i):\n",
    "            cj = t[i,j] \n",
    "            t[:,i] -= cj*t[:,j]\n",
    "        t[:,i] /= np.linalg.norm(t[:,i])\n",
    "    for i in range(n2):\n",
    "        csi = t[i,:6]\n",
    "        so = ' '.join(['%10.2f '%si for si in csi])\n",
    "        print(aolbs[i], so)\n",
    "    return t\n",
    "\n",
    "def get_new_dm1(mol, mf, t):\n",
    "    cs = mf.mo_coeff\n",
    "    return cs"
   ]
  },
  {
   "cell_type": "code",
   "execution_count": 111,
   "metadata": {
    "scrolled": true
   },
   "outputs": [
    {
     "data": {
      "text/plain": [
       "-99.99358813512816"
      ]
     },
     "execution_count": 111,
     "metadata": {},
     "output_type": "execute_result"
    }
   ],
   "source": [
    "bst = 'cc-pvdz'\n",
    "zs = [9,1]; coords = [[0.,0.,0],[0.,0.,0.98]]; m = ase.Atoms(zs,coords)\n",
    "mol, _ = calc(m, bst=bst, icab=T)\n",
    "#t = get_hao(mol)\n",
    "mf = scf.RHF(mol)\n",
    "mf.kernel()"
   ]
  },
  {
   "cell_type": "code",
   "execution_count": 121,
   "metadata": {},
   "outputs": [
    {
     "name": "stdout",
     "output_type": "stream",
     "text": [
      "[ 2.      2.      2.      2.      1.8886  0.      0.      0.     -0.\n",
      " -0.     -0.     -0.     -0.     -0.    ]\n"
     ]
    }
   ],
   "source": [
    "np.set_printoptions(precision=4,suppress=True)\n",
    "s = mol.intor_symmetric('int1e_ovlp_sph')\n",
    "p = reduce(np.dot, (s, mf.make_rdm1(), s))\n",
    "import scipy\n",
    "e,v = scipy.linalg.eigh(p[:-1,:-1], s[:-1,:-1])\n",
    "eigs1 = e[::-1]; vs1 = v[:,::-1]\n",
    "print(eigs1)\n",
    "#o0, c0 = lo.nao._prenao_sub(mol, p, s)\n",
    "#print(o0, c0)"
   ]
  },
  {
   "cell_type": "code",
   "execution_count": 128,
   "metadata": {},
   "outputs": [
    {
     "data": {
      "text/plain": [
       "array([ 0.,  0.,  0.,  0., -0.,  0., -0., -1.,  0., -0., -0., -0., -0.,\n",
       "       -0.])"
      ]
     },
     "execution_count": 128,
     "metadata": {},
     "output_type": "execute_result"
    }
   ],
   "source": [
    "vs1[13]"
   ]
  },
  {
   "cell_type": "code",
   "execution_count": 130,
   "metadata": {},
   "outputs": [],
   "source": [
    "# write HAO\n",
    "import interfaces._pyscf as pscf\n",
    "reload(pscf)\n",
    "oo = pscf.io(mol)\n",
    "c1 = np.zeros((mol.nao,mol.nao))\n",
    "c1[:-1,:-1] = vs1\n",
    "orig, cell, dt = oo.orbital(c1, grids=[100,100,100], label='ch4-carbon')"
   ]
  },
  {
   "cell_type": "code",
   "execution_count": 95,
   "metadata": {},
   "outputs": [
    {
     "data": {
      "text/plain": [
       "['0 F 1s    ',\n",
       " '0 F 2s    ',\n",
       " '0 F 3s    ',\n",
       " '0 F 2px   ',\n",
       " '0 F 2py   ',\n",
       " '0 F 2pz   ',\n",
       " '0 F 3px   ',\n",
       " '0 F 3py   ',\n",
       " '0 F 3pz   ',\n",
       " '0 F 3dxy  ',\n",
       " '0 F 3dyz  ',\n",
       " '0 F 3dz^2 ',\n",
       " '0 F 3dxz  ',\n",
       " '0 F 3dx2-y2',\n",
       " '1 H 1s    ']"
      ]
     },
     "execution_count": 95,
     "metadata": {},
     "output_type": "execute_result"
    }
   ],
   "source": [
    "mol.ao_labels()"
   ]
  },
  {
   "cell_type": "code",
   "execution_count": 96,
   "metadata": {
    "scrolled": true
   },
   "outputs": [
    {
     "data": {
      "text/plain": [
       "-99.99358813502536"
      ]
     },
     "execution_count": 96,
     "metadata": {},
     "output_type": "execute_result"
    }
   ],
   "source": [
    "m.rotate(90, [1,1,1])\n",
    "#a = calc_hao(m, bst=bst)\n",
    "mol, _ = calc(m, bst=bst, icab=T)\n",
    "#t = get_hao(mol)\n",
    "mf = scf.RHF(mol)\n",
    "mf.kernel()"
   ]
  },
  {
   "cell_type": "code",
   "execution_count": 97,
   "metadata": {},
   "outputs": [
    {
     "name": "stdout",
     "output_type": "stream",
     "text": [
      "[ 2.    2.    2.    2.    1.89  0.    0.    0.    0.   -0.   -0.   -0.\n",
      " -0.   -0.  ]\n"
     ]
    }
   ],
   "source": [
    "s = mol.intor_symmetric('int1e_ovlp_sph')\n",
    "p = reduce(np.dot, (s, mf.make_rdm1(), s))\n",
    "import scipy\n",
    "e,v = scipy.linalg.eigh(p[:-1,:-1], s[:-1,:-1])\n",
    "eigs2 = e[::-1]; vs2 = v[:,::-1]\n",
    "print(eigs2)\n",
    "#o0, c0 = lo.nao._prenao_sub(mol, p, s)\n",
    "#print(o0, c0)"
   ]
  },
  {
   "cell_type": "code",
   "execution_count": 103,
   "metadata": {
    "scrolled": true
   },
   "outputs": [
    {
     "data": {
      "text/plain": [
       "True"
      ]
     },
     "execution_count": 103,
     "metadata": {},
     "output_type": "execute_result"
    }
   ],
   "source": [
    "np.all( np.abs(eigs2-eigs1)<1e-6 )"
   ]
  },
  {
   "cell_type": "code",
   "execution_count": 123,
   "metadata": {},
   "outputs": [
    {
     "name": "stdout",
     "output_type": "stream",
     "text": [
      "[2.     1.9954 0.028  1.9409 1.9409 1.9409 0.0096 0.0096 0.0096 0.0027\n",
      " 0.0027 0.0027 0.0027 0.0027 1.2034]\n"
     ]
    }
   ],
   "source": [
    "s = mol.intor_symmetric('int1e_ovlp_sph')\n",
    "p = reduce(np.dot, (s, mf.make_rdm1(), s))\n",
    "o0, c0 = lo.nao._prenao_sub(mol, p, s)\n",
    "print(o0) #, c0)"
   ]
  },
  {
   "cell_type": "code",
   "execution_count": 129,
   "metadata": {
    "scrolled": true
   },
   "outputs": [
    {
     "ename": "ImportError",
     "evalue": "No module named ipyevents",
     "output_type": "error",
     "traceback": [
      "\u001b[0;31m---------------------------------------------------------------------------\u001b[0m",
      "\u001b[0;31mImportError\u001b[0m                               Traceback (most recent call last)",
      "\u001b[0;32m<ipython-input-129-50c38a27e9d3>\u001b[0m in \u001b[0;36m<module>\u001b[0;34m()\u001b[0m\n\u001b[1;32m      1\u001b[0m \u001b[0;32mfrom\u001b[0m \u001b[0mmayavi\u001b[0m \u001b[0;32mimport\u001b[0m \u001b[0mmlab\u001b[0m\u001b[0;34m\u001b[0m\u001b[0m\n\u001b[0;32m----> 2\u001b[0;31m \u001b[0mmlab\u001b[0m\u001b[0;34m.\u001b[0m\u001b[0minit_notebook\u001b[0m\u001b[0;34m(\u001b[0m\u001b[0;34m)\u001b[0m\u001b[0;34m\u001b[0m\u001b[0m\n\u001b[0m",
      "\u001b[0;32m/Users/bhuang/anaconda2/lib/python2.7/site-packages/mayavi-4.7.0.dev0-py2.7-macosx-10.6-x86_64.egg/mayavi/tools/notebook.pyc\u001b[0m in \u001b[0;36minit\u001b[0;34m(backend, width, height, local)\u001b[0m\n\u001b[1;32m     38\u001b[0m     \u001b[0m_local\u001b[0m \u001b[0;34m=\u001b[0m \u001b[0mlocal\u001b[0m\u001b[0;34m\u001b[0m\u001b[0m\n\u001b[1;32m     39\u001b[0m     \u001b[0;32mif\u001b[0m \u001b[0mbackend\u001b[0m \u001b[0;34m==\u001b[0m \u001b[0;34m'ipy'\u001b[0m\u001b[0;34m:\u001b[0m\u001b[0;34m\u001b[0m\u001b[0m\n\u001b[0;32m---> 40\u001b[0;31m         \u001b[0m_setup_widget_manager\u001b[0m\u001b[0;34m(\u001b[0m\u001b[0;34m)\u001b[0m\u001b[0;34m\u001b[0m\u001b[0m\n\u001b[0m\u001b[1;32m     41\u001b[0m     \u001b[0m_monkey_patch_for_ipython\u001b[0m\u001b[0;34m(\u001b[0m\u001b[0;34m)\u001b[0m\u001b[0;34m\u001b[0m\u001b[0m\n\u001b[1;32m     42\u001b[0m     \u001b[0;32mprint\u001b[0m\u001b[0;34m(\u001b[0m\u001b[0;34m\"Notebook initialized with %s backend.\"\u001b[0m \u001b[0;34m%\u001b[0m \u001b[0mbackend\u001b[0m\u001b[0;34m)\u001b[0m\u001b[0;34m\u001b[0m\u001b[0m\n",
      "\u001b[0;32m/Users/bhuang/anaconda2/lib/python2.7/site-packages/mayavi-4.7.0.dev0-py2.7-macosx-10.6-x86_64.egg/mayavi/tools/notebook.pyc\u001b[0m in \u001b[0;36m_setup_widget_manager\u001b[0;34m()\u001b[0m\n\u001b[1;32m     46\u001b[0m     \u001b[0;32mglobal\u001b[0m \u001b[0m_widget_manager\u001b[0m\u001b[0;34m\u001b[0m\u001b[0m\n\u001b[1;32m     47\u001b[0m     \u001b[0;32mif\u001b[0m \u001b[0m_widget_manager\u001b[0m \u001b[0;32mis\u001b[0m \u001b[0mNone\u001b[0m\u001b[0;34m:\u001b[0m\u001b[0;34m\u001b[0m\u001b[0m\n\u001b[0;32m---> 48\u001b[0;31m         \u001b[0;32mfrom\u001b[0m \u001b[0mmayavi\u001b[0m\u001b[0;34m.\u001b[0m\u001b[0mtools\u001b[0m\u001b[0;34m.\u001b[0m\u001b[0mremote\u001b[0m\u001b[0;34m.\u001b[0m\u001b[0mipy_remote\u001b[0m \u001b[0;32mimport\u001b[0m \u001b[0mWidgetManager\u001b[0m\u001b[0;34m\u001b[0m\u001b[0m\n\u001b[0m\u001b[1;32m     49\u001b[0m         \u001b[0m_widget_manager\u001b[0m \u001b[0;34m=\u001b[0m \u001b[0mWidgetManager\u001b[0m\u001b[0;34m(\u001b[0m\u001b[0;34m)\u001b[0m\u001b[0;34m\u001b[0m\u001b[0m\n\u001b[1;32m     50\u001b[0m \u001b[0;34m\u001b[0m\u001b[0m\n",
      "\u001b[0;32m/Users/bhuang/anaconda2/lib/python2.7/site-packages/mayavi-4.7.0.dev0-py2.7-macosx-10.6-x86_64.egg/mayavi/tools/remote/ipy_remote.py\u001b[0m in \u001b[0;36m<module>\u001b[0;34m()\u001b[0m\n\u001b[1;32m      2\u001b[0m \u001b[0;32mfrom\u001b[0m \u001b[0mIPython\u001b[0m\u001b[0;34m.\u001b[0m\u001b[0mdisplay\u001b[0m \u001b[0;32mimport\u001b[0m \u001b[0mdisplay\u001b[0m\u001b[0;34m\u001b[0m\u001b[0m\n\u001b[1;32m      3\u001b[0m \u001b[0;32mfrom\u001b[0m \u001b[0mipywidgets\u001b[0m \u001b[0;32mimport\u001b[0m \u001b[0mImage\u001b[0m\u001b[0;34m\u001b[0m\u001b[0m\n\u001b[0;32m----> 4\u001b[0;31m \u001b[0;32mfrom\u001b[0m \u001b[0mipyevents\u001b[0m \u001b[0;32mimport\u001b[0m \u001b[0mEvent\u001b[0m\u001b[0;34m\u001b[0m\u001b[0m\n\u001b[0m\u001b[1;32m      5\u001b[0m \u001b[0;34m\u001b[0m\u001b[0m\n\u001b[1;32m      6\u001b[0m \u001b[0;32mfrom\u001b[0m \u001b[0;34m.\u001b[0m\u001b[0mbridge\u001b[0m \u001b[0;32mimport\u001b[0m \u001b[0mLocalBridge\u001b[0m\u001b[0;34m\u001b[0m\u001b[0m\n",
      "\u001b[0;31mImportError\u001b[0m: No module named ipyevents"
     ]
    }
   ],
   "source": [
    "from mayavi import mlab\n",
    "mlab.init_notebook()"
   ]
  },
  {
   "cell_type": "code",
   "execution_count": null,
   "metadata": {},
   "outputs": [],
   "source": []
  }
 ],
 "metadata": {
  "kernelspec": {
   "display_name": "Python 2",
   "language": "python",
   "name": "python2"
  },
  "language_info": {
   "codemirror_mode": {
    "name": "ipython",
    "version": 2
   },
   "file_extension": ".py",
   "mimetype": "text/x-python",
   "name": "python",
   "nbconvert_exporter": "python",
   "pygments_lexer": "ipython2",
   "version": "2.7.15"
  }
 },
 "nbformat": 4,
 "nbformat_minor": 2
}
