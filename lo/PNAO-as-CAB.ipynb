{
 "cells": [
  {
   "cell_type": "code",
   "execution_count": 22,
   "metadata": {},
   "outputs": [],
   "source": [
    "import numpy as np\n",
    "import aqml.cheminfo.core as cc\n",
    "from importlib import reload\n",
    "import visualization.ipyvol as pv\n",
    "\n",
    "import aqml.cheminfo as co\n",
    "import io2\n",
    "b2a = io2.Units().b2a\n",
    "\n",
    "#import ase.io as aio\n",
    "import calculators.pscf as qc\n",
    "\n",
    "reload(qc); reload(pv); reload(co)\n",
    "\n",
    "T,F = True,False\n",
    "np.set_printoptions(precision=2,suppress=True)\n",
    "\n",
    "m = cc.molecule('test/c02h06.xyz')"
   ]
  },
  {
   "cell_type": "code",
   "execution_count": 23,
   "metadata": {},
   "outputs": [],
   "source": [
    "import lo.aim as la\n",
    "import calculators.pscf as pf\n",
    "reload(la); reload(pf);\n",
    "\n",
    "m.rotate(30, v=(1,1,1), center=m.coords[0])\n",
    "\n",
    "m1 = la.aimcao(m, meth='b3lyp', basis='cc-pvdz')\n",
    "\n",
    "#o1, c1 = m1.pnao\n",
    "\n",
    "p = m1.get_dm_cab()"
   ]
  },
  {
   "cell_type": "code",
   "execution_count": 24,
   "metadata": {},
   "outputs": [
    {
     "name": "stdout",
     "output_type": "stream",
     "text": [
      "[ 2.    1.94  1.9   1.9   1.77  0.46  0.17  0.17  0.    0.    0.   -0.\n",
      " -0.   -0.    2.    1.94  1.9   1.9   1.77  0.46  0.17  0.17  0.    0.\n",
      "  0.    0.   -0.   -0.    1.75  0.38  0.09  0.08  0.01  1.75  0.38  0.09\n",
      "  0.08  0.01  1.75  0.38  0.09  0.08  0.01  1.75  0.38  0.09  0.08  0.01\n",
      "  1.75  0.38  0.09  0.08  0.01  1.75  0.38  0.09  0.08  0.01] \n",
      " [[ 0.    0.04 -0.07]\n",
      " [-0.   -0.04 -0.32]\n",
      " [ 0.17  0.64 -0.54]\n",
      " [ 0.3  -0.64 -0.4 ]\n",
      " [ 0.45  0.18  0.47]]\n"
     ]
    }
   ],
   "source": [
    "print(m1.pnao[0], '\\n', m1.pnao[1][-5:,-3:])"
   ]
  },
  {
   "cell_type": "code",
   "execution_count": 25,
   "metadata": {},
   "outputs": [
    {
     "data": {
      "text/plain": [
       "array([[ 2.17,  0.11, -0.  ,  0.  ,  0.02, -0.  ,  0.  ,  0.  , -0.  ,\n",
       "         0.  ,  0.  , -0.  , -0.  ,  0.  ],\n",
       "       [ 0.11,  1.04, -0.  , -0.  ,  0.08, -0.05,  0.  ,  0.  , -0.05,\n",
       "         0.  ,  0.01, -0.  , -0.  ,  0.06],\n",
       "       [-0.  , -0.  ,  0.79,  0.  , -0.  , -0.  ,  0.02, -0.01, -0.  ,\n",
       "        -0.13, -0.1 , -0.04,  0.01,  0.01],\n",
       "       [ 0.  , -0.  ,  0.  ,  0.8 , -0.  , -0.  ,  0.01,  0.02, -0.  ,\n",
       "        -0.07,  0.15, -0.08,  0.1 , -0.01],\n",
       "       [ 0.02,  0.08, -0.  , -0.  ,  1.16, -0.17,  0.  ,  0.  ,  0.27,\n",
       "        -0.  , -0.  ,  0.  ,  0.  , -0.01],\n",
       "       [-0.  , -0.05, -0.  , -0.  , -0.17,  0.03, -0.  , -0.  , -0.04,\n",
       "        -0.  , -0.  ,  0.  ,  0.  , -0.  ],\n",
       "       [ 0.  ,  0.  ,  0.02,  0.01,  0.  , -0.  ,  0.  ,  0.  ,  0.  ,\n",
       "        -0.  , -0.  , -0.  ,  0.  ,  0.  ],\n",
       "       [ 0.  ,  0.  , -0.01,  0.02,  0.  , -0.  ,  0.  ,  0.  ,  0.  ,\n",
       "        -0.  ,  0.  , -0.  ,  0.  , -0.  ],\n",
       "       [-0.  , -0.05, -0.  , -0.  ,  0.27, -0.04,  0.  ,  0.  ,  0.07,\n",
       "        -0.  , -0.  ,  0.  ,  0.  , -0.01],\n",
       "       [ 0.  ,  0.  , -0.13, -0.07, -0.  , -0.  , -0.  , -0.  , -0.  ,\n",
       "         0.03,  0.01,  0.01, -0.01, -0.  ],\n",
       "       [ 0.  ,  0.01, -0.1 ,  0.15, -0.  , -0.  , -0.  ,  0.  , -0.  ,\n",
       "         0.01,  0.04, -0.01,  0.02, -0.  ],\n",
       "       [-0.  , -0.  , -0.04, -0.08,  0.  ,  0.  , -0.  , -0.  ,  0.  ,\n",
       "         0.01, -0.01,  0.01, -0.01,  0.  ],\n",
       "       [-0.  , -0.  ,  0.01,  0.1 ,  0.  ,  0.  ,  0.  ,  0.  ,  0.  ,\n",
       "        -0.01,  0.02, -0.01,  0.01, -0.  ],\n",
       "       [ 0.  ,  0.06,  0.01, -0.01, -0.01, -0.  ,  0.  , -0.  , -0.01,\n",
       "        -0.  , -0.  ,  0.  , -0.  ,  0.  ]])"
      ]
     },
     "execution_count": 25,
     "metadata": {},
     "output_type": "execute_result"
    }
   ],
   "source": [
    "n=14\n",
    "p[:n, :n]"
   ]
  },
  {
   "cell_type": "code",
   "execution_count": null,
   "metadata": {},
   "outputs": [],
   "source": []
  },
  {
   "cell_type": "code",
   "execution_count": 4,
   "metadata": {},
   "outputs": [
    {
     "ename": "NameError",
     "evalue": "name 'c1' is not defined",
     "output_type": "error",
     "traceback": [
      "\u001b[0;31m-----------------------------------------------\u001b[0m",
      "\u001b[0;31mNameError\u001b[0m     Traceback (most recent call last)",
      "\u001b[0;32m<ipython-input-4-f977fbdb44a4>\u001b[0m in \u001b[0;36m<module>\u001b[0;34m\u001b[0m\n\u001b[1;32m      3\u001b[0m \u001b[0;31m#idx = [ i for i in range(53,58) ]\u001b[0m\u001b[0;34m\u001b[0m\u001b[0;34m\u001b[0m\u001b[0;34m\u001b[0m\u001b[0m\n\u001b[1;32m      4\u001b[0m \u001b[0;31m#idx = [0, 1,2,3,4]\u001b[0m\u001b[0;34m\u001b[0m\u001b[0;34m\u001b[0m\u001b[0;34m\u001b[0m\u001b[0m\n\u001b[0;32m----> 5\u001b[0;31m \u001b[0morigin\u001b[0m\u001b[0;34m,\u001b[0m \u001b[0mcell\u001b[0m\u001b[0;34m,\u001b[0m \u001b[0mdata\u001b[0m \u001b[0;34m=\u001b[0m \u001b[0mobj\u001b[0m\u001b[0;34m.\u001b[0m\u001b[0morbital\u001b[0m\u001b[0;34m(\u001b[0m\u001b[0mc1\u001b[0m\u001b[0;34m,\u001b[0m \u001b[0midx\u001b[0m\u001b[0;34m=\u001b[0m\u001b[0midx\u001b[0m\u001b[0;34m)\u001b[0m \u001b[0;31m#, grids=[100,100,100], label='test/c02h06_pnao')\u001b[0m\u001b[0;34m\u001b[0m\u001b[0;34m\u001b[0m\u001b[0m\n\u001b[0m",
      "\u001b[0;31mNameError\u001b[0m: name 'c1' is not defined"
     ]
    }
   ],
   "source": [
    "obj = qc.io(m1.mol)\n",
    "idx = [ i for i in range(14) ]\n",
    "#idx = [ i for i in range(53,58) ]\n",
    "#idx = [0, 1,2,3,4]\n",
    "origin, cell, data = obj.orbital(c1, idx=idx) #, grids=[100,100,100], label='test/c02h06_pnao')"
   ]
  },
  {
   "cell_type": "code",
   "execution_count": null,
   "metadata": {},
   "outputs": [],
   "source": [
    "\n",
    "dt = data[2]\n",
    "iso = 0.1 #np.median( dt[dt>0] )\n",
    "boundary = [ [origin[i]*b2a, b2a*(origin[i]+cell[i,i])] for i in range(3) ]\n",
    "\n",
    "m.view(origin=origin, boundary=boundary, data=dt, iso=iso) #, holdon=ho)\n"
   ]
  },
  {
   "cell_type": "code",
   "execution_count": null,
   "metadata": {},
   "outputs": [],
   "source": [
    "c1[:,2]"
   ]
  },
  {
   "cell_type": "code",
   "execution_count": null,
   "metadata": {},
   "outputs": [],
   "source": [
    "#m.rotate(60, v=(1,1,1))\n",
    "#aobj = la.aimcao(m, meth='b3lyp', basis='cc-pvdz')\n",
    "#aobj.pnao"
   ]
  },
  {
   "cell_type": "code",
   "execution_count": null,
   "metadata": {},
   "outputs": [],
   "source": []
  },
  {
   "cell_type": "code",
   "execution_count": null,
   "metadata": {
    "scrolled": true
   },
   "outputs": [],
   "source": [
    "meth = 'b3lyp' # 'eht'; \n",
    "basis = 'cc-pvdz'\n",
    "om = qc.calculator(m, basis=basis, meth=meth)\n",
    "om.get_h()\n",
    "o, c = om.get_pnao()\n",
    "print(sum(o), o)"
   ]
  },
  {
   "cell_type": "code",
   "execution_count": null,
   "metadata": {},
   "outputs": [],
   "source": [
    "obj = qc.io(om.mol)\n",
    "idx = [ i for i in range(14) ]\n",
    "#idx = [ i for i in range(53,58) ]\n",
    "#idx = [0, 1,2,3,4]\n",
    "origin, cell, data = obj.orbital(c, idx=idx) #, grids=[100,100,100], label='test/c02h06_pnao')"
   ]
  },
  {
   "cell_type": "code",
   "execution_count": null,
   "metadata": {},
   "outputs": [],
   "source": [
    "\n",
    "dt = data[2]\n",
    "iso = 0.01 #np.median( dt[dt>0] )\n",
    "boundary = [ [origin[i]*b2a, b2a*(origin[i]+cell[i,i])] for i in range(3) ]\n",
    "\n",
    "m.view(origin=origin, boundary=boundary) #, data=dt, iso=iso) #, holdon=ho)\n",
    "\n"
   ]
  },
  {
   "cell_type": "code",
   "execution_count": null,
   "metadata": {},
   "outputs": [],
   "source": [
    "meth = 'hf'; basis = 'cc-pvdz'\n",
    "om = qc.calculator(m, basis=basis)\n",
    "om.get_h(meth=meth)\n",
    "o, c = om.get_pnao()\n",
    "print(sum(o), o)"
   ]
  },
  {
   "cell_type": "code",
   "execution_count": null,
   "metadata": {},
   "outputs": [],
   "source": [
    "basis = 'cc-pvdz'\n",
    "om = qc.calculator(m, basis=basis)\n",
    "om.get_h(meth='b3lyp')\n",
    "o, c = om.get_pnao()\n",
    "print(sum(o), o)"
   ]
  },
  {
   "cell_type": "code",
   "execution_count": null,
   "metadata": {},
   "outputs": [],
   "source": [
    "om2 = qc.calculator(m, basis=basis)\n",
    "om2.get_h(meth='cisd', frozen=4)\n",
    "o2, c2 = om2.get_pnao()\n",
    "print(sum(o2), o2)"
   ]
  },
  {
   "cell_type": "code",
   "execution_count": null,
   "metadata": {},
   "outputs": [],
   "source": []
  },
  {
   "cell_type": "code",
   "execution_count": null,
   "metadata": {},
   "outputs": [],
   "source": [
    "om2 = qc.calculator(m, basis=basis)\n",
    "om2.get_h(meth='ccsd', frozen=4)\n",
    "o2, c2 = om2.get_pnao()\n",
    "print(sum(o2), o2)"
   ]
  },
  {
   "cell_type": "code",
   "execution_count": null,
   "metadata": {},
   "outputs": [],
   "source": []
  },
  {
   "cell_type": "code",
   "execution_count": null,
   "metadata": {},
   "outputs": [],
   "source": [
    "import os\n",
    "os.environ['OMP_NUM_THREADS'] = '16'"
   ]
  },
  {
   "cell_type": "code",
   "execution_count": null,
   "metadata": {},
   "outputs": [],
   "source": []
  },
  {
   "cell_type": "code",
   "execution_count": null,
   "metadata": {},
   "outputs": [],
   "source": [
    "obj = qc.io(om2.mol)\n",
    "idx = [ i for i in range(14) ]\n",
    "#idx = [ i for i in range(53,58) ]\n",
    "#idx = [0, 1,2,3,4]\n",
    "origin2, cell2, data2 = obj.orbital(c2, idx=idx) #, grids=[100,100,100], label='test/c02h06_pnao')"
   ]
  },
  {
   "cell_type": "code",
   "execution_count": null,
   "metadata": {},
   "outputs": [],
   "source": [
    "dt.min(), dt.max()"
   ]
  },
  {
   "cell_type": "code",
   "execution_count": null,
   "metadata": {},
   "outputs": [],
   "source": [
    "aoidx = [2,3]\n",
    "\n",
    "#for i0,i in enumerate(aoidx):\n",
    "\n",
    "dt = data[2]\n",
    "iso = 0.045 #75 #np.median( dt[dt>0] )\n",
    "boundary2 = [ [origin2[i]*b2a, b2a*(origin2[i]+cell2[i,i])] for i in range(3) ]\n",
    "ho = F if i0==0 else T\n",
    "m.view(origin=origin2, boundary=boundary2, data=dt, iso=iso) #, holdon=ho)\n",
    "\n"
   ]
  },
  {
   "cell_type": "code",
   "execution_count": null,
   "metadata": {},
   "outputs": [],
   "source": [
    "from pyscf import scf, dft"
   ]
  },
  {
   "cell_type": "code",
   "execution_count": null,
   "metadata": {},
   "outputs": [],
   "source": [
    "from pyscf.data import elements"
   ]
  },
  {
   "cell_type": "code",
   "execution_count": null,
   "metadata": {},
   "outputs": [],
   "source": [
    "elements.NRSRHF_CONFIGURATION"
   ]
  },
  {
   "cell_type": "code",
   "execution_count": null,
   "metadata": {},
   "outputs": [],
   "source": [
    "import aqml.cheminfo.molecule.elements as cme"
   ]
  },
  {
   "cell_type": "code",
   "execution_count": null,
   "metadata": {},
   "outputs": [],
   "source": [
    "import numpy as np"
   ]
  },
  {
   "cell_type": "code",
   "execution_count": null,
   "metadata": {},
   "outputs": [],
   "source": [
    "aobj.es"
   ]
  },
  {
   "cell_type": "code",
   "execution_count": null,
   "metadata": {},
   "outputs": [],
   "source": [
    "aobj = la.ascf('C', meth='hf', basis='cc-pvdz')\n",
    "aobj.es"
   ]
  },
  {
   "cell_type": "code",
   "execution_count": null,
   "metadata": {},
   "outputs": [],
   "source": []
  }
 ],
 "metadata": {
  "kernelspec": {
   "display_name": "Python 3",
   "language": "python",
   "name": "python3"
  },
  "language_info": {
   "codemirror_mode": {
    "name": "ipython",
    "version": 3
   },
   "file_extension": ".py",
   "mimetype": "text/x-python",
   "name": "python",
   "nbconvert_exporter": "python",
   "pygments_lexer": "ipython3",
   "version": "3.7.1"
  },
  "latex_envs": {
   "LaTeX_envs_menu_present": true,
   "autoclose": true,
   "autocomplete": true,
   "bibliofile": "biblio.bib",
   "cite_by": "apalike",
   "current_citInitial": 1,
   "eqLabelWithNumbers": true,
   "eqNumInitial": 1,
   "hotkeys": {
    "equation": "Ctrl-E",
    "itemize": "Ctrl-I"
   },
   "labels_anchors": false,
   "latex_user_defs": false,
   "report_style_numbering": false,
   "user_envs_cfg": false
  },
  "toc": {
   "base_numbering": 1,
   "nav_menu": {},
   "number_sections": true,
   "sideBar": true,
   "skip_h1_title": false,
   "title_cell": "Table of Contents",
   "title_sidebar": "Contents",
   "toc_cell": false,
   "toc_position": {},
   "toc_section_display": true,
   "toc_window_display": false
  }
 },
 "nbformat": 4,
 "nbformat_minor": 2
}
