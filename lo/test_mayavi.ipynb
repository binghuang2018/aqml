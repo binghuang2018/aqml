{
 "cells": [
  {
   "cell_type": "code",
   "execution_count": 1,
   "metadata": {},
   "outputs": [
    {
     "name": "stdout",
     "output_type": "stream",
     "text": [
      "Notebook initialized with ipy backend.\n"
     ]
    }
   ],
   "source": [
    "from mayavi import mlab\n",
    "from ase.io.cube import read_cube_data\n",
    "import numpy as np\n",
    "import io2\n",
    "\n",
    "mlab.init_notebook()\n",
    "mlab.figure()\n",
    "data, atoms = read_cube_data('ch4_1.cube')\n",
    "b2a = io2.Units().b2a\n",
    "cell = np.array([8.46, 8.46, 8.46]) * b2a\n",
    "orig = np.array([-4.189227,   -4.189227,   -4.189227])\n",
    "#grids = np.array(data.shape)"
   ]
  },
  {
   "cell_type": "code",
   "execution_count": 2,
   "metadata": {},
   "outputs": [],
   "source": [
    "#mlab.figure()\n",
    "#mlab.test_plot3d()\n",
    "#mlab.axes(x_axis_visibility=True,y_axis_visibility=True)"
   ]
  },
  {
   "cell_type": "code",
   "execution_count": 3,
   "metadata": {},
   "outputs": [],
   "source": [
    "import io2.visual as iov"
   ]
  },
  {
   "cell_type": "code",
   "execution_count": 4,
   "metadata": {},
   "outputs": [],
   "source": [
    "#iov.contour3d([0.02,-0.02], ['red','green'], filename='ch4_1.cube')"
   ]
  },
  {
   "cell_type": "code",
   "execution_count": 5,
   "metadata": {},
   "outputs": [],
   "source": [
    "#iov.contour3d([0.02,-0.02], ['red','green'], filename='ch4_2.cube')"
   ]
  },
  {
   "cell_type": "code",
   "execution_count": 83,
   "metadata": {},
   "outputs": [],
   "source": [
    "from pyscf.lo.orth import pre_orth_ao_atm_scf, lowdin\n",
    "import numpy as np\n",
    "import numpy.linalg as LA\n",
    "from pyscf import gto, scf\n",
    "from aqml.cheminfo.base import *\n",
    "from functools import reduce\n",
    "import io2.visual as iov\n",
    "from ase import Atoms\n",
    "import interfaces._pyscf as pscf\n",
    "\n",
    "lmap = {'s':0, 'p':1, 'd':2, 'f':3, 'g':4}\n",
    "mmap = {'':0, \\\n",
    "        'x':0, 'y':1, 'z':2, \\\n",
    "        'xy':0, 'yz':1, 'z^2':2, 'xz':3, 'x2-y2':4 }\n",
    "nmap = {1:1, 6:2, 7:2, 8:2, 9:2, 15:3,16:3,17:3} # for MINBASIS\n",
    "\n",
    "\n",
    "class pyscf_object(object):\n",
    "\n",
    "    def __init__(self, symbs, coords, basis):\n",
    "        zs = [ chemical_symbols.index(si) for si in symbs ]\n",
    "        na = len(symbs)\n",
    "        symbs1 = [ symbs[0], ] + [ 'H@2' ]*(na-1)\n",
    "        basis1 = { symbs[0]: basis, 'H@2':'sto-3g' }\n",
    "        spin1 = sum(zs)%2\n",
    "        str_m = '' #'O 0 0 0; H 0 0 1; H 0 1 0'\n",
    "        for i, si in enumerate(symbs1):\n",
    "            x, y, z = coords[i]\n",
    "            str_m += '%s %.8f %.8f %.8f; '%(si, x, y, z)\n",
    "        str_m = str_m[:-2]\n",
    "        mol = gto.M(atom=str_m, basis=basis1, verbose=0, spin=spin1)\n",
    "        self.mol = mol\n",
    "        self.atoms = Atoms(symbs,coords)\n",
    "        self.na = na\n",
    "        self.nbf = mol.nao\n",
    "        self.zs = zs \n",
    "        \n",
    "    def get_ao_map(self):\n",
    "        ids = self.mol.offset_ao_by_atom()[:, 2:4]\n",
    "        ibs, ies = ids[:,0], ids[:,1]\n",
    "        self.ibs = ibs\n",
    "        self.ies = ies\n",
    "        idx = [ np.arange(ibs[i],ies[i]) for i in range(self.na) ]\n",
    "        self.idx = idx\n",
    "        imap = np.zeros(self.nbf).astype(np.int)\n",
    "        for i in range(self.na):\n",
    "            imap[ibs[i]:ies[i]] = i\n",
    "        self.imap = imap\n",
    "        labels = self.mol.ao_labels()\n",
    "        nlms = []\n",
    "        for _lb in labels:\n",
    "            lb = _lb.strip().split()[-1]\n",
    "            n = int(lb[0])\n",
    "            l = lmap[lb[1]]\n",
    "            m = mmap[lb[2:]]\n",
    "            nlms.append( [n,l,m] )\n",
    "        nlms = np.array(nlms, np.int)\n",
    "        \n",
    "        _idxc = idx[0] # AO idx of the central atom\n",
    "        _iaosr = np.arange(len(_idxc))\n",
    "        _nlms = nlms[_idxc]\n",
    "\n",
    "         # to be changed if a bsis other than minimal bst is used\n",
    "        #flt = np.logical_and(_nlms[:,0]==nmap[self.zs[0]], _nlms[:,1]>0)\n",
    "        flt = ( _nlms[:,0]==nmap[self.zs[0]] )\n",
    "        iaosr = _iaosr[flt]\n",
    "\n",
    "        idxc = _idxc[ flt ] # AO's to be rotated\n",
    "        #idxc_f = _idxc[ _nlms[:,1]==0 ] # AO not to be rotated\n",
    "\n",
    "        idxs = np.arange(self.nbf)\n",
    "        idxl = np.setdiff1d(idxs, _idxc) # AO idx of ligands (i.e., H's)\n",
    "        self.idxl = idxl\n",
    "        self.idxc = idxc\n",
    "\n",
    "    def get_hao(self):\n",
    "        \"\"\"\n",
    "        C: central atom\n",
    "        L: ligands (i.e., hydrogen atoms)\n",
    "        \"\"\"\n",
    "        mol = self.mol\n",
    "        # get atomic orbitals (from RHF calculations of free atoms)\n",
    "        T0 = pre_orth_ao_atm_scf(mol) #\n",
    "        self.T0 = T0\n",
    "        _s = mol.intor_symmetric('int1e_ovlp')\n",
    "        s = reduce( np.dot, (T0.conjugate().T, _s, T0) )\n",
    "        #print( ' s1 = ', reduce( np.dot, (T0, _s, T0.conjugate().T) ))\n",
    "        #print( ' s2 = ', s )\n",
    "        self.get_ao_map()\n",
    "        s1 = s[self.idxl][:,self.idxc] \n",
    "        #''' new basis is |mu> c^{lowdin}_{mu i} '''        \n",
    "        #c_orth = np.dot(c, lowdin(s1))\n",
    "        U, eigs, VT = LA.svd(s1, full_matrices=False, compute_uv=True)\n",
    "        R = np.dot(U,VT)\n",
    "        T1 = np.eye(self.nbf)\n",
    "        ib,ie = self.idxc[0], self.idxc[-1]+1\n",
    "        T1[ib:ie,ib:ie] = R #.T\n",
    "        self.T1 = T1\n",
    "        self.coeffs = np.dot(T0,T1)\n",
    "        return eigs, R #.T\n",
    "\n",
    "    def visualize_hao(self, grids=[80,80,80]):\n",
    "        oobj = pscf.io(self.mol)\n",
    "        origin, cell, data = oobj.orbital(self.coeffs, grids=grids)\n",
    "        return self.atoms, origin, cell, data"
   ]
  },
  {
   "cell_type": "code",
   "execution_count": 84,
   "metadata": {},
   "outputs": [],
   "source": [
    "np.set_printoptions(precision=2,suppress=True)"
   ]
  },
  {
   "cell_type": "code",
   "execution_count": 85,
   "metadata": {},
   "outputs": [],
   "source": [
    "symbols, coords = read_xyz_simple('ch4.xyz')[:2]\n",
    "obj = pyscf_object(symbols, coords, 'sto-3g')\n",
    "eigs, c = obj.get_hao()"
   ]
  },
  {
   "cell_type": "code",
   "execution_count": 86,
   "metadata": {
    "scrolled": true
   },
   "outputs": [
    {
     "name": "stdout",
     "output_type": "stream",
     "text": [
      "eigs =  [0.98 0.54 0.54 0.54]\n",
      " c = \n",
      " [[ 0.5 -0.5 -0.5 -0.5]\n",
      " [ 0.5  0.5  0.5 -0.5]\n",
      " [ 0.5  0.5 -0.5  0.5]\n",
      " [ 0.5 -0.5  0.5  0.5]]\n"
     ]
    }
   ],
   "source": [
    "print( 'eigs = ', eigs)\n",
    "print( ' c = \\n', c)"
   ]
  },
  {
   "cell_type": "code",
   "execution_count": 89,
   "metadata": {},
   "outputs": [
    {
     "data": {
      "application/vnd.jupyter.widget-view+json": {
       "model_id": "34fe33f07cd743efb8ce134013e5e01e",
       "version_major": 2,
       "version_minor": 0
      },
      "text/plain": [
       "Image(value=b'\\x89PNG\\r\\n\\x1a\\n\\x00\\x00\\x00\\rIHDR\\x00\\x00\\x01^\\x00\\x00\\x01^\\x08\\x02\\x00\\x00\\x00BI\\xe0M\\x00\\x00…"
      ]
     },
     "metadata": {},
     "output_type": "display_data"
    }
   ],
   "source": [
    "atoms, origin, cell, dt = obj.visualize_hao(grids=[80,80,80])\n",
    "isovalues=[-0.1,0.1]; colors=['green','red']\n",
    "ihao = 0\n",
    "vobj = iov.contour3d(isovalues, colors, fid=1, atoms=atoms, data=dt[ihao], box=cell, origin=origin)\n",
    "vobj"
   ]
  },
  {
   "cell_type": "code",
   "execution_count": 49,
   "metadata": {},
   "outputs": [
    {
     "data": {
      "text/plain": [
       "array([[ 0.99, -0.14, -0.14, -0.14, -0.14,  0.  ,  0.  ,  0.  ,  0.  ],\n",
       "       [ 0.02,  0.52,  0.52,  0.52,  0.52,  0.  ,  0.  ,  0.  ,  0.  ],\n",
       "       [ 0.  , -0.5 ,  0.5 ,  0.5 , -0.5 ,  0.  ,  0.  ,  0.  ,  0.  ],\n",
       "       [ 0.  , -0.5 ,  0.5 , -0.5 ,  0.5 ,  0.  ,  0.  ,  0.  ,  0.  ],\n",
       "       [ 0.  , -0.5 , -0.5 ,  0.5 ,  0.5 ,  0.  ,  0.  ,  0.  ,  0.  ],\n",
       "       [ 0.  ,  0.  ,  0.  ,  0.  ,  0.  ,  1.  ,  0.  ,  0.  ,  0.  ],\n",
       "       [ 0.  ,  0.  ,  0.  ,  0.  ,  0.  ,  0.  ,  1.  ,  0.  ,  0.  ],\n",
       "       [ 0.  ,  0.  ,  0.  ,  0.  ,  0.  ,  0.  ,  0.  ,  1.  ,  0.  ],\n",
       "       [ 0.  ,  0.  ,  0.  ,  0.  ,  0.  ,  0.  ,  0.  ,  0.  ,  1.  ]])"
      ]
     },
     "execution_count": 49,
     "metadata": {},
     "output_type": "execute_result"
    }
   ],
   "source": [
    "obj.coeffs"
   ]
  },
  {
   "cell_type": "code",
   "execution_count": 54,
   "metadata": {
    "scrolled": true
   },
   "outputs": [
    {
     "data": {
      "text/plain": [
       "array([[ 0.99, -0.28,  0.  ,  0.  ,  0.  ,  0.  ,  0.  ,  0.  ,  0.  ],\n",
       "       [ 0.02,  1.03,  0.  ,  0.  ,  0.  ,  0.  ,  0.  ,  0.  ,  0.  ],\n",
       "       [ 0.  ,  0.  ,  1.  ,  0.  ,  0.  ,  0.  ,  0.  ,  0.  ,  0.  ],\n",
       "       [ 0.  ,  0.  ,  0.  ,  1.  ,  0.  ,  0.  ,  0.  ,  0.  ,  0.  ],\n",
       "       [ 0.  ,  0.  ,  0.  ,  0.  ,  1.  ,  0.  ,  0.  ,  0.  ,  0.  ],\n",
       "       [ 0.  ,  0.  ,  0.  ,  0.  ,  0.  ,  1.  ,  0.  ,  0.  ,  0.  ],\n",
       "       [ 0.  ,  0.  ,  0.  ,  0.  ,  0.  ,  0.  ,  1.  ,  0.  ,  0.  ],\n",
       "       [ 0.  ,  0.  ,  0.  ,  0.  ,  0.  ,  0.  ,  0.  ,  1.  ,  0.  ],\n",
       "       [ 0.  ,  0.  ,  0.  ,  0.  ,  0.  ,  0.  ,  0.  ,  0.  ,  1.  ]])"
      ]
     },
     "execution_count": 54,
     "metadata": {},
     "output_type": "execute_result"
    }
   ],
   "source": [
    "obj.T0"
   ]
  },
  {
   "cell_type": "code",
   "execution_count": 55,
   "metadata": {},
   "outputs": [
    {
     "data": {
      "text/plain": [
       "array([[ 1. ,  0. ,  0. ,  0. ,  0. ,  0. ,  0. ,  0. ,  0. ],\n",
       "       [ 0. ,  0.5,  0.5,  0.5,  0.5,  0. ,  0. ,  0. ,  0. ],\n",
       "       [ 0. , -0.5,  0.5,  0.5, -0.5,  0. ,  0. ,  0. ,  0. ],\n",
       "       [ 0. , -0.5,  0.5, -0.5,  0.5,  0. ,  0. ,  0. ,  0. ],\n",
       "       [ 0. , -0.5, -0.5,  0.5,  0.5,  0. ,  0. ,  0. ,  0. ],\n",
       "       [ 0. ,  0. ,  0. ,  0. ,  0. ,  1. ,  0. ,  0. ,  0. ],\n",
       "       [ 0. ,  0. ,  0. ,  0. ,  0. ,  0. ,  1. ,  0. ,  0. ],\n",
       "       [ 0. ,  0. ,  0. ,  0. ,  0. ,  0. ,  0. ,  1. ,  0. ],\n",
       "       [ 0. ,  0. ,  0. ,  0. ,  0. ,  0. ,  0. ,  0. ,  1. ]])"
      ]
     },
     "execution_count": 55,
     "metadata": {},
     "output_type": "execute_result"
    }
   ],
   "source": [
    "obj.T1"
   ]
  },
  {
   "cell_type": "code",
   "execution_count": 12,
   "metadata": {},
   "outputs": [
    {
     "ename": "RuntimeError",
     "evalue": "Electron number 13 and spin 0 are not consistent\nNote mol.spin = 2S = Nalpha - Nbeta, not 2S+1",
     "output_type": "error",
     "traceback": [
      "\u001b[0;31m---------------------------------------------------------------------------\u001b[0m",
      "\u001b[0;31mRuntimeError\u001b[0m                              Traceback (most recent call last)",
      "\u001b[0;32m<ipython-input-12-9d2390299d32>\u001b[0m in \u001b[0;36m<module>\u001b[0;34m\u001b[0m\n\u001b[1;32m      1\u001b[0m \u001b[0msymbols\u001b[0m\u001b[0;34m,\u001b[0m \u001b[0mcoords\u001b[0m \u001b[0;34m=\u001b[0m \u001b[0mread_xyz_simple\u001b[0m\u001b[0;34m(\u001b[0m\u001b[0;34m'test/c02h06.xyz'\u001b[0m\u001b[0;34m)\u001b[0m\u001b[0;34m[\u001b[0m\u001b[0;34m:\u001b[0m\u001b[0;36m2\u001b[0m\u001b[0;34m]\u001b[0m\u001b[0;34m\u001b[0m\u001b[0;34m\u001b[0m\u001b[0m\n\u001b[0;32m----> 2\u001b[0;31m \u001b[0mobj\u001b[0m \u001b[0;34m=\u001b[0m \u001b[0mpyscf_object\u001b[0m\u001b[0;34m(\u001b[0m\u001b[0msymbols\u001b[0m\u001b[0;34m,\u001b[0m \u001b[0mcoords\u001b[0m\u001b[0;34m,\u001b[0m \u001b[0;34m'sto-3g'\u001b[0m\u001b[0;34m)\u001b[0m\u001b[0;34m\u001b[0m\u001b[0;34m\u001b[0m\u001b[0m\n\u001b[0m\u001b[1;32m      3\u001b[0m \u001b[0meigs\u001b[0m\u001b[0;34m,\u001b[0m \u001b[0mc\u001b[0m \u001b[0;34m=\u001b[0m \u001b[0mobj\u001b[0m\u001b[0;34m.\u001b[0m\u001b[0mget_hao\u001b[0m\u001b[0;34m(\u001b[0m\u001b[0;34m)\u001b[0m\u001b[0;34m\u001b[0m\u001b[0;34m\u001b[0m\u001b[0m\n",
      "\u001b[0;32m<ipython-input-6-3b066534c69e>\u001b[0m in \u001b[0;36m__init__\u001b[0;34m(self, symbs, coords, basis)\u001b[0m\n\u001b[1;32m     29\u001b[0m             \u001b[0mstr_m\u001b[0m \u001b[0;34m+=\u001b[0m \u001b[0;34m'%s %.8f %.8f %.8f; '\u001b[0m\u001b[0;34m%\u001b[0m\u001b[0;34m(\u001b[0m\u001b[0msi\u001b[0m\u001b[0;34m,\u001b[0m \u001b[0mx\u001b[0m\u001b[0;34m,\u001b[0m \u001b[0my\u001b[0m\u001b[0;34m,\u001b[0m \u001b[0mz\u001b[0m\u001b[0;34m)\u001b[0m\u001b[0;34m\u001b[0m\u001b[0;34m\u001b[0m\u001b[0m\n\u001b[1;32m     30\u001b[0m         \u001b[0mstr_m\u001b[0m \u001b[0;34m=\u001b[0m \u001b[0mstr_m\u001b[0m\u001b[0;34m[\u001b[0m\u001b[0;34m:\u001b[0m\u001b[0;34m-\u001b[0m\u001b[0;36m2\u001b[0m\u001b[0;34m]\u001b[0m\u001b[0;34m\u001b[0m\u001b[0;34m\u001b[0m\u001b[0m\n\u001b[0;32m---> 31\u001b[0;31m         \u001b[0mmol\u001b[0m \u001b[0;34m=\u001b[0m \u001b[0mgto\u001b[0m\u001b[0;34m.\u001b[0m\u001b[0mM\u001b[0m\u001b[0;34m(\u001b[0m\u001b[0matom\u001b[0m\u001b[0;34m=\u001b[0m\u001b[0mstr_m\u001b[0m\u001b[0;34m,\u001b[0m \u001b[0mbasis\u001b[0m\u001b[0;34m=\u001b[0m\u001b[0mbasis1\u001b[0m\u001b[0;34m,\u001b[0m \u001b[0mverbose\u001b[0m\u001b[0;34m=\u001b[0m\u001b[0;36m0\u001b[0m\u001b[0;34m,\u001b[0m \u001b[0mspin\u001b[0m\u001b[0;34m=\u001b[0m\u001b[0mspin1\u001b[0m\u001b[0;34m)\u001b[0m\u001b[0;34m\u001b[0m\u001b[0;34m\u001b[0m\u001b[0m\n\u001b[0m\u001b[1;32m     32\u001b[0m         \u001b[0mself\u001b[0m\u001b[0;34m.\u001b[0m\u001b[0mmol\u001b[0m \u001b[0;34m=\u001b[0m \u001b[0mmol\u001b[0m\u001b[0;34m\u001b[0m\u001b[0;34m\u001b[0m\u001b[0m\n\u001b[1;32m     33\u001b[0m         \u001b[0mself\u001b[0m\u001b[0;34m.\u001b[0m\u001b[0matoms\u001b[0m \u001b[0;34m=\u001b[0m \u001b[0mAtoms\u001b[0m\u001b[0;34m(\u001b[0m\u001b[0msymbs\u001b[0m\u001b[0;34m,\u001b[0m\u001b[0mcoords\u001b[0m\u001b[0;34m)\u001b[0m\u001b[0;34m\u001b[0m\u001b[0;34m\u001b[0m\u001b[0m\n",
      "\u001b[0;32m~/anaconda3/lib/python3.7/site-packages/pyscf/gto/mole.py\u001b[0m in \u001b[0;36mM\u001b[0;34m(**kwargs)\u001b[0m\n\u001b[1;32m     91\u001b[0m     '''\n\u001b[1;32m     92\u001b[0m     \u001b[0mmol\u001b[0m \u001b[0;34m=\u001b[0m \u001b[0mMole\u001b[0m\u001b[0;34m(\u001b[0m\u001b[0;34m)\u001b[0m\u001b[0;34m\u001b[0m\u001b[0;34m\u001b[0m\u001b[0m\n\u001b[0;32m---> 93\u001b[0;31m     \u001b[0mmol\u001b[0m\u001b[0;34m.\u001b[0m\u001b[0mbuild\u001b[0m\u001b[0;34m(\u001b[0m\u001b[0;34m**\u001b[0m\u001b[0mkwargs\u001b[0m\u001b[0;34m)\u001b[0m\u001b[0;34m\u001b[0m\u001b[0;34m\u001b[0m\u001b[0m\n\u001b[0m\u001b[1;32m     94\u001b[0m     \u001b[0;32mreturn\u001b[0m \u001b[0mmol\u001b[0m\u001b[0;34m\u001b[0m\u001b[0;34m\u001b[0m\u001b[0m\n\u001b[1;32m     95\u001b[0m \u001b[0;34m\u001b[0m\u001b[0m\n",
      "\u001b[0;32m~/anaconda3/lib/python3.7/site-packages/pyscf/gto/mole.py\u001b[0m in \u001b[0;36mbuild\u001b[0;34m(self, dump_input, parse_arg, verbose, output, max_memory, atom, basis, unit, nucmod, ecp, charge, spin, symmetry, symmetry_subgroup, cart)\u001b[0m\n\u001b[1;32m   2108\u001b[0m         \u001b[0;31m# Access self.nelec in which the code checks whether the spin and\u001b[0m\u001b[0;34m\u001b[0m\u001b[0;34m\u001b[0m\u001b[0;34m\u001b[0m\u001b[0m\n\u001b[1;32m   2109\u001b[0m         \u001b[0;31m# number of electrons are consistent.\u001b[0m\u001b[0;34m\u001b[0m\u001b[0;34m\u001b[0m\u001b[0;34m\u001b[0m\u001b[0m\n\u001b[0;32m-> 2110\u001b[0;31m         \u001b[0mself\u001b[0m\u001b[0;34m.\u001b[0m\u001b[0mnelec\u001b[0m\u001b[0;34m\u001b[0m\u001b[0;34m\u001b[0m\u001b[0m\n\u001b[0m\u001b[1;32m   2111\u001b[0m \u001b[0;34m\u001b[0m\u001b[0m\n\u001b[1;32m   2112\u001b[0m         \u001b[0;32mif\u001b[0m \u001b[0mself\u001b[0m\u001b[0;34m.\u001b[0m\u001b[0msymmetry\u001b[0m\u001b[0;34m:\u001b[0m\u001b[0;34m\u001b[0m\u001b[0;34m\u001b[0m\u001b[0m\n",
      "\u001b[0;32m~/anaconda3/lib/python3.7/site-packages/pyscf/gto/mole.py\u001b[0m in \u001b[0;36mnelec\u001b[0;34m(self)\u001b[0m\n\u001b[1;32m   1903\u001b[0m             raise RuntimeError('Electron number %d and spin %d are not consistent\\n'\n\u001b[1;32m   1904\u001b[0m                                \u001b[0;34m'Note mol.spin = 2S = Nalpha - Nbeta, not 2S+1'\u001b[0m \u001b[0;34m%\u001b[0m\u001b[0;34m\u001b[0m\u001b[0;34m\u001b[0m\u001b[0m\n\u001b[0;32m-> 1905\u001b[0;31m                                (ne, self.spin))\n\u001b[0m\u001b[1;32m   1906\u001b[0m         \u001b[0;32mreturn\u001b[0m \u001b[0mnalpha\u001b[0m\u001b[0;34m,\u001b[0m \u001b[0mnbeta\u001b[0m\u001b[0;34m\u001b[0m\u001b[0;34m\u001b[0m\u001b[0m\n\u001b[1;32m   1907\u001b[0m     \u001b[0;34m@\u001b[0m\u001b[0mnelec\u001b[0m\u001b[0;34m.\u001b[0m\u001b[0msetter\u001b[0m\u001b[0;34m\u001b[0m\u001b[0;34m\u001b[0m\u001b[0m\n",
      "\u001b[0;31mRuntimeError\u001b[0m: Electron number 13 and spin 0 are not consistent\nNote mol.spin = 2S = Nalpha - Nbeta, not 2S+1"
     ]
    }
   ],
   "source": [
    "symbols, coords = read_xyz_simple('test/c02h06.xyz')[:2]\n",
    "obj = pyscf_object(symbols, coords, 'sto-3g')\n",
    "eigs, c = obj.get_hao()"
   ]
  },
  {
   "cell_type": "code",
   "execution_count": null,
   "metadata": {},
   "outputs": [],
   "source": [
    "eigs"
   ]
  },
  {
   "cell_type": "code",
   "execution_count": null,
   "metadata": {},
   "outputs": [],
   "source": []
  }
 ],
 "metadata": {
  "kernelspec": {
   "display_name": "Python 3",
   "language": "python",
   "name": "python3"
  },
  "language_info": {
   "codemirror_mode": {
    "name": "ipython",
    "version": 3
   },
   "file_extension": ".py",
   "mimetype": "text/x-python",
   "name": "python",
   "nbconvert_exporter": "python",
   "pygments_lexer": "ipython3",
   "version": "3.7.1"
  }
 },
 "nbformat": 4,
 "nbformat_minor": 2
}
