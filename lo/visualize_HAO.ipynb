{
 "cells": [
  {
   "cell_type": "code",
   "execution_count": 2,
   "metadata": {},
   "outputs": [],
   "source": [
    "import interfaces._pyscf as pscf\n",
    "import ase.io as aio\n",
    "import numpy as np\n",
    "import numpy.linalg as LA\n",
    "import os,sys\n",
    "import aqml.cheminfo.lo.dm as cld\n",
    "\n",
    "np.set_printoptions(precision=4,suppress=True)\n",
    "\n",
    "def calc(aseobj, bst='cc-pvdz', icab=True):\n",
    "    zs = aseobj.numbers\n",
    "    spin = sum(zs)%2\n",
    "    atom = ''\n",
    "    na = len(aseobj)\n",
    "    for i in range(na):\n",
    "        x,y,z = aseobj.positions[i]\n",
    "        ai = aseobj[i]\n",
    "        atom += '%s %.8f %.8f %.8f;'%(ai.symbol, x,y,z)\n",
    "    if icab:\n",
    "        basis = {'H':'sto-3g'}\n",
    "    else:\n",
    "        basis = {'H':bst}\n",
    "    for si in ['C','N','O','F']: basis[si] = bst\n",
    "    mol = gto.M(atom=atom, basis=basis, verbose=0, spin=spin)\n",
    "    mf = scf.RHF(mol)\n",
    "    mf.kernel()\n",
    "    return mol, mf\n",
    "\n",
    "def calc_nao(mol,mf):\n",
    "    s = mol.intor_symmetric('int1e_ovlp_sph')\n",
    "    p = reduce(np.dot, (s, mf.make_rdm1(), s))\n",
    "    o0, c0 = lo.nao._prenao_sub(mol, p, s)\n",
    "    return o0, c0"
   ]
  },
  {
   "cell_type": "code",
   "execution_count": 3,
   "metadata": {},
   "outputs": [
    {
     "name": "stdout",
     "output_type": "stream",
     "text": [
      " ** U =  [[-0.1873 -0.6634  0.7108  0.1399]\n",
      " [-0.7807  0.5383  0.31   -0.0677]\n",
      " [-0.3247 -0.1417 -0.3856  0.852 ]\n",
      " [ 0.5     0.5     0.5     0.5   ]]\n"
     ]
    },
    {
     "name": "stderr",
     "output_type": "stream",
     "text": [
      "/Users/bhuang/src/pyscf/pyscf/gto/mole.py:927: UserWarning: Function mol.dumps drops attribute spin because it is not JSON-serializable\n",
      "  warnings.warn(msg)\n"
     ]
    },
    {
     "name": "stdout",
     "output_type": "stream",
     "text": [
      "converged SCF energy = -40.0027154073177\n"
     ]
    }
   ],
   "source": [
    "m1 = aio.read('ch4.xyz')\n",
    "#av.view(m2)\n",
    "c1 = get_dm_obj(m1)\n",
    "\n",
    "oo = pscf.io(c1.m)\n",
    "orig, cell, dt = oo.orbital(c1.B, grids=[100,100,100], label='ch4')"
   ]
  },
  {
   "cell_type": "code",
   "execution_count": 3,
   "metadata": {},
   "outputs": [
    {
     "data": {
      "text/plain": [
       "array([[ 0.9941, -0.1391, -0.1391, -0.1391, -0.1391],\n",
       "       [ 0.0226,  0.516 ,  0.516 ,  0.516 ,  0.516 ],\n",
       "       [ 0.    , -0.5   ,  0.5   ,  0.5   , -0.5   ],\n",
       "       [ 0.    , -0.5   ,  0.5   , -0.5   ,  0.5   ],\n",
       "       [ 0.    , -0.5   , -0.5   ,  0.5   ,  0.5   ]])"
      ]
     },
     "execution_count": 3,
     "metadata": {},
     "output_type": "execute_result"
    }
   ],
   "source": [
    "c1.B[:5,:5]"
   ]
  },
  {
   "cell_type": "code",
   "execution_count": 2,
   "metadata": {},
   "outputs": [],
   "source": [
    "from ase.io.cube import read_cube_data\n",
    "data, atoms = read_cube_data('ch4_1.cube')"
   ]
  },
  {
   "cell_type": "code",
   "execution_count": 3,
   "metadata": {},
   "outputs": [
    {
     "name": "stdout",
     "output_type": "stream",
     "text": [
      "Notebook initialized with ipy backend.\n"
     ]
    }
   ],
   "source": [
    "from mayavi import mlab\n",
    "mlab.init_notebook()"
   ]
  },
  {
   "cell_type": "code",
   "execution_count": 47,
   "metadata": {
    "scrolled": true
   },
   "outputs": [
    {
     "data": {
      "application/vnd.jupyter.widget-view+json": {
       "model_id": "f9108ad7559e4e6692940186e61096df",
       "version_major": 2,
       "version_minor": 0
      },
      "text/plain": [
       "Image(value=b'\\x89PNG\\r\\n\\x1a\\n\\x00\\x00\\x00\\rIHDR\\x00\\x00\\x01\\x90\\x00\\x00\\x01^\\x08\\x02\\x00\\x00\\x00$?\\xde_\\x00\\…"
      ]
     },
     "metadata": {},
     "output_type": "display_data"
    }
   ],
   "source": [
    "mlab.figure()\n",
    "#mlab.test_contour3d()"
   ]
  },
  {
   "cell_type": "code",
   "execution_count": 8,
   "metadata": {},
   "outputs": [],
   "source": [
    "#atoms = m1; data = dt[0]; _contours = 5"
   ]
  },
  {
   "cell_type": "code",
   "execution_count": 8,
   "metadata": {
    "scrolled": true
   },
   "outputs": [
    {
     "name": "stdout",
     "output_type": "stream",
     "text": [
      "Notebook initialized with ipy backend.\n"
     ]
    },
    {
     "data": {
      "application/vnd.jupyter.widget-view+json": {
       "model_id": "c7ca0a0c30ec49e4a41203ca0af4a9d3",
       "version_major": 2,
       "version_minor": 0
      },
      "text/plain": [
       "Image(value=b'\\x89PNG\\r\\n\\x1a\\n\\x00\\x00\\x00\\rIHDR\\x00\\x00\\x01\\x90\\x00\\x00\\x01^\\x08\\x02\\x00\\x00\\x00$?\\xde_\\x00\\…"
      ]
     },
     "metadata": {},
     "output_type": "display_data"
    }
   ],
   "source": [
    "from mayavi import mlab\n",
    "import importlib\n",
    "importlib.reload(mlab)\n",
    "mlab.init_notebook()\n",
    "\n",
    "_atoms = mlab.draw_molecule(atoms)\n",
    "_atoms[0]\n",
    "_atoms[1]"
   ]
  },
  {
   "cell_type": "code",
   "execution_count": 9,
   "metadata": {},
   "outputs": [
    {
     "name": "stdout",
     "output_type": "stream",
     "text": [
      "Notebook initialized with ipy backend.\n"
     ]
    }
   ],
   "source": [
    "from mayavi import mlab\n",
    "mlab.init_notebook()\n",
    "mlab.test_molecule()\n",
    "source = mlab.pipeline.scalar_field(data)\n",
    "min = data.min()\n",
    "max = data.max()\n",
    "vol = mlab.pipeline.volume(source, vmin=min + 0.65 * (max - min),\n",
    "                                   vmax=min + 0.9 * (max - min))\n",
    "\n",
    "mlab.view() #132, 54, 45, [21, 20, 21.5])\n",
    "\n",
    "mlab.show()"
   ]
  },
  {
   "cell_type": "code",
   "execution_count": 1,
   "metadata": {
    "scrolled": true
   },
   "outputs": [
    {
     "name": "stdout",
     "output_type": "stream",
     "text": [
      "Notebook initialized with x3d backend.\n"
     ]
    },
    {
     "ename": "NameError",
     "evalue": "name 'read_cube_data' is not defined",
     "output_type": "error",
     "traceback": [
      "\u001b[0;31m---------------------------------------------------------------------------\u001b[0m",
      "\u001b[0;31mNameError\u001b[0m                                 Traceback (most recent call last)",
      "\u001b[0;32m<ipython-input-1-e845e572a8e7>\u001b[0m in \u001b[0;36m<module>\u001b[0;34m\u001b[0m\n\u001b[1;32m      2\u001b[0m \u001b[0mmlab\u001b[0m\u001b[0;34m.\u001b[0m\u001b[0minit_notebook\u001b[0m\u001b[0;34m(\u001b[0m\u001b[0;34m)\u001b[0m\u001b[0;34m\u001b[0m\u001b[0;34m\u001b[0m\u001b[0m\n\u001b[1;32m      3\u001b[0m \u001b[0mmlab\u001b[0m\u001b[0;34m.\u001b[0m\u001b[0mfigure\u001b[0m\u001b[0;34m(\u001b[0m\u001b[0;34m)\u001b[0m\u001b[0;34m\u001b[0m\u001b[0;34m\u001b[0m\u001b[0m\n\u001b[0;32m----> 4\u001b[0;31m \u001b[0mdata\u001b[0m\u001b[0;34m,\u001b[0m \u001b[0matoms\u001b[0m \u001b[0;34m=\u001b[0m \u001b[0mread_cube_data\u001b[0m\u001b[0;34m(\u001b[0m\u001b[0;34m'ch4_1.cube'\u001b[0m\u001b[0;34m)\u001b[0m\u001b[0;34m\u001b[0m\u001b[0;34m\u001b[0m\u001b[0m\n\u001b[0m\u001b[1;32m      5\u001b[0m \u001b[0mmols\u001b[0m \u001b[0;34m=\u001b[0m \u001b[0mmlab\u001b[0m\u001b[0;34m.\u001b[0m\u001b[0mcontour3d\u001b[0m\u001b[0;34m(\u001b[0m\u001b[0mdata\u001b[0m\u001b[0;34m)\u001b[0m\u001b[0;34m\u001b[0m\u001b[0;34m\u001b[0m\u001b[0m\n",
      "\u001b[0;31mNameError\u001b[0m: name 'read_cube_data' is not defined"
     ]
    }
   ],
   "source": [
    "from mayavi import mlab\n",
    "mlab.init_notebook()\n",
    "mlab.figure()\n",
    "data, atoms = read_cube_data('ch4_1.cube')\n",
    "mols = mlab.contour3d(data)"
   ]
  },
  {
   "cell_type": "code",
   "execution_count": 20,
   "metadata": {
    "scrolled": true
   },
   "outputs": [
    {
     "data": {
      "application/vnd.jupyter.widget-view+json": {
       "model_id": "406944eb16004741829a7be170c51c82",
       "version_major": 2,
       "version_minor": 0
      },
      "text/plain": [
       "Image(value=b'\\x89PNG\\r\\n\\x1a\\n\\x00\\x00\\x00\\rIHDR\\x00\\x00\\x01\\x90\\x00\\x00\\x01^\\x08\\x02\\x00\\x00\\x00$?\\xde_\\x00\\…"
      ]
     },
     "metadata": {},
     "output_type": "display_data"
    }
   ],
   "source": [
    "T,F=True,False\n",
    "mlab.figure()\n",
    "_atoms[0]\n",
    "mlab.contour3d(data, contours=[0.07], opacity=0.5, color=(1,0,0)) #transparent=F,  colormap='hot')\n",
    "mlab.contour3d(data, contours=[-0.07], opacity=0.5, color=(0,1,0)) # transparent=F, colormap='hot')"
   ]
  },
  {
   "cell_type": "code",
   "execution_count": 12,
   "metadata": {},
   "outputs": [
    {
     "data": {
      "application/vnd.jupyter.widget-view+json": {
       "model_id": "69a67e34a4a94c46af8587ad0ba48269",
       "version_major": 2,
       "version_minor": 0
      },
      "text/plain": [
       "Image(value=b'\\x89PNG\\r\\n\\x1a\\n\\x00\\x00\\x00\\rIHDR\\x00\\x00\\x01\\x90\\x00\\x00\\x01^\\x08\\x02\\x00\\x00\\x00$?\\xde_\\x00\\…"
      ]
     },
     "metadata": {},
     "output_type": "display_data"
    }
   ],
   "source": [
    "_atoms[0]"
   ]
  },
  {
   "cell_type": "code",
   "execution_count": 14,
   "metadata": {},
   "outputs": [
    {
     "data": {
      "text/plain": [
       "(array([30,  8]), array([62, 21]), array([19, 10]))"
      ]
     },
     "execution_count": 14,
     "metadata": {},
     "output_type": "execute_result"
    }
   ],
   "source": [
    "o = [[30, 62, 19], [8, 21, 10]]\n",
    "ox, oy, oz = list(map(np.array, zip(*o)))\n",
    "ox, oy, oz"
   ]
  },
  {
   "cell_type": "code",
   "execution_count": 16,
   "metadata": {},
   "outputs": [
    {
     "data": {
      "application/vnd.jupyter.widget-view+json": {
       "model_id": "c32d59760f8c475cab312d9872fbf214",
       "version_major": 2,
       "version_minor": 0
      },
      "text/plain": [
       "Image(value=b'\\x89PNG\\r\\n\\x1a\\n\\x00\\x00\\x00\\rIHDR\\x00\\x00\\x01\\x90\\x00\\x00\\x01^\\x08\\x02\\x00\\x00\\x00$?\\xde_\\x00\\…"
      ]
     },
     "metadata": {},
     "output_type": "display_data"
    }
   ],
   "source": [
    "mlab.figure()\n",
    "_ats = mlab.test_molecule()\n",
    "_ats[0]"
   ]
  },
  {
   "cell_type": "code",
   "execution_count": 4,
   "metadata": {},
   "outputs": [
    {
     "data": {
      "text/plain": [
       "(array([-4.1892, -4.1892, -4.1892]), array([8.3785, 8.3785, 8.3785]))"
      ]
     },
     "execution_count": 4,
     "metadata": {},
     "output_type": "execute_result"
    }
   ],
   "source": [
    "orig, cell"
   ]
  },
  {
   "cell_type": "code",
   "execution_count": null,
   "metadata": {},
   "outputs": [],
   "source": []
  }
 ],
 "metadata": {
  "kernelspec": {
   "display_name": "Python 2",
   "language": "python",
   "name": "python2"
  },
  "language_info": {
   "codemirror_mode": {
    "name": "ipython",
    "version": 2
   },
   "file_extension": ".py",
   "mimetype": "text/x-python",
   "name": "python",
   "nbconvert_exporter": "python",
   "pygments_lexer": "ipython2",
   "version": "2.7.15"
  }
 },
 "nbformat": 4,
 "nbformat_minor": 2
}
