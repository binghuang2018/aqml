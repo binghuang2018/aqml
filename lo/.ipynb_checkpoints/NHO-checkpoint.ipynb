{
 "cells": [
  {
   "cell_type": "code",
   "execution_count": 1,
   "metadata": {},
   "outputs": [
    {
     "name": "stdout",
     "output_type": "stream",
     "text": [
      "Notebook initialized with ipy backend.\n"
     ]
    }
   ],
   "source": [
    "from mayavi import mlab\n",
    "mlab.init_notebook()"
   ]
  },
  {
   "cell_type": "code",
   "execution_count": 77,
   "metadata": {},
   "outputs": [],
   "source": [
    "from pyscf import gto, scf, lo\n",
    "import numpy as np\n",
    "from functools import reduce\n",
    "from pyscf.lo.orth import pre_orth_ao_atm_scf\n",
    "import ase, scipy\n",
    "from pyscf import lo\n",
    "import itertools as itl\n",
    "import ase.visualize as av\n",
    "\n",
    "T,F=True,False\n",
    "np.set_printoptions(precision=2,suppress=True)\n",
    "\n",
    "def calc(aseobj, bst='cc-pvdz', icab=F):\n",
    "    zs = aseobj.numbers\n",
    "    nh = (zs==1).sum()\n",
    "    coords = aseobj.positions\n",
    "    assert zs[0]>1 and np.all(zs[1:]==1) #zs = []; coords = []\n",
    "    spin = sum(zs)%2\n",
    "    atom = ''\n",
    "    na = len(aseobj)\n",
    "    for i in range(na):\n",
    "        x,y,z = coords[i]\n",
    "        ai = aseobj[i]\n",
    "        atom += '%s %.8f %.8f %.8f;'%(ai.symbol, x,y,z)\n",
    "    if icab:\n",
    "        basis = {'H':'sto-3g'}\n",
    "    else:\n",
    "        basis = {'H':bst}\n",
    "    for si in ['C','N','O','F']: basis[si] = bst\n",
    "    mol = gto.M(atom=atom, basis=basis, verbose=0, spin=spin)\n",
    "    mf = None\n",
    "    if not icab:\n",
    "        mf = scf.RHF(mol)\n",
    "        mf.kernel()\n",
    "    return mol, mf\n",
    "\n",
    "def get_hao(mol):\n",
    "    zs = mol.atom_charges()\n",
    "    nh = (zs==1).sum()\n",
    "    s1 = mol.intor_symmetric('int1e_ovlp')\n",
    "    b1 = pre_orth_ao_atm_scf(mol)\n",
    "    sb = reduce( np.dot, (b1.conjugate().T, s1, b1) )\n",
    "    aolbs = mol.ao_labels(); nao = len(aolbs)\n",
    "    sb_hx = sb[-nh:,:-nh] # overlap matrix H-X\n",
    "    u,d,vh = np.linalg.svd(sb_hx, full_matrices=False, compute_uv=True)\n",
    "    a1 = np.dot(vh.T, u.T)\n",
    "    # now Schmidt orthogonalization\n",
    "    n1 = nh\n",
    "    n2 = nao - nh\n",
    "    t = np.eye(n2)\n",
    "    t[:,:nh] = a1\n",
    "    for i in range(nh,n2):\n",
    "        for j in range(i):\n",
    "            cj = t[i,j] \n",
    "            t[:,i] -= cj*t[:,j]\n",
    "        t[:,i] /= np.linalg.norm(t[:,i])\n",
    "    for i in range(n2):\n",
    "        csi = t[i,:6]\n",
    "        so = ' '.join(['%10.2f '%si for si in csi])\n",
    "        print(aolbs[i], so)\n",
    "    return t\n",
    "\n",
    "def get_new_dm1(mol, mf, t):\n",
    "    cs = mf.mo_coeff\n",
    "    return cs\n",
    "\n",
    "def get_nho(m,bst='sto-3g',new_idx=None,debug=F):\n",
    "    mol, _ = calc(m, bst=bst, icab=T)\n",
    "    mf = scf.RHF(mol)\n",
    "    mf.kernel()\n",
    "    A1 = pre_orth_ao_atm_scf(mol)\n",
    "    s = mol.intor_symmetric('int1e_ovlp_sph')\n",
    "    s1 = reduce(np.dot, (A1.T,s,A1)) # under ANO basis\n",
    "    if debug: print('s1=',s1)\n",
    "    B1 = np.linalg.solve(A1,mf.mo_coeff)\n",
    "    dm1 = reduce( np.dot, (B1, np.diag(mf.mo_occ), B1.T) ) ##\n",
    "    if debug: print('dm1=',dm1)\n",
    "    p1 = dm1 # reduce(np.dot, (s, mf.make_rdm1(), s))\n",
    "    zs = mol.atom_charges()\n",
    "    nh = (zs==1).sum()\n",
    "    e1,v1 = scipy.linalg.eigh(p1[:-nh,:-nh], s1[:-nh,:-nh])\n",
    "    eigs1 = e1[::-1]; vs1 = v1[:,::-1]\n",
    "    if debug: print('eigs=',eigs1)\n",
    "    \n",
    "    # exchange ao idx\n",
    "    if new_idx is None:\n",
    "        new_idx = np.arange(vs1.shape[0])\n",
    "    # = [0,3,2,1,4]\n",
    "    vs1u = vs1[:,new_idx]\n",
    "    \n",
    "    c1 = np.eye(mol.nao)\n",
    "    c1[:-nh,:-nh] = vs1u # ANO basis\n",
    "\n",
    "    a = np.linalg.solve(c1,B1)\n",
    "    if debug: print('a=',a)\n",
    "    return eigs1,vs1,a"
   ]
  },
  {
   "cell_type": "code",
   "execution_count": 78,
   "metadata": {
    "scrolled": false
   },
   "outputs": [
    {
     "name": "stdout",
     "output_type": "stream",
     "text": [
      "s1= [[ 1.      0.      0.      0.      0.      0.0504]\n",
      " [-0.      1.      0.      0.      0.      0.4085]\n",
      " [ 0.      0.      1.      0.      0.      0.    ]\n",
      " [ 0.      0.      0.      1.      0.      0.    ]\n",
      " [ 0.      0.      0.      0.      1.      0.3269]\n",
      " [ 0.0504  0.4085  0.      0.      0.3269  1.    ]]\n",
      "dm1= [[ 2.0024  0.0114  0.      0.     -0.0322 -0.0403]\n",
      " [ 0.0114  2.0094 -0.      0.     -0.4022 -0.1466]\n",
      " [ 0.     -0.      2.      0.     -0.     -0.    ]\n",
      " [ 0.      0.      0.      2.     -0.     -0.    ]\n",
      " [-0.0322 -0.4022 -0.     -0.      0.9786  0.7736]\n",
      " [-0.0403 -0.1466 -0.     -0.      0.7736  0.6276]]\n",
      "eigs= [2.1508 2.     2.     2.     0.8396]\n",
      "a= [[-0.1435 -0.8415  0.5888 -0.     -0.      0.1877]\n",
      " [-0.      0.      0.      0.6618 -0.7497  0.    ]\n",
      " [ 0.9896 -0.1366  0.046  -0.     -0.     -0.    ]\n",
      " [-0.     -0.      0.      0.7497  0.6618  0.    ]\n",
      " [ 0.0261  0.3682  0.5325 -0.      0.     -0.9227]\n",
      " [-0.0051  0.1453  0.541  -0.      0.      1.0334]]\n"
     ]
    }
   ],
   "source": [
    "np.set_printoptions(precision=4,suppress=True)\n",
    "\n",
    "bst = 'sto-3g' # 'cc-pvdz'\n",
    "zs = [9,1]; coords = [[0.,0.,0],[0.,0.,0.98]]\n",
    "m = ase.Atoms(zs,coords)\n",
    "#av.view(m)\n",
    "eigs, vs, a = get_nho(m,bst=bst,debug=T)\n"
   ]
  },
  {
   "cell_type": "code",
   "execution_count": 79,
   "metadata": {
    "scrolled": true
   },
   "outputs": [
    {
     "name": "stdout",
     "output_type": "stream",
     "text": [
      "idx= (1, 2, 3)\n",
      "ddm:  1.6829586134494214 -1.329225349508394 [[ 0.     -0.      0.      0.      0.      0.    ]\n",
      " [ 0.0114  0.0016  0.0005  0.0056 -0.0051  0.    ]\n",
      " [-0.9784 -0.135  -0.0455  0.7445  0.6675  0.    ]\n",
      " [ 0.9894  0.1366  0.046  -0.7336 -0.6608 -0.    ]\n",
      " [ 0.      0.     -0.      0.      0.      0.    ]\n",
      " [ 0.      0.     -0.      0.      0.      0.    ]]\n"
     ]
    }
   ],
   "source": [
    "m.rotate(60, [1,1,1])\n",
    "#av.view(m)\n",
    "idxs = list(itl.permutations([1,2,3]))\n",
    "for idx in idxs[:1]:\n",
    "    print('idx=',idx)\n",
    "    eigs2, vs2, a2 = get_nho(m,bst=bst,new_idx=[0]+list(idx)+[4], debug=F)\n",
    "    print('ddm: ', np.max(a2-a), np.min(a2-a), np.abs(a2)-np.abs(a))"
   ]
  },
  {
   "cell_type": "code",
   "execution_count": 75,
   "metadata": {},
   "outputs": [
    {
     "name": "stdout",
     "output_type": "stream",
     "text": [
      "[[ 0.     -0.      0.      0.      0.      0.    ]\n",
      " [ 0.0127  0.0018  0.0006 -0.3271  0.1926  0.    ]\n",
      " [-0.9729 -0.1343 -0.0452  0.9423  0.3345  0.    ]\n",
      " [ 0.9893  0.1366  0.046  -0.7381 -0.644   0.    ]\n",
      " [ 0.      0.     -0.      0.      0.      0.    ]\n",
      " [ 0.      0.     -0.      0.      0.      0.    ]]\n"
     ]
    }
   ],
   "source": [
    "print(np.abs(a2)-np.abs(a))"
   ]
  },
  {
   "cell_type": "code",
   "execution_count": 31,
   "metadata": {},
   "outputs": [
    {
     "name": "stdout",
     "output_type": "stream",
     "text": [
      "0 F 1s     -0.14   0.00   0.99  -0.00   0.02 \n",
      "0 F 2s     -0.94   0.00  -0.14  -0.00   0.32 \n",
      "0 F 2px    -0.00  -0.75  -0.00   0.66   0.00 \n",
      "0 F 2py    -0.00   0.66  -0.00   0.75   0.00 \n",
      "0 F 2pz     0.32   0.00   0.02   0.00   0.95 \n"
     ]
    }
   ],
   "source": [
    "nao = mol.nao \n",
    "aols = mol.ao_labels()\n",
    "for i in range(nao-1):\n",
    "    si = aols[i]\n",
    "    for j in range(nao-1):\n",
    "        si += '%6.2f '%vs1[i,j]\n",
    "    print(si)"
   ]
  },
  {
   "cell_type": "code",
   "execution_count": null,
   "metadata": {},
   "outputs": [],
   "source": [
    "# write HAO\n",
    "import interfaces._pyscf as pscf\n",
    "#reload(pscf)\n",
    "oo = pscf.io(mol)\n",
    "c1 = np.eye(mol.nao)\n",
    "c1[:-1,:-1] = vs1\n",
    "orig, cell, dt = oo.orbital(c1, grids=[100,100,100], label=None)#'ch4-carbon')"
   ]
  },
  {
   "cell_type": "code",
   "execution_count": 23,
   "metadata": {
    "scrolled": true
   },
   "outputs": [
    {
     "data": {
      "text/plain": [
       "array([[ 0.0268, -0.0889,  0.0441,  0.7229,  0.6835,  0.0356],\n",
       "       [ 0.9204, -0.3287,  0.1443, -0.1466,  0.0682,  0.0844],\n",
       "       [ 0.3847,  0.6978, -0.3602,  0.3973, -0.3262, -0.3143],\n",
       "       [ 0.0683,  0.4785, -0.2425, -0.5459,  0.6494, -0.2042],\n",
       "       [ 0.0061, -0.1743, -0.6489,  0.    , -0.    ,  0.8589],\n",
       "       [-0.0051,  0.1453,  0.541 , -0.    ,  0.    ,  1.0334]])"
      ]
     },
     "execution_count": 23,
     "metadata": {},
     "output_type": "execute_result"
    }
   ],
   "source": [
    "a"
   ]
  },
  {
   "cell_type": "code",
   "execution_count": 32,
   "metadata": {
    "scrolled": true
   },
   "outputs": [
    {
     "name": "stdout",
     "output_type": "stream",
     "text": [
      " ## found 0 non-covalent bonds\n"
     ]
    }
   ],
   "source": [
    "#from ase.io.cube import read_cube_data\n",
    "#data, atoms = read_cube_data('ch4-carbon_01.cube')\n",
    "import visualization.mayavi as mv\n",
    "_atoms = mv.draw_molecule(m, dt[0], cell, orig)\n",
    "#_atoms"
   ]
  },
  {
   "cell_type": "code",
   "execution_count": null,
   "metadata": {},
   "outputs": [],
   "source": []
  }
 ],
 "metadata": {
  "kernelspec": {
   "display_name": "Python 3",
   "language": "python",
   "name": "python3"
  },
  "language_info": {
   "codemirror_mode": {
    "name": "ipython",
    "version": 3
   },
   "file_extension": ".py",
   "mimetype": "text/x-python",
   "name": "python",
   "nbconvert_exporter": "python",
   "pygments_lexer": "ipython3",
   "version": "3.7.1"
  }
 },
 "nbformat": 4,
 "nbformat_minor": 2
}
