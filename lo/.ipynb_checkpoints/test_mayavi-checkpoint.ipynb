{
 "cells": [
  {
   "cell_type": "code",
   "execution_count": 1,
   "metadata": {},
   "outputs": [
    {
     "name": "stdout",
     "output_type": "stream",
     "text": [
      "Notebook initialized with ipy backend.\n"
     ]
    }
   ],
   "source": [
    "from mayavi import mlab\n",
    "from ase.io.cube import read_cube_data\n",
    "import numpy as np\n",
    "import io2\n",
    "\n",
    "mlab.init_notebook()\n",
    "mlab.figure()\n",
    "data, atoms = read_cube_data('ch4_1.cube')\n",
    "b2a = io2.Units().b2a\n",
    "cell = np.array([8.46, 8.46, 8.46]) * b2a\n",
    "orig = np.array([-4.189227,   -4.189227,   -4.189227])\n",
    "#grids = np.array(data.shape)"
   ]
  },
  {
   "cell_type": "code",
   "execution_count": 2,
   "metadata": {},
   "outputs": [],
   "source": [
    "#mlab.figure()\n",
    "#mlab.test_plot3d()\n",
    "#mlab.axes(x_axis_visibility=True,y_axis_visibility=True)"
   ]
  },
  {
   "cell_type": "code",
   "execution_count": 3,
   "metadata": {},
   "outputs": [],
   "source": [
    "import io2.visual as iov"
   ]
  },
  {
   "cell_type": "code",
   "execution_count": 4,
   "metadata": {},
   "outputs": [
    {
     "data": {
      "application/vnd.jupyter.widget-view+json": {
       "model_id": "bafb15b3ac664355a9c8420177698f60",
       "version_major": 2,
       "version_minor": 0
      },
      "text/plain": [
       "Image(value=b'\\x89PNG\\r\\n\\x1a\\n\\x00\\x00\\x00\\rIHDR\\x00\\x00\\x01^\\x00\\x00\\x01^\\x08\\x02\\x00\\x00\\x00BI\\xe0M\\x00\\x00…"
      ]
     },
     "metadata": {},
     "output_type": "display_data"
    }
   ],
   "source": [
    "#iov.contour3d([0.02,-0.02], ['red','green'], filename='ch4_1.cube')"
   ]
  },
  {
   "cell_type": "code",
   "execution_count": 5,
   "metadata": {},
   "outputs": [
    {
     "data": {
      "application/vnd.jupyter.widget-view+json": {
       "model_id": "3da7802417be4f7e90e315e498e63803",
       "version_major": 2,
       "version_minor": 0
      },
      "text/plain": [
       "Image(value=b'\\x89PNG\\r\\n\\x1a\\n\\x00\\x00\\x00\\rIHDR\\x00\\x00\\x01^\\x00\\x00\\x01^\\x08\\x02\\x00\\x00\\x00BI\\xe0M\\x00\\x00…"
      ]
     },
     "metadata": {},
     "output_type": "display_data"
    }
   ],
   "source": [
    "#iov.contour3d([0.02,-0.02], ['red','green'], filename='ch4_2.cube')"
   ]
  },
  {
   "cell_type": "code",
   "execution_count": 12,
   "metadata": {},
   "outputs": [],
   "source": [
    "from pyscf.lo.orth import pre_orth_ao_atm_scf\n",
    "import numpy as np\n",
    "from pyscf import gto, scf\n",
    "from aqml.cheminfo.base import *\n",
    "\n",
    "class pyscf_object(object):\n",
    "\n",
    "    def __init__(self, symbs, coords, basis, spin=0):\n",
    "        zs = [ chemical_symbols.index(si) for si in symbs ]\n",
    "        na = len(symbs)\n",
    "        symbs1 = [ symbols[0], ] + [ 'H@2' ]*(na-1)\n",
    "        basis1 = { symbs[0]: basis, 'H@2':'sto-3g' }\n",
    "        spin1 = sum(zs)%2\n",
    "        str_m = '' #'O 0 0 0; H 0 0 1; H 0 1 0'\n",
    "        for i, si in enumerate(symbs):\n",
    "            x, y, z = coords[i]\n",
    "            str_m += '%s %.8f %.8f %.8f; '%(si, x, y, z)\n",
    "        str_m = str_m[:-2]\n",
    "        mol = gto.M(atom=str_m, basis=basis1, verbose=0, spin=spin1)\n",
    "        self.mol = mol\n",
    "        self.na = na\n",
    "        self.nbf = mol.nao\n",
    "        self.zs = zs \n",
    "\n",
    "    def get_hao(self):\n",
    "        \"\"\"\n",
    "        C: central atom\n",
    "        L: ligands (i.e., hydrogen atoms)\n",
    "        \"\"\"\n",
    "        mol = self.mol\n",
    "        # get atomic orbitals (from RHF calculations of free atoms)\n",
    "        c = pre_orth_ao_atm_scf(mol) #\n",
    "        s = mol.intor_symmetric('int1e_ovlp')\n",
    "        s1 = reduce( np.dot, (c.conjugate().T, s, c) )\n",
    "        ''' new basis is |mu> c^{lowdin}_{mu i} '''        \n",
    "        c_orth = np.dot(c, orth.lowdin(s1))\n",
    "        return c_orth\n"
   ]
  },
  {
   "cell_type": "code",
   "execution_count": 13,
   "metadata": {},
   "outputs": [
    {
     "ename": "NameError",
     "evalue": "name 'file' is not defined",
     "output_type": "error",
     "traceback": [
      "\u001b[0;31m---------------------------------------------------------------------------\u001b[0m",
      "\u001b[0;31mNameError\u001b[0m                                 Traceback (most recent call last)",
      "\u001b[0;32m<ipython-input-13-52e300e97381>\u001b[0m in \u001b[0;36m<module>\u001b[0;34m\u001b[0m\n\u001b[0;32m----> 1\u001b[0;31m \u001b[0msymbols\u001b[0m\u001b[0;34m,\u001b[0m \u001b[0mcoords\u001b[0m \u001b[0;34m=\u001b[0m \u001b[0mread_xyz_simple\u001b[0m\u001b[0;34m(\u001b[0m\u001b[0;34m'ch4.xyz'\u001b[0m\u001b[0;34m)\u001b[0m\u001b[0;34m\u001b[0m\u001b[0;34m\u001b[0m\u001b[0m\n\u001b[0m",
      "\u001b[0;32m~/Dropbox/workspace/python/cheminfo/base.py\u001b[0m in \u001b[0;36mread_xyz_simple\u001b[0;34m(f, opt)\u001b[0m\n\u001b[1;32m     37\u001b[0m \u001b[0;34m\u001b[0m\u001b[0m\n\u001b[1;32m     38\u001b[0m \u001b[0;32mdef\u001b[0m \u001b[0mread_xyz_simple\u001b[0m\u001b[0;34m(\u001b[0m\u001b[0mf\u001b[0m\u001b[0;34m,\u001b[0m \u001b[0mopt\u001b[0m\u001b[0;34m=\u001b[0m\u001b[0;34m's'\u001b[0m\u001b[0;34m)\u001b[0m\u001b[0;34m:\u001b[0m\u001b[0;34m\u001b[0m\u001b[0;34m\u001b[0m\u001b[0m\n\u001b[0;32m---> 39\u001b[0;31m     \u001b[0mcs\u001b[0m \u001b[0;34m=\u001b[0m \u001b[0mopen\u001b[0m\u001b[0;34m(\u001b[0m\u001b[0mf\u001b[0m\u001b[0;34m,\u001b[0m\u001b[0;34m'r'\u001b[0m\u001b[0;34m)\u001b[0m\u001b[0;34m.\u001b[0m\u001b[0mreadlines\u001b[0m\u001b[0;34m(\u001b[0m\u001b[0;34m)\u001b[0m\u001b[0;34m\u001b[0m\u001b[0;34m\u001b[0m\u001b[0m\n\u001b[0m\u001b[1;32m     40\u001b[0m     \u001b[0mna\u001b[0m \u001b[0;34m=\u001b[0m \u001b[0mint\u001b[0m\u001b[0;34m(\u001b[0m\u001b[0mcs\u001b[0m\u001b[0;34m[\u001b[0m\u001b[0;36m0\u001b[0m\u001b[0;34m]\u001b[0m\u001b[0;34m)\u001b[0m\u001b[0;34m\u001b[0m\u001b[0;34m\u001b[0m\u001b[0m\n\u001b[1;32m     41\u001b[0m     \u001b[0mydic\u001b[0m \u001b[0;34m=\u001b[0m \u001b[0;34m{\u001b[0m\u001b[0;34m}\u001b[0m\u001b[0;34m\u001b[0m\u001b[0;34m\u001b[0m\u001b[0m\n",
      "\u001b[0;31mNameError\u001b[0m: name 'file' is not defined"
     ]
    }
   ],
   "source": [
    "symbols, coords = read_xyz_simple('ch4.xyz')"
   ]
  },
  {
   "cell_type": "code",
   "execution_count": 11,
   "metadata": {},
   "outputs": [
    {
     "name": "stdout",
     "output_type": "stream",
     "text": [
      "['5\\n', 'Lattice=\"2.0 0.0 0.0 0.0 2.0 0.0 0.0 0.0 2.0\" Properties=species:S:1:pos:R:3 pbc=\"F F F\"\\n', 'C       0.00000000       0.00000000       0.00000000 \\n', 'H      -0.62931179      -0.62931179      -0.62931179 \\n', 'H       0.62931179       0.62931179      -0.62931179 \\n', 'H       0.62931179      -0.62931179       0.62931179 \\n', 'H      -0.62931179       0.62931179       0.62931179 \\n']\n"
     ]
    }
   ],
   "source": [
    "fobj = open('ch4.xyz')\n",
    "cs = fobj.readlines()\n",
    "print(cs)"
   ]
  },
  {
   "cell_type": "code",
   "execution_count": null,
   "metadata": {},
   "outputs": [],
   "source": []
  }
 ],
 "metadata": {
  "kernelspec": {
   "display_name": "Python 3",
   "language": "python",
   "name": "python3"
  },
  "language_info": {
   "codemirror_mode": {
    "name": "ipython",
    "version": 3
   },
   "file_extension": ".py",
   "mimetype": "text/x-python",
   "name": "python",
   "nbconvert_exporter": "python",
   "pygments_lexer": "ipython3",
   "version": "3.7.1"
  }
 },
 "nbformat": 4,
 "nbformat_minor": 2
}
