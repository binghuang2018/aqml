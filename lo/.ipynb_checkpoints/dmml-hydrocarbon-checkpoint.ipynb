{
 "cells": [
  {
   "cell_type": "code",
   "execution_count": 1,
   "metadata": {},
   "outputs": [],
   "source": [
    "%matplotlib inline\n",
    "import matplotlib\n",
    "import matplotlib.pyplot as plt\n",
    "\n"
   ]
  },
  {
   "cell_type": "code",
   "execution_count": 2,
   "metadata": {},
   "outputs": [],
   "source": [
    "import aqml.cheminfo.lo.dmml as cll\n",
    "reload(cll)\n",
    "import numpy as np\n",
    "from aqml.cheminfo.lo.dmml import *\n",
    "from aqml.cheminfo.lo.dmx import *\n",
    "import ase.io as aio"
   ]
  },
  {
   "cell_type": "code",
   "execution_count": 3,
   "metadata": {},
   "outputs": [],
   "source": [
    "def get_dmxs(fs, objs, brs, bq):\n",
    "    o1,o2 = objs\n",
    "\n",
    "    #fs = [ 'test/'+fi+'.xyz' for fi in ['c06h14', 'c12h26'] ] #'c07h16', 'c08h18',\n",
    "    ms = [ aio.read(f) for f in fs ]\n",
    "    m1, m2 = ms\n",
    "\n",
    "    mr,mq = m1,m2\n",
    "    brsc = [] # BondS of Ref Chosen for training\n",
    "    y1 = []\n",
    "    dm2 = clb.get_dm_aa(o2,bq[0],bq[1])\n",
    "    y2 = np.array([ dm2.ravel() ])\n",
    "    for br in brs:\n",
    "        dm1 = clb.get_dm_aa(o1,br[0],br[1])\n",
    "        ots = clb.get_mapping(mr,br,mq,bq)\n",
    "        if len(ots) == 0: continue\n",
    "        i1, i2 = ots\n",
    "        dm1u = dm1[i1][:,i2]\n",
    "        y1.append(dm1u.ravel()); brsc.append(br)\n",
    "        print( 'bond=(%3d,%3d)'%(br[0],br[1]), ' max deviation: %.5f'% np.max(np.abs(dm1u-dm2)) )\n",
    "    y1 = np.array(y1)\n",
    "    return brsc, y1, y2\n"
   ]
  },
  {
   "cell_type": "code",
   "execution_count": 4,
   "metadata": {},
   "outputs": [],
   "source": [
    "import ase.visualize as av\n",
    "import ase\n",
    "import numpy as np\n",
    "import ase.io as aio\n",
    "\n",
    "np.set_printoptions(precision=4,suppress=True)\n",
    "\n",
    "fs = [ 'test/'+fi+'.xyz' for fi in ['c06h14', 'c07h16', 'c08h18','c12h26'] ]\n",
    "ms = [ aio.read(f) for f in fs ]\n",
    "m1, m2, m3, m4 = ms\n",
    "#av.view(m4); av.view(m1)"
   ]
  },
  {
   "cell_type": "code",
   "execution_count": 5,
   "metadata": {},
   "outputs": [],
   "source": [
    "#from MDAnalysis.analysis import align\n",
    "#R, rmsd = align.rotation_matrix(q.positions, ref.positions)\n",
    "#ref_u = ref.copy()\n",
    "#ref_u.positions = np.dot(ref.positions,R)\n",
    "#av.view(ref_u)\n",
    "#av.view(q)"
   ]
  },
  {
   "cell_type": "code",
   "execution_count": 31,
   "metadata": {
    "scrolled": true
   },
   "outputs": [
    {
     "data": {
      "text/plain": [
       "<module 'cheminfo.lo.dmb' from '/Users/bhuang/Dropbox/workspace/python/cheminfo/lo/dmb.py'>"
      ]
     },
     "execution_count": 31,
     "metadata": {},
     "output_type": "execute_result"
    }
   ],
   "source": [
    "import aqml.cheminfo.lo.dmb as clb\n",
    "reload(clb)"
   ]
  },
  {
   "cell_type": "code",
   "execution_count": 7,
   "metadata": {
    "scrolled": true
   },
   "outputs": [
    {
     "name": "stdout",
     "output_type": "stream",
     "text": [
      "(' now ', 'test/c06h14.xyz')\n",
      "converged SCF energy = -234.09627537053\n",
      "(' now ', 'test/c12h26.xyz')\n",
      "converged SCF energy = -467.009800442334\n"
     ]
    }
   ],
   "source": [
    "fs = [ 'test/'+fi+'.xyz' for fi in ['c06h14', 'c12h26'] ] #'c07h16', 'c08h18',\n",
    "objs = clb.ready_pyscf(fs)"
   ]
  },
  {
   "cell_type": "code",
   "execution_count": 38,
   "metadata": {
    "scrolled": true
   },
   "outputs": [
    {
     "name": "stdout",
     "output_type": "stream",
     "text": [
      "(' now ', 'test/c06h14.xyz')\n",
      "('     + scaling_factor = ', 1.0)\n",
      "converged SCF energy = -234.09627537053\n",
      "(' now ', 'test/c06h14.xyz')\n",
      "('     + scaling_factor = ', 0.9)\n",
      "converged SCF energy = -233.852074489251\n"
     ]
    }
   ],
   "source": [
    "fs = [ 'test/'+fi+'.xyz' for fi in ['c06h14', 'c06h14'] ] #'c07h16', 'c08h18',\n",
    "scales = [1., 0.9]\n",
    "objs1 = clb.ready_pyscf(fs,scales)"
   ]
  },
  {
   "cell_type": "code",
   "execution_count": 39,
   "metadata": {},
   "outputs": [
    {
     "data": {
      "text/plain": [
       "array([[-0.0017, -0.0162, -0.0005, -0.0027, -0.0027],\n",
       "       [-0.0158,  0.0014, -0.0113, -0.0077, -0.0077],\n",
       "       [-0.0023, -0.0052, -0.0042, -0.0049,  0.0105],\n",
       "       [-0.0024, -0.0034,  0.016 , -0.0054, -0.0054],\n",
       "       [-0.0023, -0.0052, -0.0042,  0.0105, -0.0049]])"
      ]
     },
     "execution_count": 39,
     "metadata": {},
     "output_type": "execute_result"
    }
   ],
   "source": [
    "o1,o2 = objs1\n",
    "clb.get_dm_aa(o2, 0, 1) - clb.get_dm_aa(o1, 0, 1)"
   ]
  },
  {
   "cell_type": "code",
   "execution_count": 40,
   "metadata": {
    "scrolled": true
   },
   "outputs": [
    {
     "name": "stdout",
     "output_type": "stream",
     "text": [
      "(' now ', 'test/c06h14.xyz')\n",
      "('     + scaling_factor = ', 1.1)\n",
      "converged SCF energy = -233.936716080608\n"
     ]
    }
   ],
   "source": [
    "fs = [ 'test/'+fi+'.xyz' for fi in ['c06h14' ] ] #'c07h16', 'c08h18',\n",
    "scales = [1.1]\n",
    "objs2 = clb.ready_pyscf(fs,scales)\n",
    "o3 = objs2[0]"
   ]
  },
  {
   "cell_type": "code",
   "execution_count": 41,
   "metadata": {
    "scrolled": true
   },
   "outputs": [
    {
     "data": {
      "text/plain": [
       "array([[ 0.0009,  0.0109,  0.0006,  0.0024,  0.0024],\n",
       "       [ 0.0105,  0.0074,  0.0053,  0.0041,  0.0041],\n",
       "       [ 0.0022,  0.0042,  0.0025,  0.0039, -0.0056],\n",
       "       [ 0.0021,  0.0027, -0.0103,  0.004 ,  0.004 ],\n",
       "       [ 0.0022,  0.0042,  0.0025, -0.0056,  0.0039]])"
      ]
     },
     "execution_count": 41,
     "metadata": {},
     "output_type": "execute_result"
    }
   ],
   "source": [
    "clb.get_dm_aa(o3, 0, 1) - clb.get_dm_aa(o1, 0, 1)"
   ]
  },
  {
   "cell_type": "code",
   "execution_count": 26,
   "metadata": {},
   "outputs": [],
   "source": [
    "\n",
    "\n",
    "np.set_printoptions(formatter={'float': '{: 0.8f}'.format})\n",
    "\n",
    "basis='sto-3g'; meth='b3lyp'\n",
    "spin=0; a=0.; verbose=3\n",
    "\n",
    "zs = []; coords = []; nas = []\n",
    "for fi in fs:\n",
    "    mi = aio.read(fi)\n",
    "    nas.append(len(mi)); zs += list(mi.numbers); coords += list(mi.positions)\n",
    "nas = np.array(nas,np.int)\n",
    "zs = np.array(zs,np.int)\n",
    "coords = np.array(coords)\n",
    "\n",
    "\n",
    "racut,rbcut = 1.6,4.8 # 4.8, 4.8\n",
    "xd = XData(nas, zs, coords)\n",
    "xd.get_x(param={'racut':racut,'rbcut':rbcut})\n",
    "#yd = YData(nas, zs, coords, rc_dm=rbcut)\n",
    "#obj = dmml(xd,yd)\n"
   ]
  },
  {
   "cell_type": "code",
   "execution_count": 27,
   "metadata": {},
   "outputs": [],
   "source": [
    "xs = np.array( xd.xsb )\n",
    "assert not np.any(np.isnan(xs))\n",
    "obj = dmml(xd)"
   ]
  },
  {
   "cell_type": "code",
   "execution_count": 28,
   "metadata": {
    "scrolled": true
   },
   "outputs": [],
   "source": [
    "\n",
    "def get_lc(fs, objs, ims1, ims2, brs, bq):\n",
    "    brsc, y1, y2 = get_dmxs(fs, objs, brs, bq)\n",
    "\n",
    "    opt = 'ii'\n",
    "    idxs_x1 = xd.get_idx(brsc, ims=ims1, opt=opt)\n",
    "    idxs_x2 = xd.get_idx([bq], ims=ims2, opt=opt)\n",
    "    x1, x2 = xs[idxs_x1], xs[idxs_x2]\n",
    "\n",
    "    n2 = 1\n",
    "    n1s = np.arange(1,len(brsc)+1)\n",
    "    errs = []\n",
    "    for n1 in n1s:\n",
    "        ds2, y2_est = obj.krr(x1[:n1],y1[:n1],x2,kernel='g',c=1.0,l=1.e-8)\n",
    "        dy2 = np.abs(y2_est-y2)\n",
    "        denom = n2 * dy2.shape[1]\n",
    "        mae, rmse, errmax = np.sum(dy2)/denom, np.sqrt(np.sum(dy2**2)/denom), np.max(dy2)\n",
    "        errs.append([mae, rmse, errmax])\n",
    "        print('  n1,  mae, rmse, delta_max = %d, %.5f %.5f %.5f'%(n1, mae, rmse, errmax) )\n",
    "    return n1s, errs\n"
   ]
  },
  {
   "cell_type": "code",
   "execution_count": 42,
   "metadata": {
    "scrolled": true
   },
   "outputs": [
    {
     "ename": "ValueError",
     "evalue": "need more than 1 value to unpack",
     "output_type": "error",
     "traceback": [
      "\u001b[0;31m---------------------------------------------------------------------------\u001b[0m",
      "\u001b[0;31mValueError\u001b[0m                                Traceback (most recent call last)",
      "\u001b[0;32m<ipython-input-42-7c0e73f09e69>\u001b[0m in \u001b[0;36m<module>\u001b[0;34m()\u001b[0m\n\u001b[1;32m      2\u001b[0m \u001b[0mbrs\u001b[0m \u001b[0;34m=\u001b[0m \u001b[0;34m[\u001b[0m\u001b[0;34m[\u001b[0m\u001b[0;36m2\u001b[0m\u001b[0;34m,\u001b[0m\u001b[0;36m11\u001b[0m\u001b[0;34m]\u001b[0m\u001b[0;34m,\u001b[0m\u001b[0;34m[\u001b[0m\u001b[0;36m1\u001b[0m\u001b[0;34m,\u001b[0m\u001b[0;36m9\u001b[0m\u001b[0;34m]\u001b[0m\u001b[0;34m,\u001b[0m\u001b[0;34m[\u001b[0m\u001b[0;36m0\u001b[0m\u001b[0;34m,\u001b[0m\u001b[0;36m6\u001b[0m\u001b[0;34m]\u001b[0m\u001b[0;34m,\u001b[0m\u001b[0;34m[\u001b[0m\u001b[0;36m0\u001b[0m\u001b[0;34m,\u001b[0m\u001b[0;36m7\u001b[0m\u001b[0;34m]\u001b[0m \u001b[0;34m]\u001b[0m\u001b[0;34m\u001b[0m\u001b[0m\n\u001b[1;32m      3\u001b[0m \u001b[0mims1\u001b[0m\u001b[0;34m,\u001b[0m \u001b[0mims2\u001b[0m \u001b[0;34m=\u001b[0m \u001b[0;34m[\u001b[0m\u001b[0;36m0\u001b[0m\u001b[0;34m]\u001b[0m\u001b[0;34m,\u001b[0m \u001b[0;34m[\u001b[0m\u001b[0;36m1\u001b[0m\u001b[0;34m]\u001b[0m\u001b[0;34m\u001b[0m\u001b[0m\n\u001b[0;32m----> 4\u001b[0;31m \u001b[0mn1s\u001b[0m\u001b[0;34m,\u001b[0m \u001b[0merrs\u001b[0m \u001b[0;34m=\u001b[0m \u001b[0mget_lc\u001b[0m\u001b[0;34m(\u001b[0m\u001b[0mfs\u001b[0m\u001b[0;34m,\u001b[0m \u001b[0mobjs\u001b[0m\u001b[0;34m,\u001b[0m \u001b[0mims1\u001b[0m\u001b[0;34m,\u001b[0m \u001b[0mims2\u001b[0m\u001b[0;34m,\u001b[0m \u001b[0mbrs\u001b[0m\u001b[0;34m,\u001b[0m \u001b[0mbq\u001b[0m\u001b[0;34m)\u001b[0m\u001b[0;34m\u001b[0m\u001b[0m\n\u001b[0m\u001b[1;32m      5\u001b[0m \u001b[0mots\u001b[0m \u001b[0;34m=\u001b[0m \u001b[0mplt\u001b[0m\u001b[0;34m.\u001b[0m\u001b[0mloglog\u001b[0m\u001b[0;34m(\u001b[0m\u001b[0mn1s\u001b[0m\u001b[0;34m,\u001b[0m \u001b[0merrs\u001b[0m\u001b[0;34m,\u001b[0m \u001b[0;34m'-o'\u001b[0m\u001b[0;34m)\u001b[0m\u001b[0;34m\u001b[0m\u001b[0m\n\u001b[1;32m      6\u001b[0m \u001b[0;31m#print( np.max(np.))\u001b[0m\u001b[0;34m\u001b[0m\u001b[0;34m\u001b[0m\u001b[0m\n",
      "\u001b[0;32m<ipython-input-28-34911a6e9f8e>\u001b[0m in \u001b[0;36mget_lc\u001b[0;34m(fs, objs, ims1, ims2, brs, bq)\u001b[0m\n\u001b[1;32m      1\u001b[0m \u001b[0;34m\u001b[0m\u001b[0m\n\u001b[1;32m      2\u001b[0m \u001b[0;32mdef\u001b[0m \u001b[0mget_lc\u001b[0m\u001b[0;34m(\u001b[0m\u001b[0mfs\u001b[0m\u001b[0;34m,\u001b[0m \u001b[0mobjs\u001b[0m\u001b[0;34m,\u001b[0m \u001b[0mims1\u001b[0m\u001b[0;34m,\u001b[0m \u001b[0mims2\u001b[0m\u001b[0;34m,\u001b[0m \u001b[0mbrs\u001b[0m\u001b[0;34m,\u001b[0m \u001b[0mbq\u001b[0m\u001b[0;34m)\u001b[0m\u001b[0;34m:\u001b[0m\u001b[0;34m\u001b[0m\u001b[0m\n\u001b[0;32m----> 3\u001b[0;31m     \u001b[0mbrsc\u001b[0m\u001b[0;34m,\u001b[0m \u001b[0my1\u001b[0m\u001b[0;34m,\u001b[0m \u001b[0my2\u001b[0m \u001b[0;34m=\u001b[0m \u001b[0mget_dmxs\u001b[0m\u001b[0;34m(\u001b[0m\u001b[0mfs\u001b[0m\u001b[0;34m,\u001b[0m \u001b[0mobjs\u001b[0m\u001b[0;34m,\u001b[0m \u001b[0mbrs\u001b[0m\u001b[0;34m,\u001b[0m \u001b[0mbq\u001b[0m\u001b[0;34m)\u001b[0m\u001b[0;34m\u001b[0m\u001b[0m\n\u001b[0m\u001b[1;32m      4\u001b[0m \u001b[0;34m\u001b[0m\u001b[0m\n\u001b[1;32m      5\u001b[0m     \u001b[0mopt\u001b[0m \u001b[0;34m=\u001b[0m \u001b[0;34m'ii'\u001b[0m\u001b[0;34m\u001b[0m\u001b[0m\n",
      "\u001b[0;32m<ipython-input-3-ef185d789127>\u001b[0m in \u001b[0;36mget_dmxs\u001b[0;34m(fs, objs, brs, bq)\u001b[0m\n\u001b[1;32m      1\u001b[0m \u001b[0;32mdef\u001b[0m \u001b[0mget_dmxs\u001b[0m\u001b[0;34m(\u001b[0m\u001b[0mfs\u001b[0m\u001b[0;34m,\u001b[0m \u001b[0mobjs\u001b[0m\u001b[0;34m,\u001b[0m \u001b[0mbrs\u001b[0m\u001b[0;34m,\u001b[0m \u001b[0mbq\u001b[0m\u001b[0;34m)\u001b[0m\u001b[0;34m:\u001b[0m\u001b[0;34m\u001b[0m\u001b[0m\n\u001b[0;32m----> 2\u001b[0;31m     \u001b[0mo1\u001b[0m\u001b[0;34m,\u001b[0m\u001b[0mo2\u001b[0m \u001b[0;34m=\u001b[0m \u001b[0mobjs\u001b[0m\u001b[0;34m\u001b[0m\u001b[0m\n\u001b[0m\u001b[1;32m      3\u001b[0m \u001b[0;34m\u001b[0m\u001b[0m\n\u001b[1;32m      4\u001b[0m     \u001b[0;31m#fs = [ 'test/'+fi+'.xyz' for fi in ['c06h14', 'c12h26'] ] #'c07h16', 'c08h18',\u001b[0m\u001b[0;34m\u001b[0m\u001b[0;34m\u001b[0m\u001b[0m\n\u001b[1;32m      5\u001b[0m     \u001b[0mms\u001b[0m \u001b[0;34m=\u001b[0m \u001b[0;34m[\u001b[0m \u001b[0maio\u001b[0m\u001b[0;34m.\u001b[0m\u001b[0mread\u001b[0m\u001b[0;34m(\u001b[0m\u001b[0mf\u001b[0m\u001b[0;34m)\u001b[0m \u001b[0;32mfor\u001b[0m \u001b[0mf\u001b[0m \u001b[0;32min\u001b[0m \u001b[0mfs\u001b[0m \u001b[0;34m]\u001b[0m\u001b[0;34m\u001b[0m\u001b[0m\n",
      "\u001b[0;31mValueError\u001b[0m: need more than 1 value to unpack"
     ]
    }
   ],
   "source": [
    "bq = [0,12]\n",
    "brs = [[2,11],[1,9],[0,6],[0,7] ]\n",
    "ims1, ims2 = [0], [1]\n",
    "n1s, errs = get_lc(fs, objs, ims1, ims2, brs, bq)\n",
    "ots = plt.loglog(n1s, errs, '-o')\n",
    "#print( np.max(np.))"
   ]
  },
  {
   "cell_type": "code",
   "execution_count": 12,
   "metadata": {},
   "outputs": [
    {
     "name": "stdout",
     "output_type": "stream",
     "text": [
      " * Warning: you may need mirror symmetry to rectify this!\n",
      "            For now, we simply neglect such case, i.e., skip\n",
      "            this very bond as a training point\n",
      "('bond=(  0, 10)', ' max deviation: 0.01150')\n",
      " * Warning: you may need mirror symmetry to rectify this!\n",
      "            For now, we simply neglect such case, i.e., skip\n",
      "            this very bond as a training point\n",
      " * Warning: you may need mirror symmetry to rectify this!\n",
      "            For now, we simply neglect such case, i.e., skip\n",
      "            this very bond as a training point\n",
      "('bond=(  1, 11)', ' max deviation: 0.00007')\n",
      " * Warning: you may need mirror symmetry to rectify this!\n",
      "            For now, we simply neglect such case, i.e., skip\n",
      "            this very bond as a training point\n",
      "('bond=(  2,  9)', ' max deviation: 0.00054')\n",
      " * Warning: you may need mirror symmetry to rectify this!\n",
      "            For now, we simply neglect such case, i.e., skip\n",
      "            this very bond as a training point\n",
      "('bond=(  2, 13)', ' max deviation: 0.00029')\n",
      " * Warning: you may need mirror symmetry to rectify this!\n",
      "            For now, we simply neglect such case, i.e., skip\n",
      "            this very bond as a training point\n",
      "  n1,  mae, rmse, delta_max = 1, 0.04655 0.06304 0.12709\n",
      "  n1,  mae, rmse, delta_max = 2, 0.00003 0.00004 0.00006\n",
      "  n1,  mae, rmse, delta_max = 3, 0.00003 0.00004 0.00007\n",
      "  n1,  mae, rmse, delta_max = 4, 0.00003 0.00004 0.00007\n"
     ]
    },
    {
     "data": {
      "image/png": "[encoded data removed]",
      "text/plain": [
       "<Figure size 432x288 with 1 Axes>"
      ]
     },
     "metadata": {
      "needs_background": "light"
     },
     "output_type": "display_data"
    }
   ],
   "source": [
    "bq = [1,17]\n",
    "brs = [[0,9],[0,10],[1,6],[1,7],[1,11],[1,12],[2,9],[2,10],[2,13],[2,14] ]\n",
    "ims1, ims2 = [0], [1]\n",
    "n1s, errs = get_lc(fs, objs, ims1, ims2, brs, bq)\n",
    "ots = plt.loglog(n1s, errs, '-o')"
   ]
  },
  {
   "cell_type": "code",
   "execution_count": 13,
   "metadata": {
    "scrolled": true
   },
   "outputs": [
    {
     "name": "stdout",
     "output_type": "stream",
     "text": [
      "('bond=(  0,  1)', ' max deviation: 0.02721')\n",
      "('bond=(  2,  3)', ' max deviation: 0.00107')\n",
      "('bond=(  1,  2)', ' max deviation: 0.00005')\n",
      "  n1,  mae, rmse, delta_max = 1, 0.04580 0.13445 0.66280\n",
      "  n1,  mae, rmse, delta_max = 2, 0.00308 0.00861 0.04222\n",
      "  n1,  mae, rmse, delta_max = 3, 0.00001 0.00002 0.00006\n"
     ]
    },
    {
     "data": {
      "image/png": "[encoded data removed]",
      "text/plain": [
       "<Figure size 432x288 with 1 Axes>"
      ]
     },
     "metadata": {
      "needs_background": "light"
     },
     "output_type": "display_data"
    }
   ],
   "source": [
    "bq = [1,2]\n",
    "brs = [[0,1],[2,3],[1,2], ]\n",
    "ims1, ims2 = [0], [1]\n",
    "n1s, errs = get_lc(fs, objs, ims1, ims2, brs, bq)\n",
    "ots = plt.loglog(n1s, errs, '-o')"
   ]
  },
  {
   "cell_type": "code",
   "execution_count": 14,
   "metadata": {
    "scrolled": true
   },
   "outputs": [
    {
     "name": "stdout",
     "output_type": "stream",
     "text": [
      "('bond=(  0,  2)', ' max deviation: 0.00560')\n",
      "('bond=(  2,  4)', ' max deviation: 0.00043')\n",
      "('bond=(  1,  3)', ' max deviation: 0.00019')\n",
      "  n1,  mae, rmse, delta_max = 1, 0.01917 0.02945 0.10195\n",
      "  n1,  mae, rmse, delta_max = 2, 0.00163 0.00242 0.00760\n",
      "  n1,  mae, rmse, delta_max = 3, 0.00003 0.00005 0.00018\n"
     ]
    },
    {
     "data": {
      "image/png": "[encoded data removed]",
      "text/plain": [
       "<Figure size 432x288 with 1 Axes>"
      ]
     },
     "metadata": {
      "needs_background": "light"
     },
     "output_type": "display_data"
    }
   ],
   "source": [
    "bq = [1,3]\n",
    "brs = [[0,2],[2,4],[1,3], ]\n",
    "ims1, ims2 = [0], [1]\n",
    "n1s, errs = get_lc(fs, objs, ims1, ims2, brs, bq)\n",
    "ots = plt.loglog(n1s, errs, '-o')"
   ]
  },
  {
   "cell_type": "code",
   "execution_count": 30,
   "metadata": {
    "scrolled": true
   },
   "outputs": [
    {
     "name": "stdout",
     "output_type": "stream",
     "text": [
      "('bond=(  0,  3)', ' max deviation: 0.00914')\n",
      "('bond=(  2,  5)', ' max deviation: 0.00918')\n",
      "('bond=(  1,  4)', ' max deviation: 0.00068')\n",
      "  n1,  mae, rmse, delta_max = 1, 0.01064 0.02641 0.12153\n",
      "  n1,  mae, rmse, delta_max = 2, 0.00108 0.00187 0.00534\n",
      "  n1,  mae, rmse, delta_max = 3, 0.00019 0.00032 0.00110\n"
     ]
    },
    {
     "data": {
      "image/png": "[encoded data removed]",
      "text/plain": [
       "<Figure size 432x288 with 1 Axes>"
      ]
     },
     "metadata": {
      "needs_background": "light"
     },
     "output_type": "display_data"
    }
   ],
   "source": [
    "bq = [2,5]\n",
    "brs = [[0,3],[2,5],[1,4], ]\n",
    "ims1, ims2 = [0], [1]\n",
    "n1s, errs = get_lc(fs, objs, ims1, ims2, brs, bq)\n",
    "ots = plt.loglog(n1s, errs, '-o')"
   ]
  },
  {
   "cell_type": "code",
   "execution_count": null,
   "metadata": {},
   "outputs": [],
   "source": []
  },
  {
   "cell_type": "code",
   "execution_count": null,
   "metadata": {},
   "outputs": [],
   "source": []
  }
 ],
 "metadata": {
  "kernelspec": {
   "display_name": "Python 2",
   "language": "python",
   "name": "python2"
  },
  "language_info": {
   "codemirror_mode": {
    "name": "ipython",
    "version": 2
   },
   "file_extension": ".py",
   "mimetype": "text/x-python",
   "name": "python",
   "nbconvert_exporter": "python",
   "pygments_lexer": "ipython2",
   "version": "2.7.15rc1"
  }
 },
 "nbformat": 4,
 "nbformat_minor": 2
}
