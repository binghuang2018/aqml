{
 "cells": [
  {
   "cell_type": "code",
   "execution_count": 1,
   "metadata": {
    "collapsed": true
   },
   "outputs": [],
   "source": [
    "import numpy as np"
   ]
  },
  {
   "cell_type": "code",
   "execution_count": 2,
   "metadata": {},
   "outputs": [
    {
     "name": "stderr",
     "output_type": "stream",
     "text": [
      "/anaconda3/lib/python3.6/site-packages/h5py/__init__.py:34: FutureWarning: Conversion of the second argument of issubdtype from `float` to `np.floating` is deprecated. In future, it will be treated as `np.float64 == np.dtype(float).type`.\n",
      "  from ._conv import register_converters as _register_converters\n"
     ]
    }
   ],
   "source": [
    "import interfaces._pyscf as pscf"
   ]
  },
  {
   "cell_type": "code",
   "execution_count": 3,
   "metadata": {
    "collapsed": true
   },
   "outputs": [],
   "source": [
    "import ase.io as aio"
   ]
  },
  {
   "cell_type": "code",
   "execution_count": 4,
   "metadata": {
    "collapsed": true
   },
   "outputs": [],
   "source": [
    "m1 = aio.read('ch4.xyz')"
   ]
  },
  {
   "cell_type": "code",
   "execution_count": 6,
   "metadata": {
    "collapsed": true
   },
   "outputs": [],
   "source": [
    "import ase.visualize as av #.mlab as av"
   ]
  },
  {
   "cell_type": "code",
   "execution_count": 8,
   "metadata": {},
   "outputs": [],
   "source": [
    "av.view(m1) #, viewer='x3d')"
   ]
  },
  {
   "cell_type": "code",
   "execution_count": 10,
   "metadata": {},
   "outputs": [],
   "source": [
    "from __future__ import print_function\n",
    "import optparse\n",
    "\n",
    "import numpy as np\n",
    "\n",
    "from ase.data import covalent_radii\n",
    "from ase.io.cube import read_cube_data\n",
    "from ase.data.colors import cpk_colors\n",
    "from ase.calculators.calculator import get_calculator\n",
    "\n",
    "\n",
    "def plot(atoms, data, contours):\n",
    "    \"\"\"Plot atoms, unit-cell and iso-surfaces using Mayavi.\n",
    "\n",
    "    Parameters:\n",
    "\n",
    "    atoms: Atoms object\n",
    "        Positions, atomiz numbers and unit-cell.\n",
    "    data: 3-d ndarray of float\n",
    "        Data for iso-surfaces.\n",
    "    countours: list of float\n",
    "        Contour values.\n",
    "    \"\"\"\n",
    "\n",
    "    # Delay slow imports:\n",
    "    from mayavi import mlab\n",
    "\n",
    "    mlab.figure(1, bgcolor=(1, 1, 1))  # make a white figure\n",
    "\n",
    "    # Plot the atoms as spheres:\n",
    "    for pos, Z in zip(atoms.positions, atoms.numbers):\n",
    "        mlab.points3d(*pos,\n",
    "                      scale_factor=covalent_radii[Z],\n",
    "                      resolution=20,\n",
    "                      color=tuple(cpk_colors[Z]))\n",
    "\n",
    "    # Draw the unit cell:\n",
    "    A = atoms.cell\n",
    "    for i1, a in enumerate(A):\n",
    "        i2 = (i1 + 1) % 3\n",
    "        i3 = (i1 + 2) % 3\n",
    "        for b in [np.zeros(3), A[i2]]:\n",
    "            for c in [np.zeros(3), A[i3]]:\n",
    "                p1 = b + c\n",
    "                p2 = p1 + a\n",
    "                mlab.plot3d([p1[0], p2[0]],\n",
    "                            [p1[1], p2[1]],\n",
    "                            [p1[2], p2[2]],\n",
    "                            tube_radius=0.1)\n",
    "\n",
    "    cp = mlab.contour3d(data, contours=contours, transparent=True,\n",
    "                        opacity=0.5, colormap='hot')\n",
    "    # Do some tvtk magic in order to allow for non-orthogonal unit cells:\n",
    "    polydata = cp.actor.actors[0].mapper.input\n",
    "    pts = np.array(polydata.points) - 1\n",
    "    # Transform the points to the unit cell:\n",
    "    polydata.points = np.dot(pts, A / np.array(data.shape)[:, np.newaxis])\n",
    "\n",
    "    # Apparently we need this to redraw the figure, maybe it can be done in\n",
    "    # another way?\n",
    "    mlab.view(azimuth=155, elevation=70, distance='auto')\n",
    "    # Show the 3d plot:\n",
    "    mlab.show()\n",
    "\n"
   ]
  },
  {
   "cell_type": "code",
   "execution_count": 3,
   "metadata": {},
   "outputs": [
    {
     "data": {
      "application/vnd.jupyter.widget-view+json": {
       "model_id": "eb158e6d75864d988bc1f532d32174a6",
       "version_major": 2,
       "version_minor": 0
      },
      "text/plain": [
       "VBox(children=(VBox(children=(HBox(children=(Label(value='levels:'), FloatSlider(value=0.1, max=1.0, step=0.00…"
      ]
     },
     "metadata": {},
     "output_type": "display_data"
    },
    {
     "data": {
      "application/vnd.jupyter.widget-view+json": {
       "model_id": "76b8fd1f0e684e10b82f37a5ad6bb07f",
       "version_major": 2,
       "version_minor": 0
      },
      "text/plain": [
       "Mesh(line_material=ShaderMaterial(), material=ShaderMaterial(side='DoubleSide'), texture=None, triangles=array…"
      ]
     },
     "metadata": {},
     "output_type": "display_data"
    }
   ],
   "source": [
    "import ipyvolume\n",
    "\n",
    "#ipyvolume.examples.gaussian()\n",
    "ipyvolume.examples.klein_bottle()\n",
    "\n"
   ]
  },
  {
   "cell_type": "code",
   "execution_count": null,
   "metadata": {},
   "outputs": [],
   "source": []
  }
 ],
 "metadata": {
  "kernelspec": {
   "display_name": "Python 3",
   "language": "python",
   "name": "python3"
  },
  "language_info": {
   "codemirror_mode": {
    "name": "ipython",
    "version": 3
   },
   "file_extension": ".py",
   "mimetype": "text/x-python",
   "name": "python",
   "nbconvert_exporter": "python",
   "pygments_lexer": "ipython3",
   "version": "3.7.1"
  },
  "latex_envs": {
   "LaTeX_envs_menu_present": true,
   "autoclose": true,
   "autocomplete": true,
   "bibliofile": "biblio.bib",
   "cite_by": "apalike",
   "current_citInitial": 1,
   "eqLabelWithNumbers": true,
   "eqNumInitial": 1,
   "hotkeys": {
    "equation": "Ctrl-E",
    "itemize": "Ctrl-I"
   },
   "labels_anchors": false,
   "latex_user_defs": false,
   "report_style_numbering": false,
   "user_envs_cfg": false
  },
  "toc": {
   "base_numbering": 1,
   "nav_menu": {},
   "number_sections": true,
   "sideBar": true,
   "skip_h1_title": false,
   "title_cell": "Table of Contents",
   "title_sidebar": "Contents",
   "toc_cell": false,
   "toc_position": {},
   "toc_section_display": true,
   "toc_window_display": false
  }
 },
 "nbformat": 4,
 "nbformat_minor": 2
}
