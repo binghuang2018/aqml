{
 "cells": [
  {
   "cell_type": "code",
   "execution_count": 4,
   "metadata": {},
   "outputs": [],
   "source": [
    "import numpy as np\n",
    "import aqml.cheminfo.core as cc\n",
    "from importlib import reload\n",
    "import visualization.ipyvol as pv\n",
    "\n",
    "import aqml.cheminfo as co\n",
    "import io2\n",
    "b2a = io2.Units().b2a\n",
    "\n",
    "#import ase.io as aio\n",
    "import calculators.pscf as qc\n",
    "\n",
    "reload(qc); reload(pv); reload(co)\n",
    "\n",
    "T,F = True,False\n",
    "np.set_printoptions(precision=4,suppress=True)\n",
    "\n",
    "m = cc.molecule('test/c02h06.xyz')"
   ]
  },
  {
   "cell_type": "code",
   "execution_count": 5,
   "metadata": {},
   "outputs": [],
   "source": [
    "import lo.aim as la\n",
    "import calculators.pscf as pf\n",
    "reload(la); reload(pf);\n",
    "\n",
    "m1 = la.aimcao(m, meth='b3lyp', basis='cc-pvdz')\n",
    "\n",
    "#o1, c1 = m1.pnao\n",
    "\n",
    "m1.get_dm_cab()"
   ]
  },
  {
   "cell_type": "code",
   "execution_count": null,
   "metadata": {},
   "outputs": [],
   "source": []
  },
  {
   "cell_type": "code",
   "execution_count": 7,
   "metadata": {},
   "outputs": [
    {
     "name": "stdout",
     "output_type": "stream",
     "text": [
      " selected orbital idx:  [0, 1, 2, 3, 4, 5, 6, 7, 8, 9, 10, 11, 12, 13]\n",
      " now working on orbital: 1/14\n",
      " now working on orbital: 2/14\n",
      " now working on orbital: 3/14\n",
      " now working on orbital: 4/14\n",
      " now working on orbital: 5/14\n",
      " now working on orbital: 6/14\n",
      " now working on orbital: 7/14\n",
      " now working on orbital: 8/14\n",
      " now working on orbital: 9/14\n",
      " now working on orbital: 10/14\n",
      " now working on orbital: 11/14\n",
      " now working on orbital: 12/14\n",
      " now working on orbital: 13/14\n",
      " now working on orbital: 14/14\n"
     ]
    }
   ],
   "source": [
    "obj = qc.io(m1.mol)\n",
    "idx = [ i for i in range(14) ]\n",
    "#idx = [ i for i in range(53,58) ]\n",
    "#idx = [0, 1,2,3,4]\n",
    "origin, cell, data = obj.orbital(c1, idx=idx) #, grids=[100,100,100], label='test/c02h06_pnao')"
   ]
  },
  {
   "cell_type": "code",
   "execution_count": 8,
   "metadata": {},
   "outputs": [
    {
     "data": {
      "application/vnd.jupyter.widget-view+json": {
       "model_id": "8c256a31218d4d62816936b250c1d363",
       "version_major": 2,
       "version_minor": 0
      },
      "text/plain": [
       "VBox(children=(Figure(camera=PerspectiveCamera(fov=46.0, position=(0.0, 0.0, 2.0), quaternion=(0.0, 0.0, 0.0, …"
      ]
     },
     "metadata": {},
     "output_type": "display_data"
    }
   ],
   "source": [
    "\n",
    "dt = data[2]\n",
    "iso = 0.1 #np.median( dt[dt>0] )\n",
    "boundary = [ [origin[i]*b2a, b2a*(origin[i]+cell[i,i])] for i in range(3) ]\n",
    "\n",
    "m.view(origin=origin, boundary=boundary, data=dt, iso=iso) #, holdon=ho)\n"
   ]
  },
  {
   "cell_type": "code",
   "execution_count": 10,
   "metadata": {},
   "outputs": [
    {
     "data": {
      "text/plain": [
       "array([ 0.    ,  0.    , -0.    ,  0.1703,  0.3782,  0.3534,  0.1409,\n",
       "        0.313 ,  0.2924,  0.0638, -0.0007, -0.161 ,  0.0044, -0.0825,\n",
       "        0.    ,  0.    ,  0.    ,  0.    ,  0.    ,  0.    ,  0.    ,\n",
       "        0.    ,  0.    ,  0.    ,  0.    ,  0.    ,  0.    ,  0.    ,\n",
       "        0.    ,  0.    ,  0.    ,  0.    ,  0.    ,  0.    ,  0.    ,\n",
       "        0.    ,  0.    ,  0.    ,  0.    ,  0.    ,  0.    ,  0.    ,\n",
       "        0.    ,  0.    ,  0.    ,  0.    ,  0.    ,  0.    ,  0.    ,\n",
       "        0.    ,  0.    ,  0.    ,  0.    ,  0.    ,  0.    ,  0.    ,\n",
       "        0.    ,  0.    ])"
      ]
     },
     "execution_count": 10,
     "metadata": {},
     "output_type": "execute_result"
    }
   ],
   "source": [
    "c1[:,2]"
   ]
  },
  {
   "cell_type": "code",
   "execution_count": 11,
   "metadata": {},
   "outputs": [],
   "source": [
    "#m.rotate(60, v=(1,1,1))\n",
    "#aobj = la.aimcao(m, meth='b3lyp', basis='cc-pvdz')\n",
    "#aobj.pnao"
   ]
  },
  {
   "cell_type": "code",
   "execution_count": null,
   "metadata": {},
   "outputs": [],
   "source": []
  },
  {
   "cell_type": "code",
   "execution_count": 10,
   "metadata": {
    "scrolled": true
   },
   "outputs": [
    {
     "name": "stdout",
     "output_type": "stream",
     "text": [
      "34.731774848189715 [ 2.      1.9252  1.8782  1.8782  1.7969  0.4382  0.1595  0.1595  0.0013\n",
      "  0.      0.     -0.     -0.     -0.      2.      1.9252  1.8782  1.8782\n",
      "  1.7969  0.4382  0.1595  0.1595  0.0013  0.      0.     -0.     -0.\n",
      " -0.      1.8189  0.3825  0.0821  0.081   0.0117  1.8189  0.3825  0.0821\n",
      "  0.081   0.0117  1.8189  0.3825  0.0821  0.081   0.0117  1.8189  0.3825\n",
      "  0.0821  0.081   0.0117  1.8189  0.3825  0.0821  0.081   0.0117  1.8189\n",
      "  0.3825  0.0821  0.081   0.0117]\n"
     ]
    }
   ],
   "source": [
    "meth = 'b3lyp' # 'eht'; \n",
    "basis = 'cc-pvdz'\n",
    "om = qc.calculator(m, basis=basis, meth=meth)\n",
    "om.get_h()\n",
    "o, c = om.get_pnao()\n",
    "print(sum(o), o)"
   ]
  },
  {
   "cell_type": "code",
   "execution_count": 5,
   "metadata": {},
   "outputs": [
    {
     "name": "stdout",
     "output_type": "stream",
     "text": [
      " selected orbital idx:  [0, 1, 2, 3, 4, 5, 6, 7, 8, 9, 10, 11, 12, 13]\n",
      " now working on orbital: 1/14\n",
      " now working on orbital: 2/14\n",
      " now working on orbital: 3/14\n",
      " now working on orbital: 4/14\n",
      " now working on orbital: 5/14\n",
      " now working on orbital: 6/14\n",
      " now working on orbital: 7/14\n",
      " now working on orbital: 8/14\n",
      " now working on orbital: 9/14\n",
      " now working on orbital: 10/14\n",
      " now working on orbital: 11/14\n",
      " now working on orbital: 12/14\n",
      " now working on orbital: 13/14\n",
      " now working on orbital: 14/14\n"
     ]
    }
   ],
   "source": [
    "obj = qc.io(om.mol)\n",
    "idx = [ i for i in range(14) ]\n",
    "#idx = [ i for i in range(53,58) ]\n",
    "#idx = [0, 1,2,3,4]\n",
    "origin, cell, data = obj.orbital(c, idx=idx) #, grids=[100,100,100], label='test/c02h06_pnao')"
   ]
  },
  {
   "cell_type": "code",
   "execution_count": 6,
   "metadata": {},
   "outputs": [
    {
     "data": {
      "application/vnd.jupyter.widget-view+json": {
       "model_id": "b3a5de2041274fe28cd06c82b0acb9a5",
       "version_major": 2,
       "version_minor": 0
      },
      "text/plain": [
       "VBox(children=(Figure(camera=PerspectiveCamera(fov=46.0, position=(0.0, 0.0, 2.0), quaternion=(0.0, 0.0, 0.0, …"
      ]
     },
     "metadata": {},
     "output_type": "display_data"
    }
   ],
   "source": [
    "\n",
    "dt = data[2]\n",
    "iso = 0.01 #np.median( dt[dt>0] )\n",
    "boundary = [ [origin[i]*b2a, b2a*(origin[i]+cell[i,i])] for i in range(3) ]\n",
    "\n",
    "m.view(origin=origin, boundary=boundary) #, data=dt, iso=iso) #, holdon=ho)\n",
    "\n"
   ]
  },
  {
   "cell_type": "code",
   "execution_count": 7,
   "metadata": {},
   "outputs": [
    {
     "ename": "TypeError",
     "evalue": "get_h() got an unexpected keyword argument 'meth'",
     "output_type": "error",
     "traceback": [
      "\u001b[0;31m-----------------------------------------------\u001b[0m",
      "\u001b[0;31mTypeError\u001b[0m     Traceback (most recent call last)",
      "\u001b[0;32m<ipython-input-7-ccf4c597beb4>\u001b[0m in \u001b[0;36m<module>\u001b[0;34m\u001b[0m\n\u001b[1;32m      1\u001b[0m \u001b[0mmeth\u001b[0m \u001b[0;34m=\u001b[0m \u001b[0;34m'hf'\u001b[0m\u001b[0;34m;\u001b[0m \u001b[0mbasis\u001b[0m \u001b[0;34m=\u001b[0m \u001b[0;34m'cc-pvdz'\u001b[0m\u001b[0;34m\u001b[0m\u001b[0;34m\u001b[0m\u001b[0m\n\u001b[1;32m      2\u001b[0m \u001b[0mom\u001b[0m \u001b[0;34m=\u001b[0m \u001b[0mqc\u001b[0m\u001b[0;34m.\u001b[0m\u001b[0mcalculator\u001b[0m\u001b[0;34m(\u001b[0m\u001b[0mm\u001b[0m\u001b[0;34m,\u001b[0m \u001b[0mbasis\u001b[0m\u001b[0;34m=\u001b[0m\u001b[0mbasis\u001b[0m\u001b[0;34m)\u001b[0m\u001b[0;34m\u001b[0m\u001b[0;34m\u001b[0m\u001b[0m\n\u001b[0;32m----> 3\u001b[0;31m \u001b[0mom\u001b[0m\u001b[0;34m.\u001b[0m\u001b[0mget_h\u001b[0m\u001b[0;34m(\u001b[0m\u001b[0mmeth\u001b[0m\u001b[0;34m=\u001b[0m\u001b[0mmeth\u001b[0m\u001b[0;34m)\u001b[0m\u001b[0;34m\u001b[0m\u001b[0;34m\u001b[0m\u001b[0m\n\u001b[0m\u001b[1;32m      4\u001b[0m \u001b[0mo\u001b[0m\u001b[0;34m,\u001b[0m \u001b[0mc\u001b[0m \u001b[0;34m=\u001b[0m \u001b[0mom\u001b[0m\u001b[0;34m.\u001b[0m\u001b[0mget_pnao\u001b[0m\u001b[0;34m(\u001b[0m\u001b[0;34m)\u001b[0m\u001b[0;34m\u001b[0m\u001b[0;34m\u001b[0m\u001b[0m\n\u001b[1;32m      5\u001b[0m \u001b[0mprint\u001b[0m\u001b[0;34m(\u001b[0m\u001b[0msum\u001b[0m\u001b[0;34m(\u001b[0m\u001b[0mo\u001b[0m\u001b[0;34m)\u001b[0m\u001b[0;34m,\u001b[0m \u001b[0mo\u001b[0m\u001b[0;34m)\u001b[0m\u001b[0;34m\u001b[0m\u001b[0;34m\u001b[0m\u001b[0m\n",
      "\u001b[0;31mTypeError\u001b[0m: get_h() got an unexpected keyword argument 'meth'"
     ]
    }
   ],
   "source": [
    "meth = 'hf'; basis = 'cc-pvdz'\n",
    "om = qc.calculator(m, basis=basis)\n",
    "om.get_h(meth=meth)\n",
    "o, c = om.get_pnao()\n",
    "print(sum(o), o)"
   ]
  },
  {
   "cell_type": "code",
   "execution_count": null,
   "metadata": {},
   "outputs": [],
   "source": [
    "basis = 'cc-pvdz'\n",
    "om = qc.calculator(m, basis=basis)\n",
    "om.get_h(meth='b3lyp')\n",
    "o, c = om.get_pnao()\n",
    "print(sum(o), o)"
   ]
  },
  {
   "cell_type": "code",
   "execution_count": null,
   "metadata": {},
   "outputs": [],
   "source": [
    "om2 = qc.calculator(m, basis=basis)\n",
    "om2.get_h(meth='cisd', frozen=4)\n",
    "o2, c2 = om2.get_pnao()\n",
    "print(sum(o2), o2)"
   ]
  },
  {
   "cell_type": "code",
   "execution_count": null,
   "metadata": {},
   "outputs": [],
   "source": []
  },
  {
   "cell_type": "code",
   "execution_count": null,
   "metadata": {},
   "outputs": [],
   "source": [
    "om2 = qc.calculator(m, basis=basis)\n",
    "om2.get_h(meth='ccsd', frozen=4)\n",
    "o2, c2 = om2.get_pnao()\n",
    "print(sum(o2), o2)"
   ]
  },
  {
   "cell_type": "code",
   "execution_count": null,
   "metadata": {},
   "outputs": [],
   "source": []
  },
  {
   "cell_type": "code",
   "execution_count": null,
   "metadata": {},
   "outputs": [],
   "source": [
    "import os\n",
    "os.environ['OMP_NUM_THREADS'] = '16'"
   ]
  },
  {
   "cell_type": "code",
   "execution_count": null,
   "metadata": {},
   "outputs": [],
   "source": []
  },
  {
   "cell_type": "code",
   "execution_count": null,
   "metadata": {},
   "outputs": [],
   "source": [
    "obj = qc.io(om2.mol)\n",
    "idx = [ i for i in range(14) ]\n",
    "#idx = [ i for i in range(53,58) ]\n",
    "#idx = [0, 1,2,3,4]\n",
    "origin2, cell2, data2 = obj.orbital(c2, idx=idx) #, grids=[100,100,100], label='test/c02h06_pnao')"
   ]
  },
  {
   "cell_type": "code",
   "execution_count": null,
   "metadata": {},
   "outputs": [],
   "source": [
    "dt.min(), dt.max()"
   ]
  },
  {
   "cell_type": "code",
   "execution_count": null,
   "metadata": {},
   "outputs": [],
   "source": [
    "aoidx = [2,3]\n",
    "\n",
    "#for i0,i in enumerate(aoidx):\n",
    "\n",
    "dt = data[2]\n",
    "iso = 0.045 #75 #np.median( dt[dt>0] )\n",
    "boundary2 = [ [origin2[i]*b2a, b2a*(origin2[i]+cell2[i,i])] for i in range(3) ]\n",
    "ho = F if i0==0 else T\n",
    "m.view(origin=origin2, boundary=boundary2, data=dt, iso=iso) #, holdon=ho)\n",
    "\n"
   ]
  },
  {
   "cell_type": "code",
   "execution_count": null,
   "metadata": {},
   "outputs": [],
   "source": [
    "from pyscf import scf, dft"
   ]
  },
  {
   "cell_type": "code",
   "execution_count": null,
   "metadata": {},
   "outputs": [],
   "source": [
    "from pyscf.data import elements"
   ]
  },
  {
   "cell_type": "code",
   "execution_count": null,
   "metadata": {},
   "outputs": [],
   "source": [
    "elements.NRSRHF_CONFIGURATION"
   ]
  },
  {
   "cell_type": "code",
   "execution_count": null,
   "metadata": {},
   "outputs": [],
   "source": [
    "import aqml.cheminfo.molecule.elements as cme"
   ]
  },
  {
   "cell_type": "code",
   "execution_count": null,
   "metadata": {},
   "outputs": [],
   "source": [
    "import numpy as np"
   ]
  },
  {
   "cell_type": "code",
   "execution_count": null,
   "metadata": {},
   "outputs": [],
   "source": [
    "aobj.es"
   ]
  },
  {
   "cell_type": "code",
   "execution_count": null,
   "metadata": {},
   "outputs": [],
   "source": [
    "aobj = la.ascf('C', meth='hf', basis='cc-pvdz')\n",
    "aobj.es"
   ]
  },
  {
   "cell_type": "code",
   "execution_count": null,
   "metadata": {},
   "outputs": [],
   "source": []
  }
 ],
 "metadata": {
  "kernelspec": {
   "display_name": "Python 3",
   "language": "python",
   "name": "python3"
  },
  "language_info": {
   "codemirror_mode": {
    "name": "ipython",
    "version": 3
   },
   "file_extension": ".py",
   "mimetype": "text/x-python",
   "name": "python",
   "nbconvert_exporter": "python",
   "pygments_lexer": "ipython3",
   "version": "3.7.1"
  },
  "latex_envs": {
   "LaTeX_envs_menu_present": true,
   "autoclose": true,
   "autocomplete": true,
   "bibliofile": "biblio.bib",
   "cite_by": "apalike",
   "current_citInitial": 1,
   "eqLabelWithNumbers": true,
   "eqNumInitial": 1,
   "hotkeys": {
    "equation": "Ctrl-E",
    "itemize": "Ctrl-I"
   },
   "labels_anchors": false,
   "latex_user_defs": false,
   "report_style_numbering": false,
   "user_envs_cfg": false
  },
  "toc": {
   "base_numbering": 1,
   "nav_menu": {},
   "number_sections": true,
   "sideBar": true,
   "skip_h1_title": false,
   "title_cell": "Table of Contents",
   "title_sidebar": "Contents",
   "toc_cell": false,
   "toc_position": {},
   "toc_section_display": true,
   "toc_window_display": false
  }
 },
 "nbformat": 4,
 "nbformat_minor": 2
}
