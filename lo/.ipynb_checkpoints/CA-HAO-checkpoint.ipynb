{
 "cells": [
  {
   "cell_type": "code",
   "execution_count": 56,
   "metadata": {},
   "outputs": [],
   "source": [
    "from pyscf import gto, scf, lo\n",
    "import numpy as np\n",
    "from functools import reduce\n",
    "from pyscf.lo.orth import pre_orth_ao_atm_scf\n",
    "import ase\n",
    "\n",
    "T,F=True,False\n",
    "np.set_printoptions(precision=2,suppress=True)\n",
    "\n",
    "def calc(aseobj, bst='cc-pvdz', ical=F, icab=F):\n",
    "    zs = aseobj.numbers\n",
    "    nh = (zs==1).sum()\n",
    "    coords = aseobj.positions\n",
    "    assert zs[0]>1 and np.all(zs[1:]==1) #zs = []; coords = []\n",
    "    spin = sum(zs)%2\n",
    "    atom = ''\n",
    "    na = len(aseobj)\n",
    "    for i in range(na):\n",
    "        x,y,z = coords[i]\n",
    "        ai = aseobj[i]\n",
    "        atom += '%s %.8f %.8f %.8f;'%(ai.symbol, x,y,z)\n",
    "    if icab:\n",
    "        basis = {'H':'sto-3g'}\n",
    "    else:\n",
    "        basis = {'H':bst}\n",
    "    for si in ['C','N','O','F']: basis[si] = bst\n",
    "    mol = gto.M(atom=atom, basis=basis, verbose=0, spin=spin)\n",
    "    mf = None\n",
    "    if ical:\n",
    "        mf = scf.RHF(mol)\n",
    "        mf.kernel()\n",
    "    return mol, mf\n",
    "\n",
    "def get_hao(mol):\n",
    "    s1 = mol.intor_symmetric('int1e_ovlp')\n",
    "    b1 = pre_orth_ao_atm_scf(mol)\n",
    "    sb = reduce( np.dot, (b1.conjugate().T, s1, b1) )\n",
    "    aolbs = mol.ao_labels(); nao = len(aolbs)\n",
    "    sb_hx = sb[-nh:,:-nh] # overlap matrix H-X\n",
    "    u,d,vh = np.linalg.svd(sb_hx, full_matrices=False, compute_uv=True)\n",
    "    a1 = np.dot(vh.T, u.T)\n",
    "    # now Schmidt orthogonalization\n",
    "    n1 = nh\n",
    "    n2 = nao - nh\n",
    "    t = np.eye(n2)\n",
    "    t[:,:nh] = a1\n",
    "    for i in range(nh,n2):\n",
    "        for j in range(i):\n",
    "            cj = t[i,j] \n",
    "            t[:,i] -= cj*t[:,j]\n",
    "        t[:,i] /= np.linalg.norm(t[:,i])\n",
    "    for i in range(n2):\n",
    "        csi = t[i,:6]\n",
    "        so = ' '.join(['%10.2f '%si for si in csi])\n",
    "        print(aolbs[i], so)\n",
    "    return t\n",
    "\n",
    "def get_new_dm1(mol, mf, t):\n",
    "    cs = mf.mo_coeff\n",
    "    return cs"
   ]
  },
  {
   "cell_type": "code",
   "execution_count": 57,
   "metadata": {
    "scrolled": true
   },
   "outputs": [
    {
     "name": "stdout",
     "output_type": "stream",
     "text": [
      "('0 F 1s    ', '      0.06       -0.03        0.04        0.00        0.00       -0.07 ')\n",
      "('0 F 2s    ', '      0.51        0.86       -0.00        0.00        0.00        0.00 ')\n",
      "('0 F 3s    ', '     -0.45        0.27        0.85        0.00        0.00       -0.00 ')\n",
      "('0 F 2px   ', '      0.00        0.00        0.00        1.00        0.00        0.00 ')\n",
      "('0 F 2py   ', '      0.00        0.00        0.00        0.00        1.00        0.00 ')\n",
      "('0 F 2pz   ', '      0.49       -0.29        0.35        0.00        0.00        0.75 ')\n",
      "('0 F 3px   ', '      0.00        0.00        0.00        0.00        0.00        0.00 ')\n",
      "('0 F 3py   ', '      0.00        0.00        0.00        0.00        0.00        0.00 ')\n",
      "('0 F 3pz   ', '      0.52       -0.31        0.38        0.00        0.00       -0.64 ')\n",
      "('0 F 3dxy  ', '      0.00        0.00        0.00        0.00        0.00        0.00 ')\n",
      "('0 F 3dyz  ', '      0.00        0.00        0.00        0.00        0.00        0.00 ')\n",
      "('0 F 3dz^2 ', '      0.16       -0.09        0.11        0.00        0.00       -0.19 ')\n",
      "('0 F 3dxz  ', '      0.00        0.00        0.00        0.00        0.00        0.00 ')\n",
      "('0 F 3dx2-y2', '      0.00        0.00        0.00        0.00        0.00        0.00 ')\n"
     ]
    }
   ],
   "source": [
    "bst = 'cc-pvdz'\n",
    "zs = [9,1]; coords = [[0.,0.,0],[0.,0.,0.98]]; m = ase.Atoms(zs,coords)\n",
    "a = calc_hao(m, bst=bst)\n"
   ]
  },
  {
   "cell_type": "code",
   "execution_count": 60,
   "metadata": {},
   "outputs": [
    {
     "data": {
      "text/plain": [
       "1.0"
      ]
     },
     "execution_count": 60,
     "metadata": {},
     "output_type": "execute_result"
    }
   ],
   "source": [
    "np.dot(a[:,2],a[:,2])"
   ]
  },
  {
   "cell_type": "code",
   "execution_count": 35,
   "metadata": {
    "scrolled": true
   },
   "outputs": [
    {
     "name": "stdout",
     "output_type": "stream",
     "text": [
      "('0 F 1s    ', '      0.06 ')\n",
      "('0 F 2s    ', '      0.51 ')\n",
      "('0 F 3s    ', '     -0.45 ')\n",
      "('0 F 2px   ', '      0.44 ')\n",
      "('0 F 2py   ', '     -0.12 ')\n",
      "('0 F 2pz   ', '      0.16 ')\n",
      "('0 F 3px   ', '      0.47 ')\n",
      "('0 F 3py   ', '     -0.13 ')\n",
      "('0 F 3pz   ', '      0.17 ')\n",
      "('0 F 3dxy  ', '     -0.06 ')\n",
      "('0 F 3dyz  ', '     -0.02 ')\n",
      "('0 F 3dz^2 ', '     -0.05 ')\n",
      "('0 F 3dxz  ', '      0.08 ')\n",
      "('0 F 3dx2-y2', '      0.10 ')\n"
     ]
    }
   ],
   "source": [
    "m.rotate(90, [1,1,1])\n",
    "a = calc_hao(m, bst=bst)"
   ]
  },
  {
   "cell_type": "code",
   "execution_count": null,
   "metadata": {},
   "outputs": [],
   "source": []
  }
 ],
 "metadata": {
  "kernelspec": {
   "display_name": "Python 2",
   "language": "python",
   "name": "python2"
  },
  "language_info": {
   "codemirror_mode": {
    "name": "ipython",
    "version": 2
   },
   "file_extension": ".py",
   "mimetype": "text/x-python",
   "name": "python",
   "nbconvert_exporter": "python",
   "pygments_lexer": "ipython2",
   "version": "2.7.15"
  }
 },
 "nbformat": 4,
 "nbformat_minor": 2
}
