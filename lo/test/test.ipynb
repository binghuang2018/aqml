{
 "cells": [
  {
   "cell_type": "code",
   "execution_count": 1,
   "metadata": {},
   "outputs": [],
   "source": [
    "import ase.io as aio\n",
    "from ase.visualize import view\n",
    "import io2, ase\n",
    "import imolecule\n",
    "import numpy as np\n",
    "from IPython.display import display, HTML\n",
    "from rdkit import Chem\n",
    "\n",
    "np.set_printoptions(precision=4,suppress=True)\n",
    "\n",
    "def html(_fs,size=(200,200)): \n",
    "    renders = (imolecule.draw(f, size=size, display_html=False) for f in _fs)\n",
    "    columns = ('<div class=\"col-xs-6 col-sm-3\">{}</div>'.format(r) for r in renders)\n",
    "    return HTML('<div class=\"row\">{}</div>'.format(\"\".join(columns)))\n",
    "\n",
    "def id2file(lbs):\n",
    "    return [ 'frag_%s.sdf'%lb for lb in lbs ]\n",
    "\n",
    "def idx(i,nav,nf):\n",
    "    ib=i*nav; _ie=(i+1)*nav; ie=nf if _ie>nf else _ie\n",
    "    return ib,ie\n",
    "\n",
    "def ase2html(objs):\n",
    "    'Return the html representation the atoms object as string'\n",
    "    from tempfile import NamedTemporaryFile as ntf\n",
    "    renders = []\n",
    "    for obj in objs:\n",
    "        if isinstance(obj,str):\n",
    "            atoms = aio.read(f)\n",
    "        elif isinstance(obj, ase.Atoms):\n",
    "            atoms = obj\n",
    "        else:\n",
    "            raise '#unknown `obj type'\n",
    "        with ntf('r+', suffix='.html') as fo:\n",
    "            atoms.write(fo.name, format='html')\n",
    "            fo.seek(0)\n",
    "            renders.append( fo.read() )\n",
    "    columns = ('<div class=\"col-xs-6 col-sm-3\">{}</div>'.format(r) for r in renders)\n",
    "    return HTML('<div class=\"row\">{}</div>'.format(\"\".join(columns)))       \n",
    "\n",
    "def permute_aidx(m, new_aidx):\n",
    "    na = len(m)\n",
    "    ias0 = np.arange(na)\n",
    "    na1 = len(new_aidx)\n",
    "    if na1 < na:\n",
    "        ias1 = list(ias0[new_aidx])+list(ias0[na1:])\n",
    "    else:\n",
    "        ias1 = ias0\n",
    "    zsu = m.numbers[ias1]\n",
    "    psu = m.positions[ias1]\n",
    "    return ase.Atoms(zsu,psu)"
   ]
  },
  {
   "cell_type": "code",
   "execution_count": 2,
   "metadata": {},
   "outputs": [
    {
     "name": "stderr",
     "output_type": "stream",
     "text": [
      "/Users/bing/anaconda3/lib/python3.6/site-packages/h5py/__init__.py:36: FutureWarning: Conversion of the second argument of issubdtype from `float` to `np.floating` is deprecated. In future, it will be treated as `np.float64 == np.dtype(float).type`.\n",
      "  from ._conv import register_converters as _register_converters\n"
     ]
    }
   ],
   "source": [
    "import aqml.cheminfo.lo.dm as cld\n",
    "import os,sys\n",
    "import numpy.linalg as LA\n",
    "\n",
    "np.set_printoptions(precision=4,suppress=True)\n",
    "\n",
    "def normalize(_vs, _signs=None):\n",
    "    _vsu = []\n",
    "    for i,vi in enumerate(_vs):\n",
    "        vo = np.array(vi)/LA.norm(vi)\n",
    "        if _signs is not None:\n",
    "            vo *= _signs[i]\n",
    "        _vsu.append( vo )\n",
    "    return np.array(_vsu)\n",
    "\n",
    "def get_hyb_map(vsp1, vsb1):\n",
    "    idx = []; vals = []\n",
    "    for i1,vp1 in enumerate(vsp1):\n",
    "        _vals = []\n",
    "        for i2,vb1 in enumerate(vsb1):\n",
    "            #_vals.append( np.abs(np.dot(vp1,vb1)) )\n",
    "            _vals.append( np.dot(vp1,vb1) )\n",
    "        seq = np.argsort(_vals) \n",
    "        _id = seq[-1]\n",
    "        #if not (_vals[seq[-1]] > _vals[seq[-2]]):\n",
    "        #print ' _vals = ', _vals\n",
    "        idx.append( _id ); vals.append( _vals[_id] )\n",
    "    return idx #, vals\n",
    "\n",
    "def get_dm_obj(obj, basis='sto-3g', meth='b3lyp', idx=None, idx2=None, iprt=False):\n",
    "    spin=0; a=0.; verbose=3\n",
    "    if isinstance(obj,str):\n",
    "        assert os.path.exists(obj)\n",
    "        m = aio.read(obj)\n",
    "    else:\n",
    "        m = obj\n",
    "    zs, coords = m.numbers, m.positions\n",
    "    #fno = fn[:-4] + '.out'\n",
    "    obj2 = cld.density_matrix(zs, coords, output=None, basis=basis, meth=meth, \\\n",
    "                         spin=spin, verbose=verbose, iprt=iprt)\n",
    "    obj2.calc_ca_dm(idx=idx, idx2=idx2)\n",
    "    return obj2\n",
    "\n",
    "def get_dm_aa(obj, ia, ja, bst='sto-3g', ihao=True):\n",
    "    assert bst=='sto-3g'\n",
    "    zs = obj.zs\n",
    "    nheav = (np.array(zs)>1).sum()\n",
    "    aoidxs = []\n",
    "    nao0 = nheav * 5 \n",
    "    for i in [ia,ja]:\n",
    "        if i <= nheav-1:\n",
    "            aoidxs.append( [i*5, (i+1)*5] )\n",
    "        else:\n",
    "            aoidxs.append( [nao0+(i-nheav), nao0+(i-nheav)*1+1] )\n",
    "    ias1, ias2 = aoidxs\n",
    "    #print 'ias1=', ias1, ', ias2=',ias2\n",
    "    if ihao:\n",
    "        _dm = obj.dm1\n",
    "    else:\n",
    "        _dm = obj.dm0\n",
    "    return _dm[ias1[0]:ias1[1]][:,ias2[0]:ias2[1]].T"
   ]
  },
  {
   "cell_type": "code",
   "execution_count": 3,
   "metadata": {},
   "outputs": [],
   "source": [
    "import itertools as itl\n",
    "def get_shuffle(a,b):\n",
    "    s = range(1,5)\n",
    "    seq1 = [ [0]+list(si) for si in list(itl.permutations(s)) ]\n",
    "    seq2 = [ [0]+list(si) for si in list(itl.permutations(s)) ]\n",
    "    n = len(seq1)\n",
    "    d = 999.\n",
    "    for i in range(n):\n",
    "        for j in range(n):\n",
    "            i1 = seq1[i]; i2 = seq2[j]\n",
    "            di = np.mean(np.abs(b[i1][:,i2]-a))\n",
    "            if di < d:\n",
    "                d = di\n",
    "                i1o = i1; i2o = i2\n",
    "    return i1o,i2o,d"
   ]
  },
  {
   "cell_type": "code",
   "execution_count": 4,
   "metadata": {},
   "outputs": [
    {
     "name": "stdout",
     "output_type": "stream",
     "text": [
      "[[1, 2], [2, 3], [3, 4]] 1\n"
     ]
    }
   ],
   "source": [
    "a = {'a':[1,2], 'b':[2,3], 'c':[3,4]}\n",
    "b = list(a.values())\n",
    "print( b, np.min(b))\n",
    "#np.min( b )"
   ]
  },
  {
   "cell_type": "code",
   "execution_count": 5,
   "metadata": {
    "scrolled": true
   },
   "outputs": [
    {
     "name": "stdout",
     "output_type": "stream",
     "text": [
      " now  c06h14.xyz\n"
     ]
    },
    {
     "name": "stderr",
     "output_type": "stream",
     "text": [
      "/Users/bing/anaconda3/lib/python3.6/site-packages/pyscf/gto/mole.py:998: UserWarning: Function mol.dumps drops attribute spin because it is not JSON-serializable\n",
      "  warnings.warn(msg)\n"
     ]
    },
    {
     "name": "stdout",
     "output_type": "stream",
     "text": [
      "converged SCF energy = -234.09627537053\n",
      " now  c07h16.xyz\n",
      "converged SCF energy = -272.91519284307\n",
      " now  c08h18.xyz\n",
      "converged SCF energy = -311.734113968152\n",
      " now  c12h26.xyz\n",
      "converged SCF energy = -467.009800442332\n"
     ]
    }
   ],
   "source": [
    "fs1 = [ fi+'.xyz' for fi in ['c06h14', 'c07h16', 'c08h18','c12h26'] ]\n",
    "objs1 = []\n",
    "for f1 in fs1:\n",
    "    print (' now ', f1)\n",
    "    objs1 += [ get_dm_obj(f1)  ]"
   ]
  },
  {
   "cell_type": "code",
   "execution_count": 7,
   "metadata": {},
   "outputs": [],
   "source": [
    "o1,o2,o3,o4 = objs1"
   ]
  },
  {
   "cell_type": "code",
   "execution_count": 9,
   "metadata": {
    "scrolled": false
   },
   "outputs": [
    {
     "name": "stdout",
     "output_type": "stream",
     "text": [
      "[[-0.0382 -0.0839  0.6234 -0.0706 -0.0713]]\n",
      "[[-0.0382 -0.0839  0.6234 -0.0706 -0.0713]]\n",
      "[[-0.0382 -0.0839  0.6234 -0.0706 -0.0713]]\n",
      "[[-0.0379 -0.0829  0.6231 -0.0701 -0.0701]]\n"
     ]
    }
   ],
   "source": [
    "# now test on the same C-H\n",
    "print( get_dm_aa(o1, 0, 6))\n",
    "print( get_dm_aa(o2, 0, 7))\n",
    "print( get_dm_aa(o3, 0, 8))\n",
    "print( get_dm_aa(o4, 0, 12))"
   ]
  },
  {
   "cell_type": "code",
   "execution_count": 13,
   "metadata": {},
   "outputs": [
    {
     "name": "stdout",
     "output_type": "stream",
     "text": [
      "[[-0.0382 -0.0839  0.6234 -0.0706 -0.0713]]\n",
      "[[-0.0379 -0.0829 -0.0701  0.6231 -0.0702]]\n",
      "[[-0.0382 -0.0839 -0.0713 -0.0706  0.6234]]\n"
     ]
    }
   ],
   "source": [
    "print( get_dm_aa(o1, 0, 6))\n",
    "print( get_dm_aa(o1, 0, 7))\n",
    "print( get_dm_aa(o1, 0, 8))"
   ]
  },
  {
   "cell_type": "code",
   "execution_count": 14,
   "metadata": {},
   "outputs": [],
   "source": [
    "def get_ridx(s1,s2):\n",
    "    ridxs = []\n",
    "    for i in s1:\n",
    "        ridxs.append( s2.index(i) )\n",
    "    return ridxs"
   ]
  },
  {
   "cell_type": "code",
   "execution_count": 15,
   "metadata": {},
   "outputs": [
    {
     "name": "stdout",
     "output_type": "stream",
     "text": [
      "[[-0.0002 -0.001  -0.0011  0.0003 -0.0004]]\n"
     ]
    }
   ],
   "source": [
    "dm1 = get_dm_aa(o1, 0, 6)\n",
    "dm2 = get_dm_aa(o1, 0, 7)\n",
    "s1 = [0,1,6,7,8]; s2 = [0,1,7,8,6]; i1 = get_ridx(s1,s2)\n",
    "print( dm1[:][:,i1]-dm2 )"
   ]
  },
  {
   "cell_type": "code",
   "execution_count": 20,
   "metadata": {},
   "outputs": [
    {
     "data": {
      "text/plain": [
       "[(0, 1, 2, 3),\n",
       " (0, 1, 3, 2),\n",
       " (0, 2, 1, 3),\n",
       " (0, 2, 3, 1),\n",
       " (0, 3, 1, 2),\n",
       " (0, 3, 2, 1),\n",
       " (1, 0, 2, 3),\n",
       " (1, 0, 3, 2),\n",
       " (1, 2, 0, 3),\n",
       " (1, 2, 3, 0),\n",
       " (1, 3, 0, 2),\n",
       " (1, 3, 2, 0),\n",
       " (2, 0, 1, 3),\n",
       " (2, 0, 3, 1),\n",
       " (2, 1, 0, 3),\n",
       " (2, 1, 3, 0),\n",
       " (2, 3, 0, 1),\n",
       " (2, 3, 1, 0),\n",
       " (3, 0, 1, 2),\n",
       " (3, 0, 2, 1),\n",
       " (3, 1, 0, 2),\n",
       " (3, 1, 2, 0),\n",
       " (3, 2, 0, 1),\n",
       " (3, 2, 1, 0)]"
      ]
     },
     "execution_count": 20,
     "metadata": {},
     "output_type": "execute_result"
    }
   ],
   "source": [
    "import itertools as itl\n",
    "list(itl.permutations( range(4) ))"
   ]
  },
  {
   "cell_type": "code",
   "execution_count": null,
   "metadata": {
    "scrolled": false
   },
   "outputs": [],
   "source": [
    "print get_dm_aa(o1, 0, 6)\n",
    "print get_dm_aa(o1, 0, 7)\n",
    "print get_dm_aa(o1, 0, 8)"
   ]
  },
  {
   "cell_type": "code",
   "execution_count": null,
   "metadata": {
    "scrolled": true
   },
   "outputs": [],
   "source": [
    "print get_dm_aa(o4, 0, 14)\n",
    "print get_dm_aa(o4, 0, 12)\n",
    "print get_dm_aa(o4, 0, 13)"
   ]
  },
  {
   "cell_type": "code",
   "execution_count": null,
   "metadata": {},
   "outputs": [],
   "source": [
    "dm12_o1 = get_dm_aa(o1, 0, 1)\n",
    "dm12_o4 = get_dm_aa(o4, 0, 1)\n",
    "#i1_o1 = [2,7,8,9]; i2_o1 = [1,3,10,11]\n",
    "#i1_o4 = [2,15,13,14]; i2_o4 = [1,3,17,16];\n",
    "i1 = [0, 1, 4, 2, 3]; i2 = [0, 1, 2, 4, 3]\n",
    "print dm12_o4[i2][:,i1] - dm12_o1"
   ]
  },
  {
   "cell_type": "code",
   "execution_count": null,
   "metadata": {
    "scrolled": true
   },
   "outputs": [],
   "source": [
    "dm_H1_o1 = get_dm_aa(o1, 0, 6)[0]\n",
    "dm_H2_o1 = get_dm_aa(o1, 0, 7)[0]\n",
    "dm_H3_o1 = get_dm_aa(o1, 0, 8)[0]\n",
    "dm_H1_o4 = get_dm_aa(o4, 0, 14)[0]\n",
    "dm_H2_o4 = get_dm_aa(o4, 0, 12)[0]\n",
    "dm_H3_o4 = get_dm_aa(o4, 0, 13)[0]\n",
    "print dm_H1_o4[i1] - dm_H1_o1\n",
    "print dm_H2_o4[i1] - dm_H2_o1\n",
    "print dm_H3_o4[i1] - dm_H3_o1"
   ]
  },
  {
   "cell_type": "code",
   "execution_count": null,
   "metadata": {},
   "outputs": [],
   "source": []
  },
  {
   "cell_type": "code",
   "execution_count": null,
   "metadata": {
    "scrolled": true
   },
   "outputs": [],
   "source": [
    "dm1 = get_dm_aa(o1, 0, 3); #print dm1\n",
    "dm2 = get_dm_aa(o4, 0, 3); #print dm2\n",
    "i1=[0,1,4,2,3]; i2=[0,1,2,3,4]\n",
    "print dm1\n",
    "print dm2[i2][:,i1] - dm1"
   ]
  },
  {
   "cell_type": "code",
   "execution_count": null,
   "metadata": {
    "scrolled": false
   },
   "outputs": [],
   "source": [
    "dm1 = get_dm_aa(o1, 0, 4); #print dm1\n",
    "dm2 = get_dm_aa(o4, 0, 4); #print dm2\n",
    "i1=[0,1,4,2,3]; i2=[0,1,2,3,4]\n",
    "print dm1\n",
    "print dm2[i2][:,i1] - dm1"
   ]
  },
  {
   "cell_type": "code",
   "execution_count": null,
   "metadata": {},
   "outputs": [],
   "source": [
    "dm1 = get_dm_aa(o1, 0, 6); #print dm1\n",
    "dm2 = get_dm_aa(o4, 1, 15); #print dm2\n",
    "i1 = [0,2,3,1,4]\n",
    "print dm2[0][i1]\n",
    "print dm1"
   ]
  },
  {
   "cell_type": "code",
   "execution_count": null,
   "metadata": {},
   "outputs": [],
   "source": []
  },
  {
   "cell_type": "code",
   "execution_count": null,
   "metadata": {},
   "outputs": [],
   "source": [
    "dm1 = get_dm_aa(o4, 0, 2)\n",
    "dm2 = get_dm_aa(o1, 1, 3) \n",
    "i1 = [0,2,1,3,4]; i2 = [0,1,2,3,4]\n",
    "ddm = dm2[i2][:,i1] - dm1\n",
    "print ddm, np.mean(np.abs(ddm))"
   ]
  },
  {
   "cell_type": "code",
   "execution_count": null,
   "metadata": {},
   "outputs": [],
   "source": [
    "i1,i2,dd = get_shuffle(dm1,dm2)\n",
    "print i1,i2,dd"
   ]
  },
  {
   "cell_type": "code",
   "execution_count": null,
   "metadata": {},
   "outputs": [],
   "source": []
  }
 ],
 "metadata": {
  "kernelspec": {
   "display_name": "Python 3",
   "language": "python",
   "name": "python3"
  },
  "language_info": {
   "codemirror_mode": {
    "name": "ipython",
    "version": 3
   },
   "file_extension": ".py",
   "mimetype": "text/x-python",
   "name": "python",
   "nbconvert_exporter": "python",
   "pygments_lexer": "ipython3",
   "version": "3.6.4"
  }
 },
 "nbformat": 4,
 "nbformat_minor": 2
}
