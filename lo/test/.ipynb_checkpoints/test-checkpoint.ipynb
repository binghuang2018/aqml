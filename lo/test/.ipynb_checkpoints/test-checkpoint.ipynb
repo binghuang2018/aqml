{
 "cells": [
  {
   "cell_type": "code",
   "execution_count": 1,
   "metadata": {},
   "outputs": [
    {
     "ename": "RuntimeError",
     "evalue": "The current Numpy installation ('/Users/bing/anaconda3/lib/python3.6/site-packages/numpy/__init__.py') fails to pass simple sanity checks. This can be caused for example by incorrect BLAS library being linked in, or by mixing package managers (pip, conda, apt, ...). Search closed numpy issues for similar problems.",
     "output_type": "error",
     "traceback": [
      "\u001b[0;31m---------------------------------------------------------------------------\u001b[0m",
      "\u001b[0;31mAssertionError\u001b[0m                            Traceback (most recent call last)",
      "\u001b[0;32m~/anaconda3/lib/python3.6/site-packages/numpy/__init__.py\u001b[0m in \u001b[0;36m_sanity_check\u001b[0;34m()\u001b[0m\n\u001b[1;32m    226\u001b[0m             \u001b[0;32mif\u001b[0m \u001b[0;32mnot\u001b[0m \u001b[0mabs\u001b[0m\u001b[0;34m(\u001b[0m\u001b[0mx\u001b[0m\u001b[0;34m.\u001b[0m\u001b[0mdot\u001b[0m\u001b[0;34m(\u001b[0m\u001b[0mx\u001b[0m\u001b[0;34m)\u001b[0m \u001b[0;34m-\u001b[0m \u001b[0;36m2.0\u001b[0m\u001b[0;34m)\u001b[0m \u001b[0;34m<\u001b[0m \u001b[0;36m1e-5\u001b[0m\u001b[0;34m:\u001b[0m\u001b[0;34m\u001b[0m\u001b[0m\n\u001b[0;32m--> 227\u001b[0;31m                 \u001b[0;32mraise\u001b[0m \u001b[0mAssertionError\u001b[0m\u001b[0;34m(\u001b[0m\u001b[0;34m)\u001b[0m\u001b[0;34m\u001b[0m\u001b[0m\n\u001b[0m\u001b[1;32m    228\u001b[0m         \u001b[0;32mexcept\u001b[0m \u001b[0mAssertionError\u001b[0m\u001b[0;34m:\u001b[0m\u001b[0;34m\u001b[0m\u001b[0m\n",
      "\u001b[0;31mAssertionError\u001b[0m: ",
      "\nDuring handling of the above exception, another exception occurred:\n",
      "\u001b[0;31mRuntimeError\u001b[0m                              Traceback (most recent call last)",
      "\u001b[0;32m<ipython-input-1-bd6205e8743c>\u001b[0m in \u001b[0;36m<module>\u001b[0;34m()\u001b[0m\n\u001b[0;32m----> 1\u001b[0;31m \u001b[0;32mimport\u001b[0m \u001b[0mase\u001b[0m\u001b[0;34m.\u001b[0m\u001b[0mio\u001b[0m \u001b[0;32mas\u001b[0m \u001b[0maio\u001b[0m\u001b[0;34m\u001b[0m\u001b[0m\n\u001b[0m\u001b[1;32m      2\u001b[0m \u001b[0;32mfrom\u001b[0m \u001b[0mase\u001b[0m\u001b[0;34m.\u001b[0m\u001b[0mvisualize\u001b[0m \u001b[0;32mimport\u001b[0m \u001b[0mview\u001b[0m\u001b[0;34m\u001b[0m\u001b[0m\n\u001b[1;32m      3\u001b[0m \u001b[0;32mimport\u001b[0m \u001b[0mio2\u001b[0m\u001b[0;34m,\u001b[0m \u001b[0mase\u001b[0m\u001b[0;34m\u001b[0m\u001b[0m\n\u001b[1;32m      4\u001b[0m \u001b[0;32mimport\u001b[0m \u001b[0mimolecule\u001b[0m\u001b[0;34m\u001b[0m\u001b[0m\n\u001b[1;32m      5\u001b[0m \u001b[0;32mimport\u001b[0m \u001b[0mnumpy\u001b[0m \u001b[0;32mas\u001b[0m \u001b[0mnp\u001b[0m\u001b[0;34m\u001b[0m\u001b[0m\n",
      "\u001b[0;32m~/anaconda3/lib/python3.6/site-packages/ase/__init__.py\u001b[0m in \u001b[0;36m<module>\u001b[0;34m()\u001b[0m\n\u001b[1;32m      6\u001b[0m \u001b[0;32mfrom\u001b[0m \u001b[0mdistutils\u001b[0m\u001b[0;34m.\u001b[0m\u001b[0mversion\u001b[0m \u001b[0;32mimport\u001b[0m \u001b[0mLooseVersion\u001b[0m\u001b[0;34m\u001b[0m\u001b[0m\n\u001b[1;32m      7\u001b[0m \u001b[0;34m\u001b[0m\u001b[0m\n\u001b[0;32m----> 8\u001b[0;31m \u001b[0;32mimport\u001b[0m \u001b[0mnumpy\u001b[0m \u001b[0;32mas\u001b[0m \u001b[0mnp\u001b[0m\u001b[0;34m\u001b[0m\u001b[0m\n\u001b[0m\u001b[1;32m      9\u001b[0m \u001b[0;34m\u001b[0m\u001b[0m\n\u001b[1;32m     10\u001b[0m \u001b[0;32mfrom\u001b[0m \u001b[0mase\u001b[0m\u001b[0;34m.\u001b[0m\u001b[0matom\u001b[0m \u001b[0;32mimport\u001b[0m \u001b[0mAtom\u001b[0m\u001b[0;34m\u001b[0m\u001b[0m\n",
      "\u001b[0;32m~/anaconda3/lib/python3.6/site-packages/numpy/__init__.py\u001b[0m in \u001b[0;36m<module>\u001b[0;34m()\u001b[0m\n\u001b[1;32m    234\u001b[0m             \u001b[0;32mraise\u001b[0m \u001b[0mRuntimeError\u001b[0m\u001b[0;34m(\u001b[0m\u001b[0mmsg\u001b[0m\u001b[0;34m.\u001b[0m\u001b[0mformat\u001b[0m\u001b[0;34m(\u001b[0m\u001b[0m__file__\u001b[0m\u001b[0;34m)\u001b[0m\u001b[0;34m)\u001b[0m\u001b[0;34m\u001b[0m\u001b[0m\n\u001b[1;32m    235\u001b[0m \u001b[0;34m\u001b[0m\u001b[0m\n\u001b[0;32m--> 236\u001b[0;31m     \u001b[0m_sanity_check\u001b[0m\u001b[0;34m(\u001b[0m\u001b[0;34m)\u001b[0m\u001b[0;34m\u001b[0m\u001b[0m\n\u001b[0m\u001b[1;32m    237\u001b[0m     \u001b[0;32mdel\u001b[0m \u001b[0m_sanity_check\u001b[0m\u001b[0;34m\u001b[0m\u001b[0m\n",
      "\u001b[0;32m~/anaconda3/lib/python3.6/site-packages/numpy/__init__.py\u001b[0m in \u001b[0;36m_sanity_check\u001b[0;34m()\u001b[0m\n\u001b[1;32m    232\u001b[0m                    \u001b[0;34m\"package managers (pip, conda, apt, ...). Search closed \"\u001b[0m\u001b[0;34m\u001b[0m\u001b[0m\n\u001b[1;32m    233\u001b[0m                    \"numpy issues for similar problems.\")\n\u001b[0;32m--> 234\u001b[0;31m             \u001b[0;32mraise\u001b[0m \u001b[0mRuntimeError\u001b[0m\u001b[0;34m(\u001b[0m\u001b[0mmsg\u001b[0m\u001b[0;34m.\u001b[0m\u001b[0mformat\u001b[0m\u001b[0;34m(\u001b[0m\u001b[0m__file__\u001b[0m\u001b[0;34m)\u001b[0m\u001b[0;34m)\u001b[0m\u001b[0;34m\u001b[0m\u001b[0m\n\u001b[0m\u001b[1;32m    235\u001b[0m \u001b[0;34m\u001b[0m\u001b[0m\n\u001b[1;32m    236\u001b[0m     \u001b[0m_sanity_check\u001b[0m\u001b[0;34m(\u001b[0m\u001b[0;34m)\u001b[0m\u001b[0;34m\u001b[0m\u001b[0m\n",
      "\u001b[0;31mRuntimeError\u001b[0m: The current Numpy installation ('/Users/bing/anaconda3/lib/python3.6/site-packages/numpy/__init__.py') fails to pass simple sanity checks. This can be caused for example by incorrect BLAS library being linked in, or by mixing package managers (pip, conda, apt, ...). Search closed numpy issues for similar problems."
     ]
    }
   ],
   "source": [
    "import ase.io as aio\n",
    "from ase.visualize import view\n",
    "import io2, ase\n",
    "import imolecule\n",
    "import numpy as np\n",
    "from IPython.display import display, HTML\n",
    "from rdkit import Chem\n",
    "\n",
    "np.set_printoptions(precision=4,suppress=True)\n",
    "\n",
    "def html(_fs,size=(200,200)): \n",
    "    renders = (imolecule.draw(f, size=size, display_html=False) for f in _fs)\n",
    "    columns = ('<div class=\"col-xs-6 col-sm-3\">{}</div>'.format(r) for r in renders)\n",
    "    return HTML('<div class=\"row\">{}</div>'.format(\"\".join(columns)))\n",
    "\n",
    "def id2file(lbs):\n",
    "    return [ 'frag_%s.sdf'%lb for lb in lbs ]\n",
    "\n",
    "def idx(i,nav,nf):\n",
    "    ib=i*nav; _ie=(i+1)*nav; ie=nf if _ie>nf else _ie\n",
    "    return ib,ie\n",
    "\n",
    "def ase2html(objs):\n",
    "    'Return the html representation the atoms object as string'\n",
    "    from tempfile import NamedTemporaryFile as ntf\n",
    "    renders = []\n",
    "    for obj in objs:\n",
    "        if isinstance(obj,str):\n",
    "            atoms = aio.read(f)\n",
    "        elif isinstance(obj, ase.Atoms):\n",
    "            atoms = obj\n",
    "        else:\n",
    "            raise '#unknown `obj type'\n",
    "        with ntf('r+', suffix='.html') as fo:\n",
    "            atoms.write(fo.name, format='html')\n",
    "            fo.seek(0)\n",
    "            renders.append( fo.read() )\n",
    "    columns = ('<div class=\"col-xs-6 col-sm-3\">{}</div>'.format(r) for r in renders)\n",
    "    return HTML('<div class=\"row\">{}</div>'.format(\"\".join(columns)))       \n",
    "\n",
    "def permute_aidx(m, new_aidx):\n",
    "    na = len(m)\n",
    "    ias0 = np.arange(na)\n",
    "    na1 = len(new_aidx)\n",
    "    if na1 < na:\n",
    "        ias1 = list(ias0[new_aidx])+list(ias0[na1:])\n",
    "    else:\n",
    "        ias1 = ias0\n",
    "    zsu = m.numbers[ias1]\n",
    "    psu = m.positions[ias1]\n",
    "    return ase.Atoms(zsu,psu)"
   ]
  },
  {
   "cell_type": "code",
   "execution_count": 2,
   "metadata": {},
   "outputs": [
    {
     "data": {
      "text/html": [
       "<div class=\"row\"><div class=\"col-xs-6 col-sm-3\"><html>\n",
       "\n",
       " <head>\n",
       "\n",
       "  <title>ASE atomic visualization</title>\n",
       "\n",
       "  <link rel=\"stylesheet\" type=\"text/css\"\n",
       "\n",
       "   href=\"https://www.x3dom.org/x3dom/release/x3dom.css\">\n",
       "\n",
       "  </link>\n",
       "\n",
       "  <script type=\"text/javascript\"\n",
       "\n",
       "   src=\"https://www.x3dom.org/x3dom/release/x3dom.js\">\n",
       "\n",
       "  </script>\n",
       "\n",
       " </head>\n",
       "\n",
       " <body>\n",
       "\n",
       "  <X3D style=\"margin:0; padding:0; width:100%; height:100%; border:none;\">\n",
       "\n",
       "   <Scene>\n",
       "\n",
       "    <Transform translation=\"0.00 0.00 0.00\">\n",
       "\n",
       "     <Shape>\n",
       "\n",
       "      <Appearance>\n",
       "\n",
       "       <Material diffuseColor=\"0.565 0.565 0.565\" specularColor=\"0.5 0.5 0.5\">\n",
       "\n",
       "       </Material>\n",
       "\n",
       "      </Appearance>\n",
       "\n",
       "      <Sphere radius=\"0.76\">\n",
       "\n",
       "      </Sphere>\n",
       "\n",
       "     </Shape>\n",
       "\n",
       "    </Transform>\n",
       "\n",
       "    <Transform translation=\"-0.63 -0.63 -0.63\">\n",
       "\n",
       "     <Shape>\n",
       "\n",
       "      <Appearance>\n",
       "\n",
       "       <Material diffuseColor=\"1.000 1.000 1.000\" specularColor=\"0.5 0.5 0.5\">\n",
       "\n",
       "       </Material>\n",
       "\n",
       "      </Appearance>\n",
       "\n",
       "      <Sphere radius=\"0.31\">\n",
       "\n",
       "      </Sphere>\n",
       "\n",
       "     </Shape>\n",
       "\n",
       "    </Transform>\n",
       "\n",
       "    <Transform translation=\"0.63 0.63 -0.63\">\n",
       "\n",
       "     <Shape>\n",
       "\n",
       "      <Appearance>\n",
       "\n",
       "       <Material diffuseColor=\"1.000 1.000 1.000\" specularColor=\"0.5 0.5 0.5\">\n",
       "\n",
       "       </Material>\n",
       "\n",
       "      </Appearance>\n",
       "\n",
       "      <Sphere radius=\"0.31\">\n",
       "\n",
       "      </Sphere>\n",
       "\n",
       "     </Shape>\n",
       "\n",
       "    </Transform>\n",
       "\n",
       "    <Transform translation=\"0.63 -0.63 0.63\">\n",
       "\n",
       "     <Shape>\n",
       "\n",
       "      <Appearance>\n",
       "\n",
       "       <Material diffuseColor=\"1.000 1.000 1.000\" specularColor=\"0.5 0.5 0.5\">\n",
       "\n",
       "       </Material>\n",
       "\n",
       "      </Appearance>\n",
       "\n",
       "      <Sphere radius=\"0.31\">\n",
       "\n",
       "      </Sphere>\n",
       "\n",
       "     </Shape>\n",
       "\n",
       "    </Transform>\n",
       "\n",
       "    <Transform translation=\"-0.63 0.63 0.63\">\n",
       "\n",
       "     <Shape>\n",
       "\n",
       "      <Appearance>\n",
       "\n",
       "       <Material diffuseColor=\"1.000 1.000 1.000\" specularColor=\"0.5 0.5 0.5\">\n",
       "\n",
       "       </Material>\n",
       "\n",
       "      </Appearance>\n",
       "\n",
       "      <Sphere radius=\"0.31\">\n",
       "\n",
       "      </Sphere>\n",
       "\n",
       "     </Shape>\n",
       "\n",
       "    </Transform>\n",
       "\n",
       "   </Scene>\n",
       "\n",
       "  </X3D>\n",
       "\n",
       " </body>\n",
       "\n",
       "</html>\n",
       "\n",
       "</div></div>"
      ],
      "text/plain": [
       "<IPython.core.display.HTML object>"
      ]
     },
     "execution_count": 2,
     "metadata": {},
     "output_type": "execute_result"
    }
   ],
   "source": [
    "x = 1.09/np.sqrt(3.)\n",
    "c1,s1 = np.cos(np.pi/3), np.sin(np.pi/3)\n",
    "zs = [6, 1, 1, 1, 1]\n",
    "coords = np.array( [[ 0,  0,  0],\n",
    "                  [ -x,  -x,  -x],\n",
    "                  [ x, x, -x],\n",
    "                  [ x,  -x, x],\n",
    "                  [ -x, x, x] ])\n",
    "m = ase.Atoms(zs,coords,cell=[2,2,2])\n",
    "ase2html( [m] )"
   ]
  },
  {
   "cell_type": "code",
   "execution_count": 3,
   "metadata": {},
   "outputs": [],
   "source": [
    "coords2 = np.array( [[ 0,  0,  0],\n",
    "                  [ -x,  -x,  x],\n",
    "                  [ x, x, x],\n",
    "                  [ x,  -x, -x],\n",
    "                  [ -x, x, -x] ])\n",
    "m2 = ase.Atoms(zs,coords2,cell=[2,2,2])\n",
    "#av.view(m2)"
   ]
  },
  {
   "cell_type": "code",
   "execution_count": 4,
   "metadata": {},
   "outputs": [],
   "source": [
    "import aqml.cheminfo.lo.dm as cld\n",
    "reload(cld)\n",
    "import os,sys\n",
    "import numpy.linalg as LA\n",
    "\n",
    "np.set_printoptions(precision=4,suppress=True)\n",
    "\n",
    "def normalize(_vs, _signs=None):\n",
    "    _vsu = []\n",
    "    for i,vi in enumerate(_vs):\n",
    "        vo = np.array(vi)/LA.norm(vi)\n",
    "        if _signs is not None:\n",
    "            vo *= _signs[i]\n",
    "        _vsu.append( vo )\n",
    "    return np.array(_vsu)\n",
    "\n",
    "def get_hyb_map(vsp1, vsb1):\n",
    "    idx = []; vals = []\n",
    "    for i1,vp1 in enumerate(vsp1):\n",
    "        _vals = []\n",
    "        for i2,vb1 in enumerate(vsb1):\n",
    "            #_vals.append( np.abs(np.dot(vp1,vb1)) )\n",
    "            _vals.append( np.dot(vp1,vb1) )\n",
    "        seq = np.argsort(_vals) \n",
    "        _id = seq[-1]\n",
    "        #if not (_vals[seq[-1]] > _vals[seq[-2]]):\n",
    "        #print ' _vals = ', _vals\n",
    "        idx.append( _id ); vals.append( _vals[_id] )\n",
    "    return idx #, vals\n",
    "\n",
    "def get_dm_obj(obj, basis='sto-3g', meth='b3lyp', idx=None, idx2=None, iprt=False):\n",
    "    spin=0; a=0.; verbose=3\n",
    "    if isinstance(obj,str):\n",
    "        assert os.path.exists(obj)\n",
    "        m = aio.read(obj)\n",
    "    else:\n",
    "        m = obj\n",
    "    zs, coords = m.numbers, m.positions\n",
    "    #fno = fn[:-4] + '.out'\n",
    "    obj2 = cld.density_matrix(zs, coords, output=None, basis=basis, meth=meth, \\\n",
    "                         spin=spin, verbose=verbose, iprt=iprt)\n",
    "    obj2.calc_ca_dm(idx=idx, idx2=idx2)\n",
    "    return obj2\n",
    "\n",
    "def get_dm_aa(obj, ia, ja, bst='sto-3g', ihao=True):\n",
    "    assert bst=='sto-3g'\n",
    "    zs = obj.zs\n",
    "    nheav = (np.array(zs)>1).sum()\n",
    "    aoidxs = []\n",
    "    nao0 = nheav * 5 \n",
    "    for i in [ia,ja]:\n",
    "        if i <= nheav-1:\n",
    "            aoidxs.append( [i*5, (i+1)*5] )\n",
    "        else:\n",
    "            aoidxs.append( [nao0+(i-nheav), nao0+(i-nheav)*1+1] )\n",
    "    ias1, ias2 = aoidxs\n",
    "    #print 'ias1=', ias1, ', ias2=',ias2\n",
    "    if ihao:\n",
    "        _dm = obj.dm1\n",
    "    else:\n",
    "        _dm = obj.dm0\n",
    "    return _dm[ias1[0]:ias1[1]][:,ias2[0]:ias2[1]].T"
   ]
  },
  {
   "cell_type": "code",
   "execution_count": 5,
   "metadata": {},
   "outputs": [
    {
     "name": "stdout",
     "output_type": "stream",
     "text": [
      "converged SCF energy = -40.0027154073178\n"
     ]
    }
   ],
   "source": [
    "m1 = aio.read('ch4.xyz')\n",
    "#av.view(m2)\n",
    "c1 = get_dm_obj(m1)"
   ]
  },
  {
   "cell_type": "code",
   "execution_count": 6,
   "metadata": {},
   "outputs": [
    {
     "data": {
      "text/plain": [
       "[0, 1, 2, 3]"
      ]
     },
     "execution_count": 6,
     "metadata": {},
     "output_type": "execute_result"
    }
   ],
   "source": [
    "vsp1 = m1.positions[1:] - m1.positions[0]\n",
    "mos = c1.B[2:5,1:5]\n",
    "vsb1 = normalize(mos.T) #, np.sign(c1.B[1:5,1]))\n",
    "get_hyb_map(vsp1,vsb1)"
   ]
  },
  {
   "cell_type": "code",
   "execution_count": 7,
   "metadata": {},
   "outputs": [
    {
     "name": "stdout",
     "output_type": "stream",
     "text": [
      "converged SCF energy = -40.0027154073177\n"
     ]
    }
   ],
   "source": [
    "m1r = aio.read('ch4.xyz')\n",
    "m1r.rotate(180,'z')\n",
    "#av.view(m1r)\n",
    "c1r = get_dm_obj(m1r)\n",
    "#c1r.dm1[:5,:5]\n",
    "assert np.all(np.abs(c1r.dm1-c1.dm1)<1e-6)"
   ]
  },
  {
   "cell_type": "code",
   "execution_count": 8,
   "metadata": {},
   "outputs": [
    {
     "data": {
      "text/plain": [
       "[0, 1, 2, 3]"
      ]
     },
     "execution_count": 8,
     "metadata": {},
     "output_type": "execute_result"
    }
   ],
   "source": [
    "vsp1 = m1r.positions[1:] - m1r.positions[0]\n",
    "mos = c1r.B[2:5,1:5]\n",
    "vsb1 = normalize(mos.T) #, np.sign(c1.B[1:5,1]))\n",
    "get_hyb_map(vsp1, vsb1)"
   ]
  },
  {
   "cell_type": "code",
   "execution_count": 9,
   "metadata": {},
   "outputs": [
    {
     "data": {
      "text/plain": [
       "array([[ 2.0162, -0.0097, -0.0097, -0.0097, -0.0097],\n",
       "       [-0.0097,  0.6922,  0.0225,  0.0225,  0.0225],\n",
       "       [-0.0097,  0.0225,  0.6922,  0.0225,  0.0225],\n",
       "       [-0.0097,  0.0225,  0.0225,  0.6922,  0.0225],\n",
       "       [-0.0097,  0.0225,  0.0225,  0.0225,  0.6922]])"
      ]
     },
     "execution_count": 9,
     "metadata": {},
     "output_type": "execute_result"
    }
   ],
   "source": [
    "c1.dm1[:5,:5]"
   ]
  },
  {
   "cell_type": "markdown",
   "metadata": {},
   "source": [
    "For CH4 mol, no matter how you rotate the molecule, the DM stays the same (using HAO as basis). The same holds true for any molecule!!"
   ]
  },
  {
   "cell_type": "code",
   "execution_count": 10,
   "metadata": {},
   "outputs": [
    {
     "name": "stdout",
     "output_type": "stream",
     "text": [
      "converged SCF energy = -78.8206119688919\n"
     ]
    }
   ],
   "source": [
    "m2 = aio.read('test/c02h06.xyz')\n",
    "#av.view(m2)\n",
    "c2 = get_dm_obj(m2)\n",
    "irot = False\n",
    "if irot:\n",
    "    m2r = m2.copy()\n",
    "    m2r.rotate(90,'z')\n",
    "    #av.view(m2r)\n",
    "    c2r = get_dm_obj(m2r)\n",
    "    assert np.all(np.abs(c2.dm1-c2r.dm1)<=1e-4), '#ERROR: dm chganed after rotation!'"
   ]
  },
  {
   "cell_type": "code",
   "execution_count": 11,
   "metadata": {
    "scrolled": true
   },
   "outputs": [
    {
     "data": {
      "text/plain": [
       "[0, 1, 2, 3]"
      ]
     },
     "execution_count": 11,
     "metadata": {},
     "output_type": "execute_result"
    }
   ],
   "source": [
    "mos = c2.B[2:5,1:5] # cols 2-4 correspond to coeff of px,py,pz, HAO idx ranges from 1 to 4\n",
    "vsb2 = normalize(mos.T) #, np.sign(c1.B[1:5,1]))\n",
    "vsp2 = m2.positions[ 1:5] - m2.positions[0]\n",
    "get_hyb_map(vsp2, vsb2)"
   ]
  },
  {
   "cell_type": "code",
   "execution_count": 12,
   "metadata": {
    "scrolled": true
   },
   "outputs": [
    {
     "data": {
      "text/plain": [
       "[0, 1, 2, 3]"
      ]
     },
     "execution_count": 12,
     "metadata": {},
     "output_type": "execute_result"
    }
   ],
   "source": [
    "mos = c2.B[7:10,6:10] # cols 2-4 correspond to coeff of px,py,pz, HAO idx ranges from 1 to 4\n",
    "vsb2 = normalize(mos.T) #, np.sign(c1.B[1:5,1]))\n",
    "vsp2 = m2.positions[ [0,5,6,7] ] - m2.positions[1]\n",
    "get_hyb_map(vsp2, vsb2)"
   ]
  },
  {
   "cell_type": "markdown",
   "metadata": {},
   "source": [
    "The vector c2.B[1,2:5] indicate the orientation of the first sp3 hybridized orbital\n",
    "#px, py, pz = np.array([[1,0,0],[0,1,0],[0,0,1]])\n"
   ]
  },
  {
   "cell_type": "code",
   "execution_count": 13,
   "metadata": {},
   "outputs": [
    {
     "name": "stdout",
     "output_type": "stream",
     "text": [
      "converged SCF energy = -234.096275370529\n"
     ]
    }
   ],
   "source": [
    "#import ase.visualize as av\n",
    "m6c = aio.read('test/c06h14.xyz')\n",
    "#av.view(m3)\n",
    "om6c = get_dm_obj(m6c)"
   ]
  },
  {
   "cell_type": "code",
   "execution_count": 14,
   "metadata": {},
   "outputs": [
    {
     "name": "stdout",
     "output_type": "stream",
     "text": [
      "converged SCF energy = -234.09516853981\n"
     ]
    }
   ],
   "source": [
    "#import ase.visualize as av\n",
    "m6c0 = aio.read('test/c06h14_c01.xyz')\n",
    "#av.view(m3)\n",
    "om6c0 = get_dm_obj(m6c0)"
   ]
  },
  {
   "cell_type": "code",
   "execution_count": 15,
   "metadata": {},
   "outputs": [],
   "source": [
    "import itertools as itl\n",
    "def get_shuffle(a,b):\n",
    "    s = range(1,5)\n",
    "    seq1 = [ [0]+list(si) for si in list(itl.permutations(s)) ]\n",
    "    seq2 = [ [0]+list(si) for si in list(itl.permutations(s)) ]\n",
    "    n = len(seq1)\n",
    "    d = 999.\n",
    "    for i in range(n):\n",
    "        for j in range(n):\n",
    "            i1 = seq1[i]; i2 = seq2[j]\n",
    "            di = np.mean(np.abs(b[i1][:,i2]-a))\n",
    "            if di < d:\n",
    "                d = di\n",
    "                i1o = i1; i2o = i2\n",
    "    return i1o,i2o,d"
   ]
  },
  {
   "cell_type": "code",
   "execution_count": 16,
   "metadata": {
    "scrolled": true
   },
   "outputs": [
    {
     "name": "stdout",
     "output_type": "stream",
     "text": [
      "i1= [0, 1, 3, 2, 4] , i2= [0, 1, 3, 2, 4] , dd= 0.005955152882980252\n"
     ]
    }
   ],
   "source": [
    "dm1 = get_dm_aa(om6c,0,0)\n",
    "dm2 = get_dm_aa(om6c,1,1)\n",
    "i1,i2,dd = get_shuffle(dm1,dm2)\n",
    "ddm = dm2[i1][:,i2] - dm1\n",
    "#print dm1; print dm2; print ddm; \n",
    "print 'i1=',i1, ', i2=',i2, ', dd=',dd\n"
   ]
  },
  {
   "cell_type": "code",
   "execution_count": 64,
   "metadata": {
    "scrolled": true
   },
   "outputs": [
    {
     "name": "stdout",
     "output_type": "stream",
     "text": [
      "i1= [0, 2, 1, 4, 3] , i2= [0, 1, 2, 4, 3] , dd= 2.3681197206526507e-08\n"
     ]
    }
   ],
   "source": [
    "dm1 = get_dm_aa(om6c,0,1)\n",
    "dm2 = get_dm_aa(om6c,5,4)\n",
    "i1,i2,dd = get_shuffle(dm1,dm2)\n",
    "ddm = dm2[i1][:,i2] - dm1\n",
    "#print dm1; print dm2; print ddm; \n",
    "print 'i1=',i1, ', i2=',i2, ', dd=',dd"
   ]
  },
  {
   "cell_type": "code",
   "execution_count": 67,
   "metadata": {
    "scrolled": false
   },
   "outputs": [
    {
     "name": "stdout",
     "output_type": "stream",
     "text": [
      "[[ 0.  0.  0.  0. -0.]\n",
      " [ 0.  0.  0.  0. -0.]\n",
      " [-0. -0.  0.  0. -0.]\n",
      " [ 0.  0.  0. -0.  0.]\n",
      " [ 0. -0. -0.  0. -0.]]\n",
      "3.501855009020727e-07\n"
     ]
    }
   ],
   "source": [
    "i1= [0, 2,1, 3,4]; i2= [0, 1, 3, 4, 2]\n",
    "ddm = dm2[i1][:,i2] - dm1\n",
    "print ddm\n",
    "print np.mean(np.abs(ddm))"
   ]
  },
  {
   "cell_type": "code",
   "execution_count": 81,
   "metadata": {
    "scrolled": true
   },
   "outputs": [
    {
     "name": "stdout",
     "output_type": "stream",
     "text": [
      "[[ 0.  0.  0.  0. -0.]\n",
      " [ 0.  0.  0.  0. -0.]\n",
      " [-0. -0.  0.  0. -0.]\n",
      " [ 0.  0.  0. -0.  0.]\n",
      " [ 0. -0. -0.  0. -0.]]\n",
      "[[-0.0025 -0.0325 -0.0095 -0.009  -0.0095]\n",
      " [-0.0317  0.6643 -0.0118 -0.0101 -0.0118]\n",
      " [-0.0049 -0.0391 -0.0102 -0.0295 -0.0102]\n",
      " [-0.0105 -0.0166 -0.0259 -0.0296 -0.0321]\n",
      " [-0.0105 -0.0166 -0.0321 -0.0296 -0.0259]]\n",
      "[[1. 0. 0. 0. 0.]\n",
      " [0. 1. 0. 0. 0.]\n",
      " [0. 0. 0. 1. 0.]\n",
      " [0. 0. 0. 0. 1.]\n",
      " [0. 0. 1. 0. 0.]] [[1. 0. 0. 0. 0.]\n",
      " [0. 0. 1. 0. 0.]\n",
      " [0. 1. 0. 0. 0.]\n",
      " [0. 0. 0. 1. 0.]\n",
      " [0. 0. 0. 0. 1.]]\n"
     ]
    }
   ],
   "source": [
    "t1 = np.eye(5); t2 = np.eye(5)\n",
    "t1[2,3] = t1[3,4] = t1[4,2] =1; t1[2,2]=t1[3,3]=t1[4,4]=0\n",
    "t2[1,1] = t2[2,2] = 0; t2[1,2]=t2[2,1] = 1;  \n",
    "\n",
    "print reduce(np.dot, (t2,dm2,t1.T)) - dm1\n",
    "print dm1\n",
    "print t1,t2"
   ]
  },
  {
   "cell_type": "code",
   "execution_count": 55,
   "metadata": {
    "scrolled": true
   },
   "outputs": [
    {
     "name": "stdout",
     "output_type": "stream",
     "text": [
      "i1= [0, 1, 2, 4, 3] , i2= [0, 1, 2, 4, 3] , dd= 1.4149456779057046e-08\n",
      "4.6464888391332253e-07\n"
     ]
    }
   ],
   "source": [
    "dm1 = get_dm_aa(om6c,0,0)\n",
    "dm2 = get_dm_aa(om6c,5,5)\n",
    "i1,i2,dd = get_shuffle(dm1,dm2)\n",
    "ddm = dm2[i1][:,i2] - dm1\n",
    "#print dm1; print dm2; print ddm; \n",
    "print 'i1=',i1, ', i2=',i2, ', dd=',dd\n",
    "i1= [0, 2, 1, 3,4]; i2= [0, 1, 3, 4, 2]\n",
    "ddm = dm2[i2][:,i2] - dm1\n",
    "print np.mean(np.abs(ddm))"
   ]
  },
  {
   "cell_type": "code",
   "execution_count": 33,
   "metadata": {},
   "outputs": [
    {
     "name": "stdout",
     "output_type": "stream",
     "text": [
      "[[ 0. -0.  0.  0.  0.]\n",
      " [-0. -0. -0. -0. -0.]\n",
      " [ 0. -0. -0. -0. -0.]\n",
      " [ 0. -0. -0. -0. -0.]\n",
      " [ 0. -0. -0. -0. -0.]]\n"
     ]
    }
   ],
   "source": [
    "t1 = np.eye(5); #t2 = np.eye(5)\n",
    "t1[3,4] = t1[4,3] = 1; t1[3,3] = t1[4,4] = 0\n",
    "#t2[1,1] = t2[2,2] = 0; t2[1,2]=t2[2,1] = 1; t2[3,3] = t2[4,4] = 0; t2[3,4]=t2[4,3] = 1; \n",
    "print reduce(np.dot, (t1,dm1,t1)) - dm2\n"
   ]
  },
  {
   "cell_type": "code",
   "execution_count": 20,
   "metadata": {
    "scrolled": true
   },
   "outputs": [
    {
     "name": "stdout",
     "output_type": "stream",
     "text": [
      "i1= [0, 2, 1, 4, 3] , i2= [0, 2, 1, 4, 3] , dd= 2.7469717728059728e-08\n"
     ]
    }
   ],
   "source": [
    "dm1 = get_dm_aa(om6c,1,1)\n",
    "dm2 = get_dm_aa(om6c,4,4)\n",
    "i1,i2,dd = get_shuffle(dm1,dm2)\n",
    "ddm = dm2[i1][:,i2] - dm1\n",
    "#print dm1; print dm2; print ddm; \n",
    "print 'i1=',i1, ', i2=',i2, ', dd=',dd"
   ]
  },
  {
   "cell_type": "code",
   "execution_count": 50,
   "metadata": {
    "scrolled": true
   },
   "outputs": [
    {
     "name": "stdout",
     "output_type": "stream",
     "text": [
      "[[-0.     -0.0001  0.      0.      0.    ]\n",
      " [-0.     -0.0009 -0.0008  0.0003  0.0003]\n",
      " [-0.     -0.0011 -0.0001  0.      0.    ]\n",
      " [ 0.      0.001   0.0001  0.0002  0.0003]\n",
      " [ 0.      0.001   0.0001  0.0003  0.0002]]\n",
      "i1= [0, 2, 1, 3, 4] , i2= [0, 2, 1, 4, 3] , dd= 0.0002786812351625109\n"
     ]
    }
   ],
   "source": [
    "dm1 = get_dm_aa(om6c,1,2)\n",
    "dm2 = get_dm_aa(om6c,3,2)\n",
    "i1,i2,dd = get_shuffle(dm1,dm2)\n",
    "ddm = dm2[i1][:,i2] - dm1\n",
    "#print dm1; print dm2; \n",
    "print ddm; \n",
    "print 'i1=',i1, ', i2=',i2, ', dd=',dd"
   ]
  },
  {
   "cell_type": "code",
   "execution_count": 59,
   "metadata": {
    "scrolled": false
   },
   "outputs": [
    {
     "name": "stdout",
     "output_type": "stream",
     "text": [
      "[[-0.      0.0006  0.      0.      0.    ]\n",
      " [ 0.0006  0.0139  0.0031  0.0037  0.0037]\n",
      " [ 0.      0.0031 -0.0018  0.0007  0.0007]\n",
      " [ 0.      0.0037  0.0007 -0.0001  0.0004]\n",
      " [ 0.      0.0037  0.0007  0.0004 -0.0001]]\n",
      "i1= [0, 1, 2, 4, 3] , i2= [0, 1, 2, 4, 3] , dd= 0.0016671464439785805\n",
      "[[-0.      0.0006  0.      0.      0.    ]\n",
      " [ 0.0006  0.0144  0.0031  0.0036  0.0036]\n",
      " [ 0.      0.0031 -0.0022  0.0008  0.0008]\n",
      " [ 0.      0.0036  0.0008 -0.0001  0.0004]\n",
      " [ 0.      0.0036  0.0008  0.0004 -0.0001]]\n",
      "0.001703832634117953\n"
     ]
    }
   ],
   "source": [
    "dm1 = get_dm_aa(om6c,1,1)\n",
    "dm2 = get_dm_aa(om6c,2,2)\n",
    "i1,i2,dd = get_shuffle(dm1,dm2)\n",
    "ddm = dm2[i1][:,i2] - dm1\n",
    "#print dm1; print dm2; \n",
    "print ddm; \n",
    "print 'i1=',i1, ', i2=',i2, ', dd=',dd\n",
    "i2 = [0,2,1,3,4]\n",
    "ddm = dm2[i2][:,i2] - dm1\n",
    "print ddm; \n",
    "print np.mean(np.abs(ddm))"
   ]
  },
  {
   "cell_type": "code",
   "execution_count": 61,
   "metadata": {},
   "outputs": [
    {
     "data": {
      "text/plain": [
       "-0.0036626557999999143"
      ]
     },
     "execution_count": 61,
     "metadata": {},
     "output_type": "execute_result"
    }
   ],
   "source": [
    "0.9921686721*2-1.988"
   ]
  },
  {
   "cell_type": "code",
   "execution_count": 21,
   "metadata": {
    "scrolled": true
   },
   "outputs": [
    {
     "name": "stdout",
     "output_type": "stream",
     "text": [
      "i1= [0, 2, 1, 3, 4] , i2= [0, 1, 3, 2, 4] , dd= 0.0004780558493562634\n"
     ]
    }
   ],
   "source": [
    "dm1 = get_dm_aa(om6c0,0,1)\n",
    "dm2 = get_dm_aa(om6c0,5,4)\n",
    "i1,i2,dd = get_shuffle(dm1,dm2)\n",
    "ddm = dm2[i1][:,i2] - dm1\n",
    "#print dm1; print dm2; print ddm; \n",
    "print 'i1=',i1, ', i2=',i2, ', dd=',dd"
   ]
  },
  {
   "cell_type": "code",
   "execution_count": 22,
   "metadata": {
    "scrolled": true
   },
   "outputs": [
    {
     "name": "stdout",
     "output_type": "stream",
     "text": [
      "i1= [0, 1, 4, 2, 3] , i2= [0, 1, 4, 2, 3] , dd= 0.0002984452576718228\n",
      "0.0003063447385278212\n"
     ]
    }
   ],
   "source": [
    "dm1 = get_dm_aa(om6c0,0,0)\n",
    "dm2 = get_dm_aa(om6c0,5,5)\n",
    "i1,i2,dd = get_shuffle(dm1,dm2)\n",
    "ddm = dm2[i1][:,i2] - dm1\n",
    "#print dm1; print dm2; print ddm; \n",
    "print 'i1=',i1, ', i2=',i2, ', dd=',dd\n",
    "i1= [0, 1, 3, 2, 4]; i2= [0, 1, 3, 2, 4]\n",
    "ddm2 = dm2[i1][:,i2] - dm1\n",
    "print np.mean(np.abs(ddm2))"
   ]
  },
  {
   "cell_type": "code",
   "execution_count": 23,
   "metadata": {
    "scrolled": true
   },
   "outputs": [
    {
     "name": "stdout",
     "output_type": "stream",
     "text": [
      "i1= [0, 2, 1, 3, 4] , i2= [0, 2, 1, 3, 4] , dd= 0.00030038590182163567\n"
     ]
    }
   ],
   "source": [
    "dm1 = get_dm_aa(om6c0,1,1)\n",
    "dm2 = get_dm_aa(om6c0,4,4)\n",
    "i1,i2,dd = get_shuffle(dm1,dm2)\n",
    "ddm = dm2[i1][:,i2] - dm1\n",
    "#print dm1; print dm2; print ddm; \n",
    "print 'i1=',i1, ', i2=',i2, ', dd=',dd"
   ]
  },
  {
   "cell_type": "code",
   "execution_count": null,
   "metadata": {},
   "outputs": [],
   "source": []
  },
  {
   "cell_type": "code",
   "execution_count": 24,
   "metadata": {},
   "outputs": [
    {
     "name": "stdout",
     "output_type": "stream",
     "text": [
      "[[-0.0382 -0.0839  0.6234 -0.0706 -0.0713]]\n",
      "[[-0.0379 -0.0829 -0.0701  0.6231 -0.0701]]\n",
      "[[-0.0382 -0.0839 -0.0713 -0.0706  0.6234]]\n",
      "[[-0.0379 -0.0818  0.6235 -0.0703 -0.0705]]\n",
      "[[-0.0382 -0.0841 -0.07    0.6233 -0.072 ]]\n",
      "[[-0.0383 -0.0845 -0.0705 -0.0709  0.6232]]\n"
     ]
    }
   ],
   "source": [
    "print get_dm_aa(om6c0,0,6)\n",
    "print get_dm_aa(om6c0,0,7)\n",
    "print get_dm_aa(om6c0,0,8)\n",
    "print get_dm_aa(om6c0,5,17)\n",
    "print get_dm_aa(om6c0,5,18)\n",
    "print get_dm_aa(om6c0,5,19)"
   ]
  },
  {
   "cell_type": "code",
   "execution_count": null,
   "metadata": {},
   "outputs": [],
   "source": []
  },
  {
   "cell_type": "code",
   "execution_count": 25,
   "metadata": {},
   "outputs": [
    {
     "name": "stdout",
     "output_type": "stream",
     "text": [
      "converged SCF energy = -272.912980656414\n"
     ]
    }
   ],
   "source": [
    "#import ase.visualize as av\n",
    "m7c0 = aio.read('test/c07h16_c01.xyz')\n",
    "#av.view(m3)\n",
    "om7c0 = get_dm_obj(m7c0)"
   ]
  },
  {
   "cell_type": "code",
   "execution_count": 26,
   "metadata": {},
   "outputs": [
    {
     "name": "stdout",
     "output_type": "stream",
     "text": [
      "[[-0.0025 -0.0327 -0.0094 -0.0096 -0.0091]\n",
      " [-0.0317  0.6647 -0.0105 -0.0118 -0.0107]\n",
      " [-0.0045 -0.0396 -0.0072 -0.0097 -0.0295]\n",
      " [-0.0105 -0.0168 -0.026  -0.0324 -0.0297]\n",
      " [-0.0106 -0.0183 -0.0313 -0.0264 -0.0306]]\n",
      "[[-0.0025 -0.0327 -0.0091 -0.0096 -0.0094]\n",
      " [-0.0045 -0.0396 -0.0295 -0.0097 -0.0072]\n",
      " [-0.0317  0.6647 -0.0107 -0.0118 -0.0105]\n",
      " [-0.0105 -0.0168 -0.0297 -0.0324 -0.026 ]\n",
      " [-0.0106 -0.0183 -0.0306 -0.0264 -0.0313]]\n",
      "[[ 0. -0. -0.  0. -0.]\n",
      " [-0.  0. -0. -0. -0.]\n",
      " [-0. -0.  0.  0. -0.]\n",
      " [-0.  0.  0.  0. -0.]\n",
      " [ 0. -0. -0. -0.  0.]]\n",
      "[0, 2, 1, 3, 4] [0, 1, 4, 3, 2] 5.437436863145809e-07\n"
     ]
    }
   ],
   "source": [
    "dm1 = get_dm_aa(om7c0,0,1)\n",
    "dm2 = get_dm_aa(om7c0,6,5)\n",
    "#i1,i2 = [0, 1, 4,3,2], [0, 2, 1,3,4]\n",
    "i1,i2,dd = get_shuffle(dm1,dm2)\n",
    "ddm = dm2[i1][:,i2] - dm1\n",
    "print dm1\n",
    "print dm2\n",
    "print ddm\n",
    "print i1,i2,dd"
   ]
  },
  {
   "cell_type": "code",
   "execution_count": null,
   "metadata": {},
   "outputs": [],
   "source": []
  },
  {
   "cell_type": "code",
   "execution_count": 27,
   "metadata": {},
   "outputs": [
    {
     "name": "stdout",
     "output_type": "stream",
     "text": [
      "converged SCF energy = -117.639512482783\n"
     ]
    }
   ],
   "source": [
    "import ase.visualize as av\n",
    "m3 = aio.read('test/c03h08.xyz')\n",
    "#av.view(m3)\n",
    "c3 = get_dm_obj(m3)\n",
    "irot = False\n",
    "if irot:\n",
    "    m3r = m3.copy()\n",
    "    m3r.rotate(90,'z')\n",
    "    #av.view(m3r)\n",
    "    c3r = get_dm_obj(m3r)\n",
    "    assert np.all(np.abs(c3.dm1-c3r.dm1)<=1e-4), '#ERROR: dm chganed after rotation!'"
   ]
  },
  {
   "cell_type": "code",
   "execution_count": 28,
   "metadata": {
    "scrolled": true
   },
   "outputs": [
    {
     "name": "stdout",
     "output_type": "stream",
     "text": [
      "[[-0.0025 -0.0325 -0.0095 -0.009  -0.0095]\n",
      " [-0.0318  0.6654 -0.012  -0.0101 -0.012 ]\n",
      " [-0.0048 -0.0384 -0.0112 -0.0284 -0.0112]\n",
      " [-0.0105 -0.0169 -0.0262 -0.0297 -0.0324]\n",
      " [-0.0105 -0.0169 -0.0324 -0.0297 -0.0262]]\n",
      "[[-0.0025 -0.0325 -0.0095 -0.0095 -0.009 ]\n",
      " [-0.0048 -0.0384 -0.0112 -0.0112 -0.0284]\n",
      " [-0.0318  0.6654 -0.012  -0.012  -0.0101]\n",
      " [-0.0105 -0.0169 -0.0324 -0.0261 -0.0297]\n",
      " [-0.0105 -0.0169 -0.0261 -0.0324 -0.0297]]\n",
      "[[-0.  0. -0. -0.  0.]\n",
      " [ 0.  0.  0.  0.  0.]\n",
      " [ 0.  0.  0. -0.  0.]\n",
      " [ 0.  0.  0.  0. -0.]\n",
      " [-0. -0. -0. -0.  0.]]\n"
     ]
    }
   ],
   "source": [
    "print get_dm_aa(c3,0,1)\n",
    "i1,i2 = [0, 1, 2, 4, 3], [0, 2, 1, 4, 3]\n",
    "print get_dm_aa(c3,2,1)#[i2][:,i1]\n",
    "print get_dm_aa(c3,2,1)[i2][:,i1] - get_dm_aa(c3,0,1)"
   ]
  },
  {
   "cell_type": "code",
   "execution_count": 29,
   "metadata": {
    "scrolled": false
   },
   "outputs": [
    {
     "name": "stdout",
     "output_type": "stream",
     "text": [
      "[[-0.0382 -0.0839  0.6234 -0.0706 -0.0713]]\n",
      "[[-0.0379 -0.083  -0.0702  0.6232 -0.0702]]\n",
      "[[-0.0382 -0.0839 -0.0713 -0.0706  0.6234]]\n",
      "[[-0.0388 -0.0912 -0.0912 -0.0798  0.6195]]\n",
      "[[-0.0388 -0.0912 -0.0912  0.6195 -0.0798]]\n"
     ]
    }
   ],
   "source": [
    "print get_dm_aa(c3,0,3)\n",
    "print get_dm_aa(c3,0,4)\n",
    "print get_dm_aa(c3,0,5)\n",
    "print get_dm_aa(c3,1,7)\n",
    "print get_dm_aa(c3,1,6)"
   ]
  },
  {
   "cell_type": "code",
   "execution_count": null,
   "metadata": {},
   "outputs": [],
   "source": []
  },
  {
   "cell_type": "code",
   "execution_count": null,
   "metadata": {},
   "outputs": [],
   "source": [
    "aa = np.zeros((5,5))\n",
    "for i in range(3): aa[i,i] = 1\n",
    "aa[3,4] = aa[4,3] = 1\n",
    "bb = np.zeros((5,5))\n",
    "bb[0,0] = 1\n",
    "bb[1,2] = bb[2,1] = 1\n",
    "bb[3,4] = bb[4,3] = 1\n",
    "print np.dot(aa,bb)"
   ]
  },
  {
   "cell_type": "code",
   "execution_count": null,
   "metadata": {},
   "outputs": [],
   "source": [
    "print get_dm_aa(c3,1,6)\n",
    "print get_dm_aa(c3,1,7)"
   ]
  },
  {
   "cell_type": "code",
   "execution_count": null,
   "metadata": {},
   "outputs": [],
   "source": [
    "print get_dm_aa(c3,0,3)\n",
    "print get_dm_aa(c3,0,4)\n",
    "print get_dm_aa(c3,0,5)"
   ]
  },
  {
   "cell_type": "code",
   "execution_count": null,
   "metadata": {},
   "outputs": [],
   "source": [
    "print c3.mf.mo_coeff[15, :5]\n",
    "print c3.mf.mo_coeff[16, :5]\n",
    "print c3.mf.mo_coeff[17, :5]"
   ]
  },
  {
   "cell_type": "code",
   "execution_count": null,
   "metadata": {},
   "outputs": [],
   "source": [
    "print c3.mf.mo_coeff[18, 5:10]\n",
    "print c3.mf.mo_coeff[19, 5:10]"
   ]
  },
  {
   "cell_type": "code",
   "execution_count": null,
   "metadata": {},
   "outputs": [],
   "source": [
    "print get_dm_aa(c3,0,3) #3,0)\n",
    "print get_dm_aa(c3,0,4)\n",
    "print get_dm_aa(c3,0,5)"
   ]
  },
  {
   "cell_type": "code",
   "execution_count": null,
   "metadata": {},
   "outputs": [],
   "source": [
    "m3p = permute_aidx(m3, [0,2,1])\n",
    "c3p = get_dm_obj(m3p)\n",
    "import ase.io as aio\n",
    "aio.write('test/c03h08_u.xyz',m3p)\n",
    "#print get_dm_aa(c3p,0,2)- get_dm_aa(c3,0,1) # atom idx permutation invariant\n",
    "#print get_dm_aa(c3p,1,2)- get_dm_aa(c3,2,1)"
   ]
  },
  {
   "cell_type": "code",
   "execution_count": null,
   "metadata": {
    "scrolled": true
   },
   "outputs": [],
   "source": [
    "print get_dm_aa(c2, 0, 0) - get_dm_aa(c2, 1, 1)"
   ]
  },
  {
   "cell_type": "code",
   "execution_count": null,
   "metadata": {
    "scrolled": false
   },
   "outputs": [],
   "source": [
    "print get_dm_aa(c2,0,1)"
   ]
  },
  {
   "cell_type": "code",
   "execution_count": null,
   "metadata": {
    "scrolled": false
   },
   "outputs": [],
   "source": [
    "print get_dm_aa(c2,1,0) - get_dm_aa(c2,0,1).T"
   ]
  },
  {
   "cell_type": "code",
   "execution_count": null,
   "metadata": {},
   "outputs": [],
   "source": []
  },
  {
   "cell_type": "code",
   "execution_count": 82,
   "metadata": {
    "scrolled": true
   },
   "outputs": [
    {
     "name": "stdout",
     "output_type": "stream",
     "text": [
      " now  test/c06h14.xyz\n",
      "converged SCF energy = -234.096275370529\n",
      " now  test/c07h16.xyz\n",
      "converged SCF energy = -272.91519284307\n",
      " now  test/c08h18.xyz\n",
      "converged SCF energy = -311.734113968152\n",
      " now  test/c12h26.xyz\n",
      "converged SCF energy = -467.009800442333\n"
     ]
    }
   ],
   "source": [
    "fs1 = [ 'test/'+fi+'.xyz' for fi in ['c06h14', 'c07h16', 'c08h18','c12h26'] ]\n",
    "objs1 = []\n",
    "for f1 in fs1:\n",
    "    print ' now ', f1\n",
    "    objs1 += [ get_dm_obj(f1)  ]"
   ]
  },
  {
   "cell_type": "code",
   "execution_count": null,
   "metadata": {},
   "outputs": [],
   "source": [
    "print get_dm_aa(c2, 0, 2)\n",
    "print get_dm_aa(c2, 0, 3)\n",
    "print get_dm_aa(c2, 0, 4)\n",
    "print get_dm_aa(c2, 1, 5)\n",
    "print get_dm_aa(c2, 1, 6)\n",
    "print get_dm_aa(c2, 1, 7)"
   ]
  },
  {
   "cell_type": "code",
   "execution_count": null,
   "metadata": {},
   "outputs": [],
   "source": [
    "#import cPickle as pkl\n",
    "#with open('cxhy-sat.pkl','wb') as fid: pkl.dump({'objs1':objs1}, fid)"
   ]
  },
  {
   "cell_type": "code",
   "execution_count": 83,
   "metadata": {},
   "outputs": [],
   "source": [
    "o1,o2,o3,o4 = objs1"
   ]
  },
  {
   "cell_type": "code",
   "execution_count": 84,
   "metadata": {
    "scrolled": false
   },
   "outputs": [
    {
     "name": "stdout",
     "output_type": "stream",
     "text": [
      "[[-0.0382 -0.0839  0.6234 -0.0706 -0.0713]]\n",
      "[[-0.0382 -0.0839  0.6234 -0.0706 -0.0713]]\n",
      "[[-0.0382 -0.0839  0.6234 -0.0706 -0.0713]]\n",
      "[[-0.0379 -0.0829  0.6231 -0.0701 -0.0701]]\n"
     ]
    }
   ],
   "source": [
    "# now test on the same C-H\n",
    "print get_dm_aa(o1, 0, 6)\n",
    "print get_dm_aa(o2, 0, 7)\n",
    "print get_dm_aa(o3, 0, 8)\n",
    "print get_dm_aa(o4, 0, 12)"
   ]
  },
  {
   "cell_type": "code",
   "execution_count": null,
   "metadata": {
    "scrolled": false
   },
   "outputs": [],
   "source": [
    "print get_dm_aa(c2, 0, 2)\n",
    "print get_dm_aa(c2, 0, 3)\n",
    "print get_dm_aa(c2, 0, 4)"
   ]
  },
  {
   "cell_type": "code",
   "execution_count": 85,
   "metadata": {
    "scrolled": false
   },
   "outputs": [
    {
     "name": "stdout",
     "output_type": "stream",
     "text": [
      "[[-0.0382 -0.0839  0.6234 -0.0706 -0.0713]]\n",
      "[[-0.0379 -0.0829 -0.0701  0.6231 -0.0702]]\n",
      "[[-0.0382 -0.0839 -0.0713 -0.0706  0.6234]]\n"
     ]
    }
   ],
   "source": [
    "print get_dm_aa(o1, 0, 6)\n",
    "print get_dm_aa(o1, 0, 7)\n",
    "print get_dm_aa(o1, 0, 8)"
   ]
  },
  {
   "cell_type": "code",
   "execution_count": 87,
   "metadata": {
    "scrolled": true
   },
   "outputs": [
    {
     "name": "stdout",
     "output_type": "stream",
     "text": [
      "[[-0.0382 -0.0839 -0.0706 -0.0713  0.6234]]\n",
      "[[-0.0379 -0.0829  0.6231 -0.0701 -0.0701]]\n",
      "[[-0.0382 -0.0839 -0.0706  0.6234 -0.0713]]\n"
     ]
    }
   ],
   "source": [
    "print get_dm_aa(o4, 0, 14)\n",
    "print get_dm_aa(o4, 0, 12)\n",
    "print get_dm_aa(o4, 0, 13)"
   ]
  },
  {
   "cell_type": "code",
   "execution_count": 88,
   "metadata": {},
   "outputs": [
    {
     "name": "stdout",
     "output_type": "stream",
     "text": [
      "[[-0.     -0.     -0.      0.     -0.    ]\n",
      " [ 0.     -0.     -0.      0.     -0.    ]\n",
      " [-0.     -0.0001 -0.     -0.     -0.    ]\n",
      " [ 0.      0.      0.      0.     -0.    ]\n",
      " [ 0.      0.     -0.      0.      0.    ]]\n"
     ]
    }
   ],
   "source": [
    "dm12_o1 = get_dm_aa(o1, 0, 1)\n",
    "dm12_o4 = get_dm_aa(o4, 0, 1)\n",
    "#i1_o1 = [2,7,8,9]; i2_o1 = [1,3,10,11]\n",
    "#i1_o4 = [2,15,13,14]; i2_o4 = [1,3,17,16];\n",
    "i1 = [0, 1, 4, 2, 3]; i2 = [0, 1, 2, 4, 3]\n",
    "print dm12_o4[i2][:,i1] - dm12_o1"
   ]
  },
  {
   "cell_type": "code",
   "execution_count": 91,
   "metadata": {
    "scrolled": true
   },
   "outputs": [
    {
     "name": "stdout",
     "output_type": "stream",
     "text": [
      "[-0. -0.  0. -0. -0.]\n",
      "[-0. -0.  0. -0.  0.]\n",
      "[-0. -0. -0. -0.  0.]\n"
     ]
    }
   ],
   "source": [
    "dm_H1_o1 = get_dm_aa(o1, 0, 6)[0]\n",
    "dm_H2_o1 = get_dm_aa(o1, 0, 7)[0]\n",
    "dm_H3_o1 = get_dm_aa(o1, 0, 8)[0]\n",
    "dm_H1_o4 = get_dm_aa(o4, 0, 14)[0]\n",
    "dm_H2_o4 = get_dm_aa(o4, 0, 12)[0]\n",
    "dm_H3_o4 = get_dm_aa(o4, 0, 13)[0]\n",
    "print dm_H1_o4[i1] - dm_H1_o1\n",
    "print dm_H2_o4[i1] - dm_H2_o1\n",
    "print dm_H3_o4[i1] - dm_H3_o1"
   ]
  },
  {
   "cell_type": "code",
   "execution_count": null,
   "metadata": {},
   "outputs": [],
   "source": []
  },
  {
   "cell_type": "code",
   "execution_count": 97,
   "metadata": {
    "scrolled": true
   },
   "outputs": [
    {
     "name": "stdout",
     "output_type": "stream",
     "text": [
      "[[-0.0001  0.0016 -0.     -0.0009 -0.    ]\n",
      " [ 0.0019  0.1232  0.025   0.0021  0.025 ]\n",
      " [-0.0011 -0.0068 -0.0011 -0.0081 -0.0011]\n",
      " [-0.0001  0.025   0.0012  0.      0.004 ]\n",
      " [-0.0001  0.025   0.004   0.      0.0012]]\n",
      "[[-0.     -0.     -0.     -0.     -0.    ]\n",
      " [ 0.     -0.0001  0.      0.      0.    ]\n",
      " [-0.     -0.      0.     -0.      0.    ]\n",
      " [ 0.      0.      0.     -0.      0.    ]\n",
      " [ 0.      0.      0.     -0.      0.    ]]\n"
     ]
    }
   ],
   "source": [
    "dm1 = get_dm_aa(o1, 0, 3); #print dm1\n",
    "dm2 = get_dm_aa(o4, 0, 3); #print dm2\n",
    "i1=[0,1,4,2,3]; i2=[0,1,2,3,4]\n",
    "print dm1\n",
    "print dm2[i2][:,i1] - dm1"
   ]
  },
  {
   "cell_type": "code",
   "execution_count": 98,
   "metadata": {
    "scrolled": false
   },
   "outputs": [
    {
     "name": "stdout",
     "output_type": "stream",
     "text": [
      "[[ 0.     -0.001  -0.0001  0.0003 -0.0001]\n",
      " [-0.0012 -0.0532 -0.0052 -0.0014 -0.0052]\n",
      " [ 0.0004  0.0008 -0.      0.0034 -0.    ]\n",
      " [-0.0001 -0.0049  0.0005  0.0003 -0.0011]\n",
      " [-0.0001 -0.0049 -0.0011  0.0003  0.0005]]\n",
      "[[ 0.      0.      0.      0.      0.    ]\n",
      " [ 0.      0.0002  0.     -0.      0.    ]\n",
      " [ 0.      0.0001 -0.      0.0001 -0.    ]\n",
      " [ 0.     -0.     -0.      0.     -0.    ]\n",
      " [ 0.     -0.     -0.      0.     -0.    ]]\n"
     ]
    }
   ],
   "source": [
    "dm1 = get_dm_aa(o1, 0, 4); #print dm1\n",
    "dm2 = get_dm_aa(o4, 0, 4); #print dm2\n",
    "i1=[0,1,4,2,3]; i2=[0,1,2,3,4]\n",
    "print dm1\n",
    "print dm2[i2][:,i1] - dm1"
   ]
  },
  {
   "cell_type": "code",
   "execution_count": 101,
   "metadata": {},
   "outputs": [
    {
     "name": "stdout",
     "output_type": "stream",
     "text": [
      "[-0.039  -0.0928  0.6188 -0.091  -0.0804]\n",
      "[[-0.0382 -0.0839  0.6234 -0.0706 -0.0713]]\n"
     ]
    }
   ],
   "source": [
    "dm1 = get_dm_aa(o1, 0, 6); #print dm1\n",
    "dm2 = get_dm_aa(o4, 1, 15); #print dm2\n",
    "i1 = [0,2,3,1,4]\n",
    "print dm2[0][i1]\n",
    "print dm1"
   ]
  },
  {
   "cell_type": "code",
   "execution_count": null,
   "metadata": {},
   "outputs": [],
   "source": []
  },
  {
   "cell_type": "code",
   "execution_count": 103,
   "metadata": {},
   "outputs": [
    {
     "name": "stdout",
     "output_type": "stream",
     "text": [
      "[[ 0.      0.0002 -0.0002  0.0004  0.0004]\n",
      " [ 0.0009  0.0055 -0.0002  0.0042  0.0042]\n",
      " [-0.0001  0.001  -0.0029  0.0027  0.0027]\n",
      " [ 0.0002  0.0019  0.0032  0.0012 -0.0001]\n",
      " [ 0.0002  0.0019  0.0032 -0.0001  0.0012]] 0.0015507875655242239\n"
     ]
    }
   ],
   "source": [
    "dm1 = get_dm_aa(o4, 0, 2)\n",
    "dm2 = get_dm_aa(o1, 1, 3) \n",
    "i1 = [0,2,1,3,4]; i2 = [0,1,2,3,4]\n",
    "ddm = dm2[i2][:,i1] - dm1\n",
    "print ddm, np.mean(np.abs(ddm))"
   ]
  },
  {
   "cell_type": "code",
   "execution_count": 104,
   "metadata": {},
   "outputs": [
    {
     "name": "stdout",
     "output_type": "stream",
     "text": [
      "[0, 1, 2, 3, 4] [0, 2, 1, 3, 4] 0.0015507875655242239\n"
     ]
    }
   ],
   "source": [
    "i1,i2,dd = get_shuffle(dm1,dm2)\n",
    "print i1,i2,dd"
   ]
  },
  {
   "cell_type": "code",
   "execution_count": null,
   "metadata": {},
   "outputs": [],
   "source": []
  }
 ],
 "metadata": {
  "kernelspec": {
   "display_name": "Python 3",
   "language": "python",
   "name": "python3"
  },
  "language_info": {
   "codemirror_mode": {
    "name": "ipython",
    "version": 3
   },
   "file_extension": ".py",
   "mimetype": "text/x-python",
   "name": "python",
   "nbconvert_exporter": "python",
   "pygments_lexer": "ipython3",
   "version": "3.6.4"
  }
 },
 "nbformat": 4,
 "nbformat_minor": 2
}
