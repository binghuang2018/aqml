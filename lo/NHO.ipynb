{
 "cells": [
  {
   "cell_type": "code",
   "execution_count": 1,
   "metadata": {},
   "outputs": [
    {
     "name": "stdout",
     "output_type": "stream",
     "text": [
      "Notebook initialized with ipy backend.\n"
     ]
    }
   ],
   "source": [
    "from mayavi import mlab\n",
    "mlab.init_notebook()"
   ]
  },
  {
   "cell_type": "code",
   "execution_count": 224,
   "metadata": {},
   "outputs": [],
   "source": [
    "from pyscf import gto, scf, lo\n",
    "import numpy as np\n",
    "from functools import reduce\n",
    "from pyscf.lo.orth import pre_orth_ao_atm_scf\n",
    "import ase, scipy\n",
    "from pyscf import lo\n",
    "import itertools as itl\n",
    "import ase.visualize as av\n",
    "\n",
    "T,F=True,False\n",
    "np.set_printoptions(precision=2,suppress=True)\n",
    "\n",
    "def calc(aseobj, bst='cc-pvdz', icab=F):\n",
    "    zs = aseobj.numbers\n",
    "    nh = (zs==1).sum()\n",
    "    coords = aseobj.positions\n",
    "    assert zs[0]>1 and np.all(zs[1:]==1) #zs = []; coords = []\n",
    "    spin = sum(zs)%2\n",
    "    atom = ''\n",
    "    na = len(aseobj)\n",
    "    for i in range(na):\n",
    "        x,y,z = coords[i]\n",
    "        ai = aseobj[i]\n",
    "        atom += '%s %.8f %.8f %.8f;'%(ai.symbol, x,y,z)\n",
    "    if icab:\n",
    "        basis = {'H':'sto-3g'}\n",
    "    else:\n",
    "        basis = {'H':bst}\n",
    "    for si in ['C','N','O','F']: basis[si] = bst\n",
    "    mol = gto.M(atom=atom, basis=basis, verbose=0, spin=spin)\n",
    "    mf = None\n",
    "    if not icab:\n",
    "        mf = scf.RHF(mol)\n",
    "        mf.kernel()\n",
    "    return mol, mf\n",
    "\n",
    "def get_hao(mol):\n",
    "    zs = mol.atom_charges()\n",
    "    nh = (zs==1).sum()\n",
    "    s1 = mol.intor_symmetric('int1e_ovlp')\n",
    "    b1 = pre_orth_ao_atm_scf(mol)\n",
    "    sb = reduce( np.dot, (b1.conjugate().T, s1, b1) )\n",
    "    aolbs = mol.ao_labels(); nao = len(aolbs)\n",
    "    sb_hx = sb[-nh:,:-nh] # overlap matrix H-X\n",
    "    u,d,vh = np.linalg.svd(sb_hx, full_matrices=False, compute_uv=True)\n",
    "    a1 = np.dot(vh.T, u.T)\n",
    "    # now Schmidt orthogonalization\n",
    "    n1 = nh\n",
    "    n2 = nao - nh\n",
    "    t = np.eye(n2)\n",
    "    t[:,:nh] = a1\n",
    "    for i in range(nh,n2):\n",
    "        for j in range(i):\n",
    "            cj = t[i,j] \n",
    "            t[:,i] -= cj*t[:,j]\n",
    "        t[:,i] /= np.linalg.norm(t[:,i])\n",
    "    for i in range(n2):\n",
    "        csi = t[i,:6]\n",
    "        so = ' '.join(['%10.2f '%si for si in csi])\n",
    "        print(aolbs[i], so)\n",
    "    return t\n",
    "\n",
    "def get_new_dm1(mol, mf, t):\n",
    "    cs = mf.mo_coeff\n",
    "    return cs\n",
    "\n",
    "def get_nho(m,bst='sto-3g',new_idx=None,debug=F):\n",
    "    mol, _ = calc(m, bst=bst, icab=T)\n",
    "    mf = scf.RHF(mol)\n",
    "    mf.kernel()\n",
    "    s = mol.intor_symmetric('int1e_ovlp_sph')\n",
    "    iano=T#F\n",
    "    if iano:\n",
    "        A1 = pre_orth_ao_atm_scf(mol)\n",
    "        s1 = reduce(np.dot, (A1.T,s,A1)) # under ANO basis\n",
    "    else:\n",
    "        A1 = np.eye(mol.nao)\n",
    "        s1 = s\n",
    "    if debug: print('s1=',s1)\n",
    "    B1 = np.linalg.solve(A1,mf.mo_coeff)\n",
    "    dm1 = reduce( np.dot, (B1, np.diag(mf.mo_occ), B1.T) ) ##\n",
    "    if debug: print('dm1=',dm1)\n",
    "    p1 = dm1 # reduce(np.dot, (s1, dm1, s1))\n",
    "    zs = mol.atom_charges()\n",
    "    nh = (zs==1).sum()\n",
    "    e1,v1 = scipy.linalg.eigh(p1[:-nh,:-nh], s1[:-nh,:-nh])\n",
    "    eigs1 = e1[::-1]; vs1 = v1[:,::-1]\n",
    "    if debug: print('eigs=',eigs1)\n",
    "    \n",
    "    # exchange ao idx\n",
    "    if new_idx is None:\n",
    "        new_idx = np.arange(vs1.shape[0])\n",
    "    # = [0,3,2,1,4]\n",
    "    vs1u = vs1[:,new_idx]\n",
    "    \n",
    "    c1 = np.eye(mol.nao)\n",
    "    c1[:-nh,:-nh] = vs1u # ANO basis\n",
    "\n",
    "    a = np.linalg.solve(c1,B1)\n",
    "    #if debug: \n",
    "    print('a=',a)\n",
    "    return eigs1,vs1,a,c1\n",
    "\n",
    "def print_c(aols, c1):\n",
    "    nao = len(aols) \n",
    "    for i in range(nao):\n",
    "        si = aols[i]\n",
    "        for j in range(nao):\n",
    "            si += '%6.2f '%c1[i,j]\n",
    "        print(si)\n",
    "\n",
    "def get_nho1(m,bst='sto-3g',iprt=F):\n",
    "    mol, _ = calc(m, bst=bst, icab=T)\n",
    "    zs = mol.atom_charges()\n",
    "    nh = (zs==1).sum()\n",
    "    aols = mol.ao_labels()\n",
    "    aoidxs = mol.offset_ao_by_atom()[:, 2:]\n",
    "    mf = scf.RHF(mol)\n",
    "    mf.kernel()\n",
    "    s = mol.intor_symmetric('int1e_ovlp')\n",
    "    p = mf.make_rdm1() # reduce(np.dot, (s, mf.make_rdm1(), s))\n",
    "    #ne = np.trace( np.dot(p,s) )\n",
    "    #print('ne=',ne)\n",
    "    na = len(zs)\n",
    "    es = np.zeros(mol.nao); c = np.eye(mol.nao)\n",
    "    for i in range(na):\n",
    "        ib, ie = aoidxs[i]\n",
    "        #if ie-ib==1: continue\n",
    "        e, v = scipy.linalg.eigh(p[ib:ie,ib:ie], s[ib:ie,ib:ie])\n",
    "        es[ib:ie] = e[::-1]\n",
    "        c[ib:ie,ib:ie] = v[:,::-1]\n",
    "    if iprt: print_c(aols,c)\n",
    "    b1 = mf.mo_coeff\n",
    "    a = np.linalg.solve(c,b1)\n",
    "    #s1 = reduce(np.dot, (c.T,s,c))\n",
    "    #if iprt: print_c(aols,a)\n",
    "    occ = mf.mo_occ\n",
    "    #if iprt: print('occ=',occ)\n",
    "    dm = reduce(np.dot, (a, np.diag(occ), a.T))\n",
    "    #print('new ne=', np.trace(np.dot(dm,s1)))\n",
    "    #dm = reduce(np.dot, (a.T, np.diag(occ), a))\n",
    "    return dm, c, a, aols"
   ]
  },
  {
   "cell_type": "code",
   "execution_count": 196,
   "metadata": {
    "scrolled": true
   },
   "outputs": [],
   "source": [
    "np.set_printoptions(precision=4,suppress=True)\n",
    "\n",
    "bst = 'sto-3g' # 'cc-pvdz'\n",
    "zs = [9,1]; coords = [[0.,0.,0],[0.,0.,0.98]]\n",
    "m = ase.Atoms(zs,coords)\n",
    "#av.view(m)\n",
    "#eigs, vs, a, c = get_nho(m,bst=bst,debug=F)\n"
   ]
  },
  {
   "cell_type": "code",
   "execution_count": 197,
   "metadata": {
    "scrolled": true
   },
   "outputs": [],
   "source": [
    "m2 = m.copy()\n",
    "m2.rotate(60, [1,1,1])"
   ]
  },
  {
   "cell_type": "code",
   "execution_count": null,
   "metadata": {},
   "outputs": [],
   "source": [
    "#av.view(m)\n",
    "idxs = list(itl.permutations([1,2,3]))\n",
    "for i,idx in enumerate(idxs[0:1]):\n",
    "    idx2 = [0]+list(idx)+[4]\n",
    "    print('i,idx=',i,idx2)\n",
    "    eigs2, vs2, a2, c2 = get_nho(m2,bst=bst,new_idx=[0]+list(idx)+[4], debug=F)\n",
    "    #print('ddm: ', np.max(a2-a), np.min(a2-a), np.abs(a2)-np.abs(a))"
   ]
  },
  {
   "cell_type": "code",
   "execution_count": 225,
   "metadata": {
    "scrolled": true
   },
   "outputs": [
    {
     "name": "stdout",
     "output_type": "stream",
     "text": [
      "0 F 1s     -1.18  -0.00  -0.00   0.07   0.01   0.00   0.00  -0.00   0.00   0.00  -0.00   0.00  -0.00   0.00   0.00 \n",
      "0 F 2s     -0.82   0.00   0.00   0.14  -0.44  -1.33   0.01  -0.00   0.00   0.00  -0.00   0.02  -0.09   0.14   0.00 \n",
      "0 F 3s      0.86   0.00  -0.00   0.64  -0.30   1.18  -0.02   0.00  -0.00  -0.01   0.00  -0.01   0.07  -0.12   0.00 \n",
      "0 F 2px    -0.00   0.80  -0.15  -0.00   0.00  -0.00  -0.57  -0.00   0.00   0.01  -0.00  -0.56   0.02   0.13   0.00 \n",
      "0 F 2py    -0.00   0.15   0.80   0.00  -0.00   0.00  -0.05   0.00   0.00   0.01   0.01  -0.07  -0.69  -0.41   0.00 \n",
      "0 F 2pz    -0.04  -0.00   0.00  -0.57  -0.65   0.08   0.01   0.00  -0.00  -0.01   0.00  -0.14   0.38  -0.63   0.00 \n",
      "0 F 3px    -0.00   0.30  -0.06  -0.00   0.00   0.00   0.78   0.00  -0.00  -0.04   0.01   0.76  -0.03  -0.18   0.00 \n",
      "0 F 3py    -0.00   0.06   0.30   0.00  -0.00  -0.00   0.07  -0.00  -0.00  -0.01   0.01   0.10   0.95   0.56   0.00 \n",
      "0 F 3pz    -0.01   0.00  -0.00  -0.15  -0.14   0.18  -0.07  -0.00   0.00   0.00  -0.00   0.26  -0.57   0.92   0.00 \n",
      "0 F 3dxy    0.00   0.00   0.00   0.00   0.00   0.00   0.00   0.00  -1.00   0.00  -0.00   0.00   0.00  -0.00   0.00 \n",
      "0 F 3dyz   -0.00   0.00   0.02  -0.00  -0.00  -0.00   0.01  -0.00  -0.00  -0.24  -0.97  -0.01   0.00   0.00   0.00 \n",
      "0 F 3dz^2  -0.00   0.00   0.00  -0.02  -0.05   0.03   0.70  -0.00   0.00   0.13  -0.01  -0.67  -0.08   0.18   0.00 \n",
      "0 F 3dxz   -0.00   0.02  -0.00  -0.00   0.00   0.00  -0.07  -0.00   0.00   0.96  -0.24   0.11   0.02  -0.03   0.00 \n",
      "0 F 3dx2-y2  0.00  -0.00  -0.00  -0.00   0.00   0.00   0.00  -1.00  -0.00  -0.00   0.00  -0.00  -0.00  -0.00   0.00 \n",
      "1 H 1s      0.00   0.00   0.00   0.00   0.00   0.00   0.00   0.00   0.00   0.00   0.00   0.00   0.00   0.00   1.00 \n"
     ]
    }
   ],
   "source": [
    "bsts = ['sto-3g', 'cc-pvdz']\n",
    "i = 1\n",
    "bst = bsts[i]\n",
    "dm1, c1, a1, aols = get_nho1(m,bst=bst,iprt=T)"
   ]
  },
  {
   "cell_type": "code",
   "execution_count": 226,
   "metadata": {
    "scrolled": false
   },
   "outputs": [
    {
     "name": "stdout",
     "output_type": "stream",
     "text": [
      "0 F 1s     -1.18  -0.00   0.00   0.07   0.01  -0.00   0.00   0.00   0.00  -0.00   0.00  -0.00   0.00  -0.00   0.00 \n",
      "0 F 2s     -0.82   0.00  -0.00   0.14  -0.44   1.32  -0.03   0.02  -0.00  -0.00   0.00   0.01  -0.00  -0.22   0.00 \n",
      "0 F 3s      0.86  -0.00   0.00   0.64  -0.30  -1.18   0.03  -0.00   0.00   0.01  -0.00   0.01  -0.01   0.19   0.00 \n",
      "0 F 2px    -0.03  -0.49   0.36  -0.38  -0.43   0.01   0.10  -0.15  -0.01  -0.00  -0.01   0.01   0.02   0.76   0.00 \n",
      "0 F 2py     0.01  -0.63  -0.44   0.19   0.22   0.06   0.79  -0.03   0.00  -0.00  -0.00   0.03  -0.00  -0.09   0.00 \n",
      "0 F 2pz    -0.03   0.18  -0.58  -0.38  -0.43  -0.14  -0.02  -0.75  -0.01   0.02  -0.00   0.02  -0.01  -0.19   0.00 \n",
      "0 F 3px    -0.01  -0.18   0.13  -0.10  -0.09  -0.20  -0.12   0.27   0.03   0.01   0.01   0.01  -0.07  -1.06   0.00 \n",
      "0 F 3py     0.00  -0.23  -0.16   0.05   0.05   0.01  -1.10   0.01   0.01  -0.00   0.00  -0.07   0.02   0.13   0.00 \n",
      "0 F 3pz    -0.01   0.07  -0.22  -0.10  -0.09   0.00   0.05   1.09   0.01   0.02   0.00  -0.00  -0.02   0.25   0.00 \n",
      "0 F 3dxy    0.00  -0.01  -0.01   0.01   0.02   0.00  -0.04   0.00  -0.13   0.07   0.70   0.70   0.01   0.01   0.00 \n",
      "0 F 3dyz    0.00  -0.01  -0.00   0.01   0.02   0.00  -0.04   0.01  -0.43   0.13  -0.67   0.58  -0.04  -0.00   0.00 \n",
      "0 F 3dz^2  -0.00   0.01  -0.02  -0.00  -0.01  -0.00  -0.01   0.01  -0.15  -0.95  -0.01   0.08  -0.25   0.01   0.00 \n",
      "0 F 3dxz   -0.00  -0.01  -0.00  -0.02  -0.04  -0.02   0.01   0.03  -0.11  -0.23  -0.02   0.01   0.96  -0.05   0.00 \n",
      "0 F 3dx2-y2 -0.00  -0.01   0.00  -0.01  -0.01  -0.01   0.01   0.01  -0.87   0.12   0.23  -0.41  -0.06  -0.02   0.00 \n",
      "1 H 1s      0.00   0.00   0.00   0.00   0.00   0.00   0.00   0.00   0.00   0.00   0.00   0.00   0.00   0.00   1.00 \n"
     ]
    }
   ],
   "source": [
    "dm2, c2, a2, aols = get_nho1(m2,bst=bst,iprt=T)"
   ]
  },
  {
   "cell_type": "code",
   "execution_count": 229,
   "metadata": {},
   "outputs": [
    {
     "name": "stdout",
     "output_type": "stream",
     "text": [
      "[0.04 0.82 0.82 0.57 0.65 0.08 0.57 0.   0.   0.02 0.01 0.58 0.79 0.76\n",
      " 0.  ]\n",
      "[0.04 0.82 0.82 0.57 0.65 0.15 0.8  0.76 0.01 0.02 0.01 0.04 0.02 0.79\n",
      " 0.  ]\n"
     ]
    }
   ],
   "source": [
    "for c in [c1,c2]:\n",
    "    print(np.linalg.norm(c[3:6],axis=0))"
   ]
  },
  {
   "cell_type": "code",
   "execution_count": 230,
   "metadata": {},
   "outputs": [
    {
     "name": "stdout",
     "output_type": "stream",
     "text": [
      "[0.01 0.3  0.3  0.15 0.14 0.18 0.79 0.   0.   0.04 0.02 0.81 1.1  1.09\n",
      " 0.  ]\n",
      "[0.01 0.3  0.3  0.15 0.14 0.2  1.11 1.12 0.04 0.02 0.01 0.07 0.07 1.09\n",
      " 0.  ]\n"
     ]
    }
   ],
   "source": [
    "for c in [c1,c2]:\n",
    "    print(np.linalg.norm(c[6:9],axis=0))"
   ]
  },
  {
   "cell_type": "code",
   "execution_count": 212,
   "metadata": {},
   "outputs": [
    {
     "name": "stdout",
     "output_type": "stream",
     "text": [
      "0 F 1s      0.00  -0.00  -0.00   0.00   0.00   0.00  -0.00   0.00   0.00   0.00  -0.00   0.00   0.00   0.00   0.00 \n",
      "0 F 2s     -0.00  -0.00  -0.00  -0.55  -1.72   0.00   0.25   0.15  -0.00  -0.00  -0.00  -0.00   0.00   0.00  -0.00 \n",
      "0 F 3s      0.00   0.00  -0.00  -0.24  -0.75  -0.00   0.15   0.09   0.00   0.00  -0.01  -0.00  -0.00  -0.00   0.00 \n",
      "0 F 2px     0.00  -0.00  -0.00  -0.00   0.00  -0.00   0.00  -0.00   0.00   0.00  -0.00   0.00   0.00   0.00   0.00 \n",
      "0 F 2py     0.00  -0.00   0.00   0.00   0.00   0.00  -0.00   0.00  -0.00  -0.00   0.00  -0.00  -0.00  -0.00  -0.00 \n",
      "0 F 2pz    -1.03   0.18  -0.34  -0.02  -0.00   0.43  -0.10   0.09   0.19  -2.01  -0.01   0.00  -0.00   0.00  -0.53 \n",
      "0 F 3px     0.02   0.01   0.07  -0.01  -0.28  -0.16  -1.10  -1.10   0.38   0.32  -0.07   0.06  -0.01   0.02  -0.56 \n",
      "0 F 3py    -0.00   0.02   0.14  -0.08   0.06  -0.26  -0.06   0.59   0.86   0.48   0.02  -0.01   0.17   0.98   0.25 \n",
      "0 F 3pz     0.00   0.00   0.01   0.00   0.01  -0.02   0.02   0.00   0.03   0.03  -0.63   0.60   0.93  -0.62  -0.14 \n",
      "0 F 3dxy    0.00   0.00   0.01  -0.01   0.01  -0.03   0.02   0.02   0.02   0.07   0.06  -1.61  -0.23  -0.22  -0.51 \n",
      "0 F 3dyz   -0.00   0.00   0.00  -0.00  -0.00  -0.00   0.00  -0.01   0.01  -0.00   1.04   0.66  -0.97   0.07   0.06 \n",
      "0 F 3dz^2   0.01  -0.01  -0.03   0.02  -0.13   0.07  -0.34  -0.65  -0.23  -0.13   0.64  -0.01   0.06  -0.53   0.03 \n",
      "0 F 3dxz   -0.03   0.01   0.06  -0.15  -0.04  -0.09  -0.81   0.32   0.48   0.12   0.13  -0.23  -0.03  -0.67   0.90 \n",
      "0 F 3dx2-y2  0.14  -0.06  -0.19  -0.23   0.01   0.39  -0.95   0.94  -1.50  -0.55  -0.02   0.05  -0.01   0.02  -0.56 \n",
      "1 H 1s      0.00   0.00  -0.00  -0.00  -0.00   0.00  -0.00   0.00  -0.00  -0.00   0.00  -0.00  -0.00  -0.00  -0.00 \n"
     ]
    }
   ],
   "source": [
    "print_c(aols, a2-a1)"
   ]
  },
  {
   "cell_type": "code",
   "execution_count": 213,
   "metadata": {
    "scrolled": true
   },
   "outputs": [
    {
     "name": "stdout",
     "output_type": "stream",
     "text": [
      "0 F 1s     -0.00   0.00  -0.00  -0.00  -0.00   1.77  -0.04  -0.00  -0.00  -0.01   0.00  -0.01   0.05  -0.21  -0.00 \n",
      "0 F 2s      0.00   0.00   0.00  -0.00  -0.00   0.03   0.04   0.02  -0.02   0.02  -0.01  -0.22  -0.03   0.20   0.00 \n",
      "0 F 3s     -0.00   0.00   0.00  -0.00  -0.00  -0.03   0.18  -0.20  -0.00  -0.01  -0.01   0.03  -0.29  -0.39  -0.00 \n",
      "0 F 2px    -0.00  -0.00  -0.00  -0.00  -0.00   0.38  -0.08  -0.17  -0.01  -0.00  -0.00   0.04  -0.09   0.25  -0.00 \n",
      "0 F 2py    -0.00  -0.00  -0.00  -0.00  -0.00  -0.10  -0.06  -0.13  -0.01  -0.01  -0.00   0.03  -0.06   0.23   0.00 \n",
      "0 F 2pz     1.77   0.03  -0.03   0.38  -0.10  -0.01  -0.02  -0.03  -0.00  -0.00  -0.00  -0.01  -0.00  -0.04  -0.22 \n",
      "0 F 3px    -0.04   0.04   0.18  -0.08  -0.06  -0.02   0.03   0.00  -0.00   0.00  -0.00  -0.02  -0.01   0.01   0.06 \n",
      "0 F 3py    -0.00   0.02  -0.20  -0.17  -0.13  -0.03   0.00   0.06   0.00   0.00  -0.00   0.00  -0.00   0.00   0.11 \n",
      "0 F 3pz    -0.00  -0.02  -0.00  -0.01  -0.01  -0.00  -0.00   0.00   0.00   0.00   0.00  -0.00  -0.00  -0.00   0.00 \n",
      "0 F 3dxy   -0.01   0.02  -0.01  -0.00  -0.01  -0.00   0.00   0.00   0.00  -0.00   0.00   0.00  -0.00   0.00   0.01 \n",
      "0 F 3dyz    0.00  -0.01  -0.01  -0.00  -0.00  -0.00  -0.00  -0.00   0.00   0.00  -0.00  -0.00  -0.00  -0.00   0.00 \n",
      "0 F 3dz^2  -0.01  -0.22   0.03   0.04   0.03  -0.01  -0.02   0.00  -0.00   0.00  -0.00  -0.03   0.00  -0.01  -0.03 \n",
      "0 F 3dxz    0.05  -0.03  -0.29  -0.09  -0.06  -0.00  -0.01  -0.00  -0.00  -0.00  -0.00   0.00  -0.06   0.00   0.05 \n",
      "0 F 3dx2-y2 -0.21   0.20  -0.39   0.25   0.23  -0.04   0.01   0.00  -0.00   0.00  -0.00  -0.01   0.00   0.01  -0.16 \n",
      "1 H 1s     -0.00   0.00  -0.00  -0.00   0.00  -0.22   0.06   0.11   0.00   0.01   0.00  -0.03   0.05  -0.16   0.00 \n"
     ]
    }
   ],
   "source": [
    "ddm = dm2-dm1\n",
    "print_c(aols, ddm)#[:5,:5])"
   ]
  },
  {
   "cell_type": "code",
   "execution_count": null,
   "metadata": {},
   "outputs": [],
   "source": [
    "# write HAO\n",
    "import interfaces._pyscf as pscf\n",
    "#reload(pscf)\n",
    "oo = pscf.io(mol)\n",
    "c1 = np.eye(mol.nao)\n",
    "c1[:-1,:-1] = vs1\n",
    "orig, cell, dt = oo.orbital(c1, grids=[100,100,100], label=None)#'ch4-carbon')"
   ]
  },
  {
   "cell_type": "code",
   "execution_count": 23,
   "metadata": {
    "scrolled": true
   },
   "outputs": [
    {
     "data": {
      "text/plain": [
       "array([[ 0.0268, -0.0889,  0.0441,  0.7229,  0.6835,  0.0356],\n",
       "       [ 0.9204, -0.3287,  0.1443, -0.1466,  0.0682,  0.0844],\n",
       "       [ 0.3847,  0.6978, -0.3602,  0.3973, -0.3262, -0.3143],\n",
       "       [ 0.0683,  0.4785, -0.2425, -0.5459,  0.6494, -0.2042],\n",
       "       [ 0.0061, -0.1743, -0.6489,  0.    , -0.    ,  0.8589],\n",
       "       [-0.0051,  0.1453,  0.541 , -0.    ,  0.    ,  1.0334]])"
      ]
     },
     "execution_count": 23,
     "metadata": {},
     "output_type": "execute_result"
    }
   ],
   "source": [
    "a"
   ]
  },
  {
   "cell_type": "code",
   "execution_count": 32,
   "metadata": {
    "scrolled": true
   },
   "outputs": [
    {
     "name": "stdout",
     "output_type": "stream",
     "text": [
      " ## found 0 non-covalent bonds\n"
     ]
    }
   ],
   "source": [
    "#from ase.io.cube import read_cube_data\n",
    "#data, atoms = read_cube_data('ch4-carbon_01.cube')\n",
    "import visualization.mayavi as mv\n",
    "_atoms = mv.draw_molecule(m, dt[0], cell, orig)\n",
    "#_atoms"
   ]
  },
  {
   "cell_type": "code",
   "execution_count": null,
   "metadata": {},
   "outputs": [],
   "source": []
  }
 ],
 "metadata": {
  "kernelspec": {
   "display_name": "Python 3",
   "language": "python",
   "name": "python3"
  },
  "language_info": {
   "codemirror_mode": {
    "name": "ipython",
    "version": 3
   },
   "file_extension": ".py",
   "mimetype": "text/x-python",
   "name": "python",
   "nbconvert_exporter": "python",
   "pygments_lexer": "ipython3",
   "version": "3.7.1"
  }
 },
 "nbformat": 4,
 "nbformat_minor": 2
}
