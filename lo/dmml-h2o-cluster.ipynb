{
 "cells": [
  {
   "cell_type": "code",
   "execution_count": 1,
   "metadata": {},
   "outputs": [],
   "source": [
    "%matplotlib inline\n",
    "import matplotlib\n",
    "import matplotlib.pyplot as plt\n",
    "import aqml.cheminfo.lo.dmb as clb\n",
    "import aqml.cheminfo.lo.rotate as clr\n",
    "import aqml.cheminfo.lo.dmml as cll\n",
    "import numpy as np\n",
    "from aqml.cheminfo.lo.dmml import *\n",
    "from aqml.cheminfo.lo.dmx import *\n",
    "import aqml.cheminfo.molecule.core as cmr\n",
    "import ase.io as aio\n",
    "np.set_printoptions(precision=4,suppress=True)"
   ]
  },
  {
   "cell_type": "code",
   "execution_count": 2,
   "metadata": {},
   "outputs": [
    {
     "data": {
      "text/plain": [
       "<module 'cheminfo.molecule.core' from '/home/bing/Dropbox/workspace/python/cheminfo/molecule/core.pyc'>"
      ]
     },
     "execution_count": 2,
     "metadata": {},
     "output_type": "execute_result"
    }
   ],
   "source": [
    "#from importlib import reload\n",
    "reload(clb); reload(clr); reload(cll); reload(cmr)"
   ]
  },
  {
   "cell_type": "code",
   "execution_count": 3,
   "metadata": {
    "scrolled": true
   },
   "outputs": [],
   "source": [
    "# check rotational indenpendence\n",
    "#fs = ['test-h2o/'+si+'_optg.xyz' for si in ['01','01'] ] #'c07h16', 'c08h18',\n",
    "#angles = [0., 60]\n",
    "#t1,t2 = clb.ready_pyscf(fs,rotate_angles=angles)\n",
    "#print clb.get_dm_aa(t1,0,1).T-clb.get_dm_aa(t2,0,1).T\n",
    "#print clb.get_dm_aa(t1,0,2).T-clb.get_dm_aa(t2,0,2).T"
   ]
  },
  {
   "cell_type": "code",
   "execution_count": 4,
   "metadata": {},
   "outputs": [],
   "source": [
    "def show_dm(o0,o1,b0,b1,idx,iprt=False):\n",
    "    dm1 = clb.get_dm_aa(o0,b0[0],b0[1])\n",
    "    dm2 = clb.get_dm_aa(o1,b1[0],b1[1])\n",
    "    if iprt:\n",
    "        print(dm1.T)\n",
    "        print(dm2.T)\n",
    "    print( (dm2[idx]-dm1).T )"
   ]
  },
  {
   "cell_type": "code",
   "execution_count": 5,
   "metadata": {
    "scrolled": true
   },
   "outputs": [
    {
     "name": "stdout",
     "output_type": "stream",
     "text": [
      "(' now ', 'test-h2o/10_optg.xyz')\n",
      " ## found 30 non-covalent bonds\n",
      "converged SCF energy = -753.108756898079\n"
     ]
    }
   ],
   "source": [
    "fs = ['test-h2o/'+si+'_optg.xyz' for si in ['10'] ] #,'10'] ] #'c07h16', 'c08h18',\n",
    "o1  = clb.ready_pyscf(fs)\n"
   ]
  },
  {
   "cell_type": "code",
   "execution_count": 24,
   "metadata": {},
   "outputs": [],
   "source": [
    "o0 = o1[0]"
   ]
  },
  {
   "cell_type": "code",
   "execution_count": 6,
   "metadata": {},
   "outputs": [
    {
     "data": {
      "text/html": [
       "<div id=\"molecule_f62552b1-dbcd-4ac1-acf9-79c76d51d480\"></div>\n",
       "           <script type=\"text/javascript\">\n",
       "           require.config({baseUrl: '/',\n",
       "                           paths: {imolecule: ['nbextensions/imolecule.min', 'https://rawgit.com/patrickfuller/imolecule/master/imolecule/js/build/imolecule.min']}});\n",
       "           require(['imolecule'], function () {\n",
       "               var $d = $('#molecule_f62552b1-dbcd-4ac1-acf9-79c76d51d480');\n",
       "               $d.width(400); $d.height(300);\n",
       "               $d.imolecule = jQuery.extend({}, imolecule);\n",
       "               $d.imolecule.create($d, {drawingType: 'ball and stick',\n",
       "                                        cameraType: 'perspective',\n",
       "                                        shader: 'lambert',\n",
       "                                        showSave: false});\n",
       "               $d.imolecule.addElements({});\n",
       "               $d.imolecule.draw({\"atoms\":[{\"charge\":-0.410466,\"element\":\"O\",\"location\":[-0.906066,2.160507,-1.462759]},{\"charge\":0.205233,\"element\":\"H\",\"location\":[-1.398281,1.300764,-1.588401]},{\"charge\":0.205233,\"element\":\"H\",\"location\":[-1.301309,2.780208,-2.079753]},{\"charge\":-0.410466,\"element\":\"O\",\"location\":[-2.186389,-0.121600,-1.575297]},{\"charge\":0.205233,\"element\":\"H\",\"location\":[-2.494881,-0.234417,-0.664426]},{\"charge\":0.205233,\"element\":\"H\",\"location\":[-1.566008,-0.873227,-1.698543]},{\"charge\":-0.410466,\"element\":\"O\",\"location\":[-1.043322,1.957085,1.326563]},{\"charge\":0.205233,\"element\":\"H\",\"location\":[-0.101000,1.837745,1.542028]},{\"charge\":0.205233,\"element\":\"H\",\"location\":[-1.038082,2.227480,0.391818]},{\"charge\":-0.410466,\"element\":\"O\",\"location\":[1.815715,1.584678,-1.234681]},{\"charge\":0.205233,\"element\":\"H\",\"location\":[0.898369,1.844796,-1.433346]},{\"charge\":0.205233,\"element\":\"H\",\"location\":[1.891907,1.717349,-0.275944]},{\"charge\":-0.410466,\"element\":\"O\",\"location\":[-0.393932,-2.183226,-1.606755]},{\"charge\":0.205233,\"element\":\"H\",\"location\":[-0.464828,-2.453101,-0.679945]},{\"charge\":0.205233,\"element\":\"H\",\"location\":[0.512279,-1.839704,-1.675119]},{\"charge\":-0.410466,\"element\":\"O\",\"location\":[1.681011,1.437204,1.593636]},{\"charge\":0.205233,\"element\":\"H\",\"location\":[1.789715,0.449047,1.584322]},{\"charge\":0.205233,\"element\":\"H\",\"location\":[2.276982,1.759802,2.273014]},{\"charge\":-0.410466,\"element\":\"O\",\"location\":[2.177801,-1.024032,-1.441470]},{\"charge\":0.205233,\"element\":\"H\",\"location\":[2.916982,-1.205263,-2.025925]},{\"charge\":0.205233,\"element\":\"H\",\"location\":[2.060371,-0.037238,-1.452681]},{\"charge\":-0.410466,\"element\":\"O\",\"location\":[-0.633733,-2.353160,1.267843]},{\"charge\":0.205233,\"element\":\"H\",\"location\":[-1.317252,-1.657430,1.380924]},{\"charge\":0.205233,\"element\":\"H\",\"location\":[-0.917644,-3.089794,1.813482]},{\"charge\":-0.410466,\"element\":\"O\",\"location\":[-2.392578,-0.286791,1.300559]},{\"charge\":0.205233,\"element\":\"H\",\"location\":[-1.882418,0.568862,1.376372]},{\"charge\":0.205233,\"element\":\"H\",\"location\":[-3.153075,-0.181942,1.876748]},{\"charge\":-0.410466,\"element\":\"O\",\"location\":[1.931420,-1.178878,1.343369]},{\"charge\":0.205233,\"element\":\"H\",\"location\":[2.159317,-1.267511,0.401588]},{\"charge\":0.205233,\"element\":\"H\",\"location\":[1.078930,-1.638214,1.422779]}],\"bonds\":[{\"atoms\":[2,0],\"order\":1},{\"atoms\":[19,18],\"order\":1},{\"atoms\":[5,3],\"order\":1},{\"atoms\":[14,12],\"order\":1},{\"atoms\":[12,13],\"order\":1},{\"atoms\":[1,0],\"order\":1},{\"atoms\":[3,4],\"order\":1},{\"atoms\":[20,18],\"order\":1},{\"atoms\":[10,9],\"order\":1},{\"atoms\":[9,11],\"order\":1},{\"atoms\":[8,6],\"order\":1},{\"atoms\":[28,27],\"order\":1},{\"atoms\":[21,22],\"order\":1},{\"atoms\":[21,23],\"order\":1},{\"atoms\":[24,25],\"order\":1},{\"atoms\":[24,26],\"order\":1},{\"atoms\":[6,7],\"order\":1},{\"atoms\":[27,29],\"order\":1},{\"atoms\":[16,15],\"order\":1},{\"atoms\":[15,17],\"order\":1}],\"formula\":\"H20O10\",\"molecular_weight\":180.152800,\"units\":{\"molecular_weight\":\"g / mol\"}});\n",
       "\n",
       "               $d.resizable({\n",
       "                   aspectRatio: 400 / 300,\n",
       "                   resize: function (evt, ui) {\n",
       "                       $d.imolecule.renderer.setSize(ui.size.width,\n",
       "                                                     ui.size.height);\n",
       "                   }\n",
       "               });\n",
       "           });\n",
       "           </script>"
      ],
      "text/plain": [
       "<IPython.core.display.HTML object>"
      ]
     },
     "metadata": {},
     "output_type": "display_data"
    }
   ],
   "source": [
    "import imolecule\n",
    "imolecule.draw(fs[0])"
   ]
  },
  {
   "cell_type": "code",
   "execution_count": 7,
   "metadata": {},
   "outputs": [
    {
     "name": "stdout",
     "output_type": "stream",
     "text": [
      "01_optg.xyz  03_optg.xyz  05_optg.xyz  07_optg.xyz  10_optg.xyz\r\n",
      "02_optg.xyz  04_optg.xyz  06_optg.xyz  \u001b[34m10_g7\u001b[m\u001b[m/\r\n"
     ]
    }
   ],
   "source": [
    "ls test-h2o/"
   ]
  },
  {
   "cell_type": "code",
   "execution_count": 7,
   "metadata": {
    "scrolled": true
   },
   "outputs": [
    {
     "name": "stdout",
     "output_type": "stream",
     "text": [
      "(' now ', 'test-h2o/02_optg.xyz')\n",
      " ## found 2 non-covalent bonds\n",
      "converged SCF energy = -150.567106603784\n",
      "(' now ', 'test-h2o/03_optg.xyz')\n",
      " ## found 6 non-covalent bonds\n",
      "converged SCF energy = -225.878926025643\n",
      "(' now ', 'test-h2o/04_optg.xyz')\n",
      " ## found 8 non-covalent bonds\n",
      "converged SCF energy = -301.207272352727\n",
      "(' now ', 'test-h2o/05_optg.xyz')\n",
      " ## found 10 non-covalent bonds\n",
      "converged SCF energy = -376.518289526378\n",
      "(' now ', 'test-h2o/06_optg.xyz')\n",
      " ## found 12 non-covalent bonds\n",
      "converged SCF energy = -451.825330743926\n",
      "(' now ', 'test-h2o/07_optg.xyz')\n",
      " ## found 20 non-covalent bonds\n",
      "converged SCF energy = -527.138651108202\n"
     ]
    }
   ],
   "source": [
    "fs = ['test-h2o/'+si+'_optg.xyz' for si in ['02','03','04','05','06','07'] ] #'c07h16', 'c08h18',\n",
    "o2,o3,o4,o5,o6,o7 = clb.ready_pyscf(fs)\n"
   ]
  },
  {
   "cell_type": "code",
   "execution_count": 9,
   "metadata": {},
   "outputs": [],
   "source": [
    "b0 = [0,1]; b1 = [0,1]; idx=[0,1,2,3,4]; #show_dm(o0,o1,b0,b1,idx)\n",
    "b0 = [0,2]; b1 = [0,2]; idx=[0,1,2,3,4]; #show_dm(o0,o1,b0,b1,idx)"
   ]
  },
  {
   "cell_type": "code",
   "execution_count": 185,
   "metadata": {},
   "outputs": [
    {
     "data": {
      "text/plain": [
       "<module 'cheminfo.lo.rotate' from '/home/bing/Dropbox/workspace/python/cheminfo/lo/rotate.pyc'>"
      ]
     },
     "execution_count": 185,
     "metadata": {},
     "output_type": "execute_result"
    }
   ],
   "source": [
    "import aqml.cheminfo.molecule.core as clc\n",
    "import ase.visualize as av\n",
    "from aqml.cheminfo.molecule.core import *\n",
    "import aqml.cheminfo.lo.dmb as clb\n",
    "import ase.io as aio\n",
    "reload(clb); reload(clc); reload(clr)"
   ]
  },
  {
   "cell_type": "code",
   "execution_count": 186,
   "metadata": {},
   "outputs": [
    {
     "name": "stdout",
     "output_type": "stream",
     "text": [
      " ## found 10 non-covalent bonds\n",
      " ## found 15 non-covalent bonds\n"
     ]
    }
   ],
   "source": [
    "fs1 = ['test-h2o/07_optg.xyz', 'test-h2o/10_optg.xyz']\n",
    "br,bq = [6,8], [0,1]\n",
    "\n",
    "mr = aio.read(fs1[0])\n",
    "omr = RawMol(mr.numbers, mr.positions)\n",
    "mrb, g1 = clb.retrieve_bond_env(br, omr, iPL='1,2')\n",
    "av.view(mrb)\n",
    "\n",
    "mq = aio.read(fs1[1])\n",
    "omq = RawMol(mq.numbers, mq.positions)\n",
    "mqb, g2 = clb.retrieve_bond_env(bq, omq, iPL='1,2')\n",
    "av.view(mqb)\n"
   ]
  },
  {
   "cell_type": "code",
   "execution_count": 187,
   "metadata": {},
   "outputs": [
    {
     "name": "stdout",
     "output_type": "stream",
     "text": [
      " ## found 10 non-covalent bonds\n",
      " ## found 15 non-covalent bonds\n",
      "('n1=', 6)\n",
      "('dsx=', [3.080674606044602, 3.208323530345874, 4.282809038580821, 4.413175327743218, 4.867374382796842, 4.870091747657968, 4.4727609868242775, 4.525337954532066, 3.8181924884916927, 3.7859737236099464, 4.446605030315448, 4.361809297725912, 2.264075540217993, 2.253185283289032, 0.4073726093491906, 0.30896925496956895, 2.160766534239042, 2.0732534367883817, 5.089640118839067, 5.026172894202317, 3.351856342171481, 3.1258040634905875, 4.476837725237577, 4.314252671193433])\n",
      "('perm=', (4, 3, 5, 2), ', std=', 45.45028465089525, ', angs=', array([124.4418, 143.4988,  38.9787]))\n",
      "('perm=', (4, 3, 2, 5), ', std=', 6.290138179118044, ', angs=', array([124.4418, 135.2047, 120.2752]))\n",
      "('bonds_r=', [0, 1])\n",
      "('nbrs_ref_i=', array([ 8,  1,  7, 20]), 'nbrs_q_i=', array([ 1,  2,  8, 10]))\n",
      "('idx=', [0, 3, 2, 1, 4])\n",
      "('idx=', [0])\n",
      "('i1,i2=', [[0, 3, 2, 1, 4], [0]])\n",
      "[[ 0.0001 -0.7313  0.6692  0.062   0.0051]]\n",
      "('mae=0.293542', 'max error=0.731290')\n",
      "[[-0.0001]\n",
      " [-0.0009]\n",
      " [-0.0001]\n",
      " [ 0.001 ]\n",
      " [-0.0051]]\n",
      "('mae=0.001432', 'max error=0.005131')\n",
      "('i1,i2=', [0, 2, 1, 3, 4], [0])\n"
     ]
    }
   ],
   "source": [
    "fs1 = ['test-h2o/07_optg.xyz', 'test-h2o/10_optg.xyz']\n",
    "objs1 = [o7, o0]\n",
    "br,bq = [6,8], [0,1]\n",
    "clb.test(fs1,objs1,br,bq,debug=True)"
   ]
  },
  {
   "cell_type": "code",
   "execution_count": 131,
   "metadata": {},
   "outputs": [
    {
     "name": "stdout",
     "output_type": "stream",
     "text": [
      " ## found 10 non-covalent bonds\n",
      " ## found 15 non-covalent bonds\n",
      "('n1=', 6)\n",
      "('perm=', (3, 2, 4, 5), ', std=', 58.694647316119834, ', angs=', array([124.4418, 179.8623,  18.6766, 129.7929]))\n",
      "('perm=', (3, 2, 5, 4), ', std=', 23.997774750556104, ', angs=', array([124.4418, 179.8623, 124.4449, 124.4387]))\n",
      "('bonds_r=', [0, 1])\n",
      "('nbrs_ref_i=', array([ 8,  7, 21, 22]), 'nbrs_q_i=', array([ 1,  2, 30, 31]))\n",
      "('idx=', [0, 2, 1, 4, 3])\n",
      "('idx=', [0])\n",
      "('i1,i2=', [[0, 2, 1, 4, 3], [0]])\n",
      "[[ 0.0001  0.0001  0.0009 -0.0069  0.011 ]]\n",
      "('mae=0.003786', 'max error=0.011016')\n",
      "[[-0.0001]\n",
      " [-0.0009]\n",
      " [-0.0001]\n",
      " [ 0.001 ]\n",
      " [-0.0051]]\n",
      "('mae=0.001432', 'max error=0.005131')\n",
      "('i1,i2=', [0, 2, 1, 3, 4], [0])\n"
     ]
    }
   ],
   "source": [
    "fs1 = ['test-h2o/07_optg.xyz', 'test-h2o/10_optg.xyz']\n",
    "objs1 = [o7, o0]\n",
    "br,bq = [6,8], [0,1]\n",
    "clb.test(fs1,objs1,br,bq,debug=True)"
   ]
  },
  {
   "cell_type": "code",
   "execution_count": 102,
   "metadata": {},
   "outputs": [
    {
     "name": "stdout",
     "output_type": "stream",
     "text": [
      " ## found 10 non-covalent bonds\n",
      " ## found 15 non-covalent bonds\n",
      "('i1,i2=', [[0, 2, 1, 4, 3], [0]])\n",
      "[[-0.0041  0.0449 -0.0338 -0.0313 -0.03  ]]\n",
      "('mae=0.028822', 'max error=0.044865')\n",
      "[[ 0.0041]\n",
      " [ 0.0338]\n",
      " [-0.0449]\n",
      " [ 0.042 ]\n",
      " [ 0.0193]]\n",
      "('mae=0.028822', 'max error=0.044865')\n",
      "('i1,i2=', [0, 2, 1, 3, 4], [0])\n"
     ]
    }
   ],
   "source": [
    "fs1 = ['test-h2o/07_optg.xyz', 'test-h2o/10_optg.xyz']\n",
    "objs1 = [o7, o0]\n",
    "br,bq = [3,5], [0,1]\n",
    "clb.test(fs1,objs1,br,bq,debug=False)"
   ]
  },
  {
   "cell_type": "code",
   "execution_count": 99,
   "metadata": {},
   "outputs": [
    {
     "name": "stdout",
     "output_type": "stream",
     "text": [
      " ## found 10 non-covalent bonds\n",
      " ## found 15 non-covalent bonds\n",
      "('i1,i2=', [[0, 1, 2, 3, 4], [0]])\n",
      "[[-0.0022  0.0318 -0.0063 -0.0363 -0.0148]]\n",
      "('mae=0.018272', 'max error=0.036254')\n",
      "[[ 0.0022]\n",
      " [-0.0318]\n",
      " [ 0.0063]\n",
      " [ 0.0363]\n",
      " [ 0.0148]]\n",
      "('mae=0.018272', 'max error=0.036254')\n",
      "('i1,i2=', [0, 1, 2, 3, 4], [0])\n"
     ]
    }
   ],
   "source": [
    "fs1 = ['test-h2o/07_optg.xyz', 'test-h2o/10_optg.xyz']\n",
    "objs1 = [o7, o0]\n",
    "br,bq = [0,1], [0,1]\n",
    "clb.test(fs1,objs1,br,bq,debug=False)"
   ]
  },
  {
   "cell_type": "code",
   "execution_count": 173,
   "metadata": {
    "scrolled": true
   },
   "outputs": [
    {
     "name": "stdout",
     "output_type": "stream",
     "text": [
      "[[-0.0419  0.5947 -0.1811 -0.2742 -0.2742]]\n",
      "[[-0.0346  0.5276 -0.1415 -0.2026 -0.2147]]\n"
     ]
    }
   ],
   "source": [
    "#b0 = [0,1]; b1 = [6,8]; i1=[0,1,2,3,4]; i2=[0,2,1,3,4]; show_dm(o0,o7,b0,b1,i2)\n",
    "print(clb.get_dm_aa(o2, 0, 1).T)\n",
    "print(clb.get_dm_aa(o0, 0, 1).T)"
   ]
  },
  {
   "cell_type": "code",
   "execution_count": 21,
   "metadata": {
    "scrolled": true
   },
   "outputs": [
    {
     "name": "stdout",
     "output_type": "stream",
     "text": [
      "[[-0.00161217  0.00989020 -0.02169214 -0.00257058 -0.00729655]]\n"
     ]
    }
   ],
   "source": [
    "b0 = [0,1]; b1 = [12,13]; i1=[0,1,2,3,4]; i2=[0,2,1,3,4]; show_dm(o7,o7,b0,b1,i1)\n",
    "#clb.get_dm_aa(o7, 0, 1)"
   ]
  },
  {
   "cell_type": "code",
   "execution_count": 112,
   "metadata": {},
   "outputs": [],
   "source": [
    "np.set_printoptions(formatter={'float': '{: 0.8f}'.format})\n",
    "reload(clb)\n",
    "\n",
    "basis='sto-3g'; meth='b3lyp'\n",
    "spin=0; a=0.; verbose=3\n",
    "\n",
    "#yd = YData(nas, zs, coords, rc_dm=rbcut)\n",
    "#obj = dmml(xd,yd)\n"
   ]
  },
  {
   "cell_type": "code",
   "execution_count": 121,
   "metadata": {},
   "outputs": [],
   "source": [
    "bq = [0,1]\n",
    "brs = [[0,2], [6,8], [12,14] ]\n",
    "fs1 = ['test-h2o/06_optg.xyz', 'test-h2o/10_optg.xyz']\n",
    "objs1 = [o6, o0]\n"
   ]
  },
  {
   "cell_type": "code",
   "execution_count": 122,
   "metadata": {},
   "outputs": [
    {
     "name": "stdout",
     "output_type": "stream",
     "text": [
      "[[ 0.0009  0.008  -0.0198  0.0066  0.0008]]\n"
     ]
    }
   ],
   "source": [
    "br = [0,2]; bq = [0,1]; i1=[0,1,2,3,4]; i2=[0,2,1,3,4]; show_dm(o6,o0,br,bq,i2)\n"
   ]
  },
  {
   "cell_type": "code",
   "execution_count": 120,
   "metadata": {
    "scrolled": true
   },
   "outputs": [
    {
     "name": "stdout",
     "output_type": "stream",
     "text": [
      " ## found 6 non-covalent bonds\n",
      " ## found 15 non-covalent bonds\n",
      " * Warning: you may need mirror symmetry to rectify this!\n",
      "            For now, we simply neglect such case, i.e., skip\n",
      "            this very bond as a training point\n",
      " ## found 6 non-covalent bonds\n",
      " ## found 15 non-covalent bonds\n",
      " * Warning: you may need mirror symmetry to rectify this!\n",
      "            For now, we simply neglect such case, i.e., skip\n",
      "            this very bond as a training point\n",
      " ## found 6 non-covalent bonds\n",
      " ## found 15 non-covalent bonds\n",
      " * Warning: you may need mirror symmetry to rectify this!\n",
      "            For now, we simply neglect such case, i.e., skip\n",
      "            this very bond as a training point\n"
     ]
    },
    {
     "data": {
      "image/png": "[encoded data removed]",
      "text/plain": [
       "<Figure size 432x288 with 1 Axes>"
      ]
     },
     "metadata": {
      "needs_background": "light"
     },
     "output_type": "display_data"
    }
   ],
   "source": [
    "\n",
    "ims1, ims2 = [0], [1]\n",
    "racut,rbcut = 3.6,4.8 # 4.8, 4.8\n",
    "n1s, errs = clb.get_lc(fs1, objs1, ims1, ims2, brs, bq, racut=racut, rbcut=rbcut)\n",
    "ots = plt.loglog(n1s, errs, '-o')\n",
    "#print( np.max(np.))"
   ]
  },
  {
   "cell_type": "code",
   "execution_count": null,
   "metadata": {},
   "outputs": [],
   "source": [
    "bq = [1,17]\n",
    "brs = [[0,9],[0,10],[1,6],[1,7],[1,11],[1,12],[2,9],[2,10],[2,13],[2,14] ]\n",
    "ims1, ims2 = [0], [1]\n",
    "n1s, errs = get_lc(fs, objs, ims1, ims2, brs, bq)\n",
    "ots = plt.loglog(n1s, errs, '-o')"
   ]
  },
  {
   "cell_type": "code",
   "execution_count": null,
   "metadata": {
    "scrolled": true
   },
   "outputs": [],
   "source": [
    "bq = [1,2]\n",
    "brs = [[0,1],[2,3],[1,2], ]\n",
    "ims1, ims2 = [0], [1]\n",
    "n1s, errs = get_lc(fs, objs, ims1, ims2, brs, bq)\n",
    "ots = plt.loglog(n1s, errs, '-o')"
   ]
  },
  {
   "cell_type": "code",
   "execution_count": null,
   "metadata": {
    "scrolled": true
   },
   "outputs": [],
   "source": [
    "bq = [1,3]\n",
    "brs = [[0,2],[2,4],[1,3], ]\n",
    "ims1, ims2 = [0], [1]\n",
    "n1s, errs = get_lc(fs, objs, ims1, ims2, brs, bq)\n",
    "ots = plt.loglog(n1s, errs, '-o')"
   ]
  },
  {
   "cell_type": "code",
   "execution_count": null,
   "metadata": {
    "scrolled": true
   },
   "outputs": [],
   "source": [
    "bq = [2,5]\n",
    "brs = [[0,3],[2,5],[1,4], ]\n",
    "ims1, ims2 = [0], [1]\n",
    "n1s, errs = get_lc(fs, objs, ims1, ims2, brs, bq)\n",
    "ots = plt.loglog(n1s, errs, '-o')"
   ]
  },
  {
   "cell_type": "code",
   "execution_count": null,
   "metadata": {},
   "outputs": [],
   "source": []
  },
  {
   "cell_type": "code",
   "execution_count": null,
   "metadata": {},
   "outputs": [],
   "source": []
  }
 ],
 "metadata": {
  "kernelspec": {
   "display_name": "Python 2",
   "language": "python",
   "name": "python2"
  },
  "language_info": {
   "codemirror_mode": {
    "name": "ipython",
    "version": 2
   },
   "file_extension": ".py",
   "mimetype": "text/x-python",
   "name": "python",
   "nbconvert_exporter": "python",
   "pygments_lexer": "ipython2",
   "version": "2.7.15rc1"
  }
 },
 "nbformat": 4,
 "nbformat_minor": 2
}
