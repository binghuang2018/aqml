{
 "cells": [
  {
   "cell_type": "code",
   "execution_count": 1,
   "metadata": {},
   "outputs": [],
   "source": [
    "_s1 = \"\"\"C=c1ccccc1=C\n",
    "C=C(c1ccccc1)O\n",
    "C=c1ccccc1=CO\"\"\"\n",
    "\n",
    "ss1 = []\n",
    "for si in _s1.split('\\n'):\n",
    "    if si.strip() not in ss1:\n",
    "        ss1.append( si.strip() )"
   ]
  },
  {
   "cell_type": "code",
   "execution_count": 2,
   "metadata": {},
   "outputs": [
    {
     "data": {
      "image/svg+xml": [
       "<svg viewBox=\"0.00 0.00 800.00 80.00\" xmlns=\"http://www.w3.org/2000/svg\" xmlns:xlink=\"http://www.w3.org/1999/xlink\">\n",
       "<!-- Created by OpenEye Scientific Software -->\n",
       "<!-- Creation Date Sun Oct 20 16:20:43 2019 -->\n",
       "<rect fill=\"white\" height=\"80.00\" width=\"800.00\"/>\n",
       "<line stroke=\"black\" stroke-linecap=\"round\" stroke-linejoin=\"round\" stroke-width=\"2\" x1=\"87.87\" x2=\"63.56\" y1=\"61.91\" y2=\"47.83\"/>\n",
       "<line stroke=\"black\" stroke-linecap=\"round\" stroke-linejoin=\"round\" stroke-width=\"2\" x1=\"85.12\" x2=\"60.81\" y1=\"66.67\" y2=\"52.59\"/>\n",
       "<line stroke=\"black\" stroke-linecap=\"round\" stroke-linejoin=\"round\" stroke-width=\"2\" x1=\"62.18\" x2=\"62.18\" y1=\"50.21\" y2=\"21.97\"/>\n",
       "<line stroke=\"black\" stroke-linecap=\"round\" stroke-linejoin=\"round\" stroke-width=\"2\" x1=\"62.18\" x2=\"37.82\" y1=\"50.21\" y2=\"64.18\"/>\n",
       "<line stroke=\"black\" stroke-linecap=\"round\" stroke-linejoin=\"round\" stroke-width=\"2\" x1=\"37.82\" x2=\"13.45\" y1=\"64.18\" y2=\"50.21\"/>\n",
       "<line stroke=\"black\" stroke-linecap=\"round\" stroke-linejoin=\"round\" stroke-width=\"2\" x1=\"36.65\" x2=\"20.08\" y1=\"57.18\" y2=\"47.68\"/>\n",
       "<line stroke=\"black\" stroke-linecap=\"round\" stroke-linejoin=\"round\" stroke-width=\"2\" x1=\"13.45\" x2=\"13.45\" y1=\"50.21\" y2=\"21.97\"/>\n",
       "<line stroke=\"black\" stroke-linecap=\"round\" stroke-linejoin=\"round\" stroke-width=\"2\" x1=\"13.45\" x2=\"37.82\" y1=\"21.97\" y2=\"7.71\"/>\n",
       "<line stroke=\"black\" stroke-linecap=\"round\" stroke-linejoin=\"round\" stroke-width=\"2\" x1=\"20.12\" x2=\"36.69\" y1=\"24.43\" y2=\"14.73\"/>\n",
       "<line stroke=\"black\" stroke-linecap=\"round\" stroke-linejoin=\"round\" stroke-width=\"2\" x1=\"37.82\" x2=\"62.18\" y1=\"7.71\" y2=\"21.97\"/>\n",
       "<line stroke=\"black\" stroke-linecap=\"round\" stroke-linejoin=\"round\" stroke-width=\"2\" x1=\"63.55\" x2=\"87.92\" y1=\"24.36\" y2=\"10.38\"/>\n",
       "<line stroke=\"black\" stroke-linecap=\"round\" stroke-linejoin=\"round\" stroke-width=\"2\" x1=\"60.82\" x2=\"85.19\" y1=\"19.59\" y2=\"5.61\"/>\n",
       "<text fill=\"black\" font-family=\"Arial\" font-size=\"8\" font-style=\"normal\" font-weight=\"normal\" text-anchor=\"middle\" x=\"50.00\" y=\"76.67\">  C=c1ccccc1=C </text>\n",
       "<line stroke=\"black\" stroke-linecap=\"round\" stroke-linejoin=\"round\" stroke-width=\"2\" x1=\"184.08\" x2=\"167.59\" y1=\"36.15\" y2=\"26.56\"/>\n",
       "<line stroke=\"black\" stroke-linecap=\"round\" stroke-linejoin=\"round\" stroke-width=\"2\" x1=\"182.05\" x2=\"165.56\" y1=\"39.65\" y2=\"30.06\"/>\n",
       "<line stroke=\"black\" stroke-linecap=\"round\" stroke-linejoin=\"round\" stroke-width=\"2\" x1=\"166.58\" x2=\"150.03\" y1=\"28.31\" y2=\"37.80\"/>\n",
       "<line stroke=\"black\" stroke-linecap=\"round\" stroke-linejoin=\"round\" stroke-width=\"2\" x1=\"150.03\" x2=\"133.48\" y1=\"37.80\" y2=\"28.12\"/>\n",
       "<line stroke=\"black\" stroke-linecap=\"round\" stroke-linejoin=\"round\" stroke-width=\"2\" x1=\"145.33\" x2=\"134.08\" y1=\"39.75\" y2=\"33.16\"/>\n",
       "<line stroke=\"black\" stroke-linecap=\"round\" stroke-linejoin=\"round\" stroke-width=\"2\" x1=\"150.03\" x2=\"150.03\" y1=\"37.80\" y2=\"56.98\"/>\n",
       "<line stroke=\"black\" stroke-linecap=\"round\" stroke-linejoin=\"round\" stroke-width=\"2\" x1=\"150.03\" x2=\"133.48\" y1=\"56.98\" y2=\"66.47\"/>\n",
       "<line stroke=\"black\" stroke-linecap=\"round\" stroke-linejoin=\"round\" stroke-width=\"2\" x1=\"145.36\" x2=\"134.11\" y1=\"54.98\" y2=\"61.43\"/>\n",
       "<line stroke=\"black\" stroke-linecap=\"round\" stroke-linejoin=\"round\" stroke-width=\"2\" x1=\"133.48\" x2=\"116.93\" y1=\"66.47\" y2=\"56.98\"/>\n",
       "<line stroke=\"black\" stroke-linecap=\"round\" stroke-linejoin=\"round\" stroke-width=\"2\" x1=\"116.93\" x2=\"116.93\" y1=\"56.98\" y2=\"37.80\"/>\n",
       "<line stroke=\"black\" stroke-linecap=\"round\" stroke-linejoin=\"round\" stroke-width=\"2\" x1=\"120.99\" x2=\"120.99\" y1=\"53.91\" y2=\"40.87\"/>\n",
       "<line stroke=\"black\" stroke-linecap=\"round\" stroke-linejoin=\"round\" stroke-width=\"2\" x1=\"116.93\" x2=\"133.48\" y1=\"37.80\" y2=\"28.12\"/>\n",
       "<line stroke=\"black\" stroke-linecap=\"round\" stroke-linejoin=\"round\" stroke-width=\"2\" x1=\"166.60\" x2=\"166.58\" y1=\"18.78\" y2=\"28.31\"/>\n",
       "<line stroke=\"red\" stroke-linecap=\"round\" stroke-linejoin=\"round\" stroke-width=\"2\" x1=\"166.60\" x2=\"166.61\" y1=\"18.78\" y2=\"15.55\"/>\n",
       "<text fill=\"red\" font-family=\"Arial\" font-size=\"8\" font-style=\"normal\" font-weight=\"normal\" text-anchor=\"middle\" x=\"166.63\" y=\"11.88\">  O </text>\n",
       "<text fill=\"red\" font-family=\"Arial\" font-size=\"8\" font-style=\"normal\" font-weight=\"normal\" text-anchor=\"middle\" x=\"172.75\" y=\"11.88\">  H </text>\n",
       "<text fill=\"black\" font-family=\"Arial\" font-size=\"8\" font-style=\"normal\" font-weight=\"normal\" text-anchor=\"middle\" x=\"150.00\" y=\"76.67\">  C=C(c1ccccc1)O </text>\n",
       "<line stroke=\"black\" stroke-linecap=\"round\" stroke-linejoin=\"round\" stroke-width=\"2\" x1=\"270.40\" x2=\"254.36\" y1=\"63.97\" y2=\"54.68\"/>\n",
       "<line stroke=\"black\" stroke-linecap=\"round\" stroke-linejoin=\"round\" stroke-width=\"2\" x1=\"268.41\" x2=\"252.37\" y1=\"67.40\" y2=\"58.11\"/>\n",
       "<line stroke=\"black\" stroke-linecap=\"round\" stroke-linejoin=\"round\" stroke-width=\"2\" x1=\"253.37\" x2=\"253.37\" y1=\"56.40\" y2=\"37.77\"/>\n",
       "<line stroke=\"black\" stroke-linecap=\"round\" stroke-linejoin=\"round\" stroke-width=\"2\" x1=\"253.37\" x2=\"237.29\" y1=\"56.40\" y2=\"65.62\"/>\n",
       "<line stroke=\"black\" stroke-linecap=\"round\" stroke-linejoin=\"round\" stroke-width=\"2\" x1=\"237.29\" x2=\"221.21\" y1=\"65.62\" y2=\"56.40\"/>\n",
       "<line stroke=\"black\" stroke-linecap=\"round\" stroke-linejoin=\"round\" stroke-width=\"2\" x1=\"236.69\" x2=\"225.76\" y1=\"60.70\" y2=\"54.43\"/>\n",
       "<line stroke=\"black\" stroke-linecap=\"round\" stroke-linejoin=\"round\" stroke-width=\"2\" x1=\"221.21\" x2=\"221.21\" y1=\"56.40\" y2=\"37.77\"/>\n",
       "<line stroke=\"black\" stroke-linecap=\"round\" stroke-linejoin=\"round\" stroke-width=\"2\" x1=\"221.21\" x2=\"237.29\" y1=\"37.77\" y2=\"28.36\"/>\n",
       "<line stroke=\"black\" stroke-linecap=\"round\" stroke-linejoin=\"round\" stroke-width=\"2\" x1=\"225.79\" x2=\"236.72\" y1=\"39.69\" y2=\"33.29\"/>\n",
       "<line stroke=\"black\" stroke-linecap=\"round\" stroke-linejoin=\"round\" stroke-width=\"2\" x1=\"237.29\" x2=\"253.37\" y1=\"28.36\" y2=\"37.77\"/>\n",
       "<line stroke=\"black\" stroke-linecap=\"round\" stroke-linejoin=\"round\" stroke-width=\"2\" x1=\"254.35\" x2=\"268.46\" y1=\"39.49\" y2=\"26.83\"/>\n",
       "<line stroke=\"black\" stroke-linecap=\"round\" stroke-linejoin=\"round\" stroke-width=\"2\" x1=\"252.38\" x2=\"270.43\" y1=\"36.05\" y2=\"30.27\"/>\n",
       "<line stroke=\"black\" stroke-linecap=\"round\" stroke-linejoin=\"round\" stroke-width=\"2\" x1=\"269.47\" x2=\"269.44\" y1=\"19.28\" y2=\"28.55\"/>\n",
       "<line stroke=\"red\" stroke-linecap=\"round\" stroke-linejoin=\"round\" stroke-width=\"2\" x1=\"269.47\" x2=\"269.48\" y1=\"19.28\" y2=\"16.33\"/>\n",
       "<text fill=\"red\" font-family=\"Arial\" font-size=\"8\" font-style=\"normal\" font-weight=\"normal\" text-anchor=\"middle\" x=\"269.50\" y=\"12.66\">  O </text>\n",
       "<text fill=\"red\" font-family=\"Arial\" font-size=\"8\" font-style=\"normal\" font-weight=\"normal\" text-anchor=\"middle\" x=\"275.62\" y=\"12.66\">  H </text>\n",
       "<text fill=\"black\" font-family=\"Arial\" font-size=\"8\" font-style=\"normal\" font-weight=\"normal\" text-anchor=\"middle\" x=\"250.00\" y=\"76.67\">  C=c1ccccc1=CO </text>\n",
       "</svg>"
      ],
      "text/plain": [
       "<IPython.core.display.SVG object>"
      ]
     },
     "execution_count": 2,
     "metadata": {},
     "output_type": "execute_result"
    }
   ],
   "source": [
    "cdc.draw_oechem().viewms(ss1)"
   ]
  },
  {
   "cell_type": "code",
   "execution_count": 3,
   "metadata": {},
   "outputs": [],
   "source": [
    "import cheminfo.oechem.oechem as coo"
   ]
  },
  {
   "cell_type": "code",
   "execution_count": 11,
   "metadata": {},
   "outputs": [
    {
     "name": "stdout",
     "output_type": "stream",
     "text": [
      "1 C=c1ccccc1=C True False False False\n",
      "2 C=C(c1ccccc1)O True False False False\n",
      "3 C=c1ccccc1=CO True False False False\n"
     ]
    },
    {
     "name": "stderr",
     "output_type": "stream",
     "text": [
      "RDKit WARNING: [16:32:16] Warning: molecule is tagged as 3D, but all Z coords are zero\n",
      "RDKit WARNING: [16:32:16] Warning: molecule is tagged as 3D, but all Z coords are zero\n",
      "RDKit WARNING: [16:32:16] Warning: molecule is tagged as 3D, but all Z coords are zero\n"
     ]
    }
   ],
   "source": [
    "reload(coo)\n",
    "\n",
    "for i,si in enumerate(ss1):\n",
    "    o1 = coo.StringM(ss1[0])\n",
    "    print(i+1, si, np.any(o1.aromatic), o1.resonated, o1.resonated_cs, o1.is_conj_amon)"
   ]
  },
  {
   "cell_type": "code",
   "execution_count": 14,
   "metadata": {},
   "outputs": [
    {
     "data": {
      "text/plain": [
       "'-p b3lypvtz -train g8raf -exclude 53-61 -test target'"
      ]
     },
     "execution_count": 14,
     "metadata": {},
     "output_type": "execute_result"
    }
   ],
   "source": [
    "wd0 = '/home/bing/amons-paper-db/dna-base/monomers/xtb/1by1/05b-nocrowd/e-b3lypvtz/'\n",
    "wd0 = ''; sw = ' -wd %s'%wd0 if wd0 else ''\n",
    "train = 'g8raf' \n",
    "test = 'target'\n",
    "exclude = '53-61'\n",
    "ipt = '-p b3lypvtz%s -train %s -exclude %s -test %s'%(sw, train, exclude, test)\n",
    "ipt"
   ]
  },
  {
   "cell_type": "code",
   "execution_count": null,
   "metadata": {},
   "outputs": [],
   "source": []
  }
 ],
 "metadata": {
  "kernelspec": {
   "display_name": "Python 3",
   "language": "python",
   "name": "python3"
  },
  "language_info": {
   "codemirror_mode": {
    "name": "ipython",
    "version": 3
   },
   "file_extension": ".py",
   "mimetype": "text/x-python",
   "name": "python",
   "nbconvert_exporter": "python",
   "pygments_lexer": "ipython3",
   "version": "3.6.6"
  }
 },
 "nbformat": 4,
 "nbformat_minor": 2
}
