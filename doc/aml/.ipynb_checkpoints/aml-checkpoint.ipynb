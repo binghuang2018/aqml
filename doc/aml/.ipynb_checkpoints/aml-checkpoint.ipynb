{
 "cells": [
  {
   "cell_type": "markdown",
   "metadata": {},
   "source": [
    "\n",
    "In the section, we cover\n",
    "- basic I/O, i.e., reading/writing info from xyz files and output files from quantum chemistry programs such as orca4\n",
    "- generation of molecular representations: SLATM and its local conterpart\n",
    "- run KRR training/test based on SLATM\n"
   ]
  },
  {
   "cell_type": "markdown",
   "metadata": {},
   "source": [
    "## Basic I/O\n"
   ]
  },
  {
   "cell_type": "markdown",
   "metadata": {},
   "source": [
    "### Reading from xyz files"
   ]
  },
  {
   "cell_type": "code",
   "execution_count": 1,
   "metadata": {},
   "outputs": [],
   "source": [
    "import aqml.io2 as io2\n"
   ]
  },
  {
   "cell_type": "code",
   "execution_count": 7,
   "metadata": {},
   "outputs": [
    {
     "data": {
      "text/plain": [
       "['../../demo/example/reference/g7/frag_01_c00001.xyz',\n",
       " '../../demo/example/reference/g7/frag_02_c00001.xyz',\n",
       " '../../demo/example/reference/g7/frag_03_c00001.xyz',\n",
       " '../../demo/example/reference/g7/frag_04_c00001.xyz',\n",
       " '../../demo/example/reference/g7/frag_05_c00001.xyz',\n",
       " '../../demo/example/reference/g7/frag_06_c00001.xyz',\n",
       " '../../demo/example/reference/g7/frag_07_c00001.xyz',\n",
       " '../../demo/example/reference/g7/frag_07_c00002.xyz',\n",
       " '../../demo/example/reference/g7/frag_08_c00001.xyz',\n",
       " '../../demo/example/reference/g7/frag_09_c00001.xyz',\n",
       " '../../demo/example/reference/g7/frag_10_c00001.xyz',\n",
       " '../../demo/example/reference/g7/frag_11_c00001.xyz',\n",
       " '../../demo/example/reference/g7/frag_11_c00002.xyz',\n",
       " '../../demo/example/reference/g7/frag_12_c00001.xyz',\n",
       " '../../demo/example/reference/g7/frag_12_c00002.xyz',\n",
       " '../../demo/example/reference/g7/frag_13_c00001.xyz']"
      ]
     },
     "execution_count": 7,
     "metadata": {},
     "output_type": "execute_result"
    }
   ],
   "source": [
    "# get amons data used for training, as stored in xyz files\n",
    "fs = io2.cmdout('ls ../../demo/example/reference/g7/f*z')\n",
    "fs"
   ]
  },
  {
   "cell_type": "code",
   "execution_count": null,
   "metadata": {},
   "outputs": [],
   "source": []
  },
  {
   "cell_type": "markdown",
   "metadata": {},
   "source": [
    "A typical xyz file (to be used by `aqml`) looks like:"
   ]
  },
  {
   "cell_type": "code",
   "execution_count": 6,
   "metadata": {},
   "outputs": [
    {
     "name": "stdout",
     "output_type": "stream",
     "text": [
      "5\r\n",
      "alpha=13.42 b3lypvdz=-40.480429212044 \r\n",
      "     C     -1.54626100      0.73185600      0.67141100\r\n",
      "     H     -1.73565800      0.47084700      1.72356700\r\n",
      "     H     -1.64277500      1.82028800      0.53911200\r\n",
      "     H     -0.52974600      0.41588200      0.39233400\r\n",
      "     H     -2.27556000      0.21702800      0.02997500\r\n"
     ]
    }
   ],
   "source": [
    "!cat ../../demo/example/reference/g7/frag_01_c00001.xyz"
   ]
  },
  {
   "cell_type": "markdown",
   "metadata": {},
   "source": [
    "where `alpha` and `b3lypvdz` are the polarizability (in Bohr$^3$) and total energy (in Hartree) of CH4 molecule. `b3lypvdz` indicates that all properties were calculated at the level of theory `b3lyp/cc-pvdz` (by orca4, if not otherwise stated)."
   ]
  },
  {
   "cell_type": "markdown",
   "metadata": {},
   "source": [
    "To read geometry together with all properties of one molecule (say, CH4), do the following"
   ]
  },
  {
   "cell_type": "code",
   "execution_count": 14,
   "metadata": {},
   "outputs": [
    {
     "data": {
      "text/plain": [
       "{'alpha': array([13.42]), 'b3lypvdz': array([-25401.85283769])}"
      ]
     },
     "execution_count": 14,
     "metadata": {},
     "output_type": "execute_result"
    }
   ],
   "source": [
    "import aqml.cheminfo.core as cc\n",
    "\n",
    "mol = cc.molecule(fs[0], ['a'])\n",
    "mol.props"
   ]
  },
  {
   "cell_type": "markdown",
   "metadata": {},
   "source": [
    "Note that atomic units for energetic properties would be automaically converted to units that are used more favorably by Chemists, namely, kcal/mol.\n",
    "\n",
    "\n",
    "To read geometries and all properties of multiple molecules (say, the first 5 mols):"
   ]
  },
  {
   "cell_type": "code",
   "execution_count": 13,
   "metadata": {},
   "outputs": [
    {
     "data": {
      "text/plain": [
       "{'alpha': array([[13.42],\n",
       "        [21.68],\n",
       "        [13.57],\n",
       "        [33.96],\n",
       "        [25.19]]), 'b3lypvdz': array([[-25401.85283769],\n",
       "        [-49280.26416003],\n",
       "        [-71817.46145015],\n",
       "        [-73935.93419366],\n",
       "        [-96479.43688458]])}"
      ]
     },
     "execution_count": 13,
     "metadata": {},
     "output_type": "execute_result"
    }
   ],
   "source": [
    "mols = cc.molecules(fs[:5], ['a'])\n",
    "mols.props"
   ]
  },
  {
   "cell_type": "markdown",
   "metadata": {},
   "source": [
    "Note that the second entry of function `cc.molecule` and `cc.molecules` is the list of names of properties. If it's set to `['a']`, then all properties would be read and it's equivalent to specify the second entry to `['alpha','b3lypvdz']`."
   ]
  },
  {
   "cell_type": "markdown",
   "metadata": {},
   "source": [
    "### Reading from orca output file"
   ]
  },
  {
   "cell_type": "code",
   "execution_count": 41,
   "metadata": {},
   "outputs": [],
   "source": [
    "import aqml.io2.orca as orca\n",
    "\n",
    "#from importlib import reload\n",
    "#reload(orca)"
   ]
  },
  {
   "cell_type": "code",
   "execution_count": 35,
   "metadata": {},
   "outputs": [],
   "source": [
    "fs = io2.cmdout('ls ../../demo/example/reference/g7/f*out')"
   ]
  },
  {
   "cell_type": "code",
   "execution_count": 36,
   "metadata": {},
   "outputs": [],
   "source": [
    "obj = orca.orcajob(fs[0])"
   ]
  },
  {
   "cell_type": "markdown",
   "metadata": {},
   "source": [
    "Note that only serial mode is supported, i.e., one output file each time.\n",
    "\n",
    "Now get the method and total energy from the output file:"
   ]
  },
  {
   "cell_type": "code",
   "execution_count": 40,
   "metadata": {},
   "outputs": [
    {
     "data": {
      "text/plain": [
       "{'b3lypvdz': -40.480429212044}"
      ]
     },
     "execution_count": 40,
     "metadata": {},
     "output_type": "execute_result"
    }
   ],
   "source": [
    "obj.e"
   ]
  },
  {
   "cell_type": "markdown",
   "metadata": {},
   "source": [
    "Output file produced by other programs such as `Molpro`, `Gaussian 09` are also supported and the corresponding usages will be documented in the near future."
   ]
  },
  {
   "cell_type": "markdown",
   "metadata": {},
   "source": [
    "## Generation of SLATM and ML (KRR)"
   ]
  },
  {
   "cell_type": "code",
   "execution_count": 49,
   "metadata": {},
   "outputs": [
    {
     "data": {
      "text/plain": [
       "<module 'cml.algo.aqml' from '/home/bing/anaconda3/lib/python3.7/site-packages/cml/algo/aqml.py'>"
      ]
     },
     "execution_count": 49,
     "metadata": {},
     "output_type": "execute_result"
    }
   ],
   "source": [
    "import cml.algo.aqml as aq\n",
    "reload(aq)"
   ]
  },
  {
   "cell_type": "code",
   "execution_count": 53,
   "metadata": {},
   "outputs": [],
   "source": [
    "T, F = True, False\n",
    "\n",
    "# root directory storing all relevant data\n",
    "root = '../../demo/example/reference/'\n",
    "\n",
    "# amons data are stored in in xyz files under folder `g7`\n",
    "train = [root + 'g7/']\n",
    "\n",
    "# test data are stored in xyz file under folder `target/`\n",
    "test = [root + 'target/']\n",
    "\n",
    "# representation generation and krr can be done within one line of commmand\n",
    "obj = aq.calculator(iaml=T, \n",
    "                 train=train, test=test, lambdas=[4.0], coeffs=[1.], kernel='g', \n",
    "                 rcut=4.8, p='b3lypvdz', nprocs=1, i_disp_eaq=F, debug=F)\n"
   ]
  },
  {
   "cell_type": "markdown",
   "metadata": {},
   "source": [
    "Now run training & test"
   ]
  },
  {
   "cell_type": "code",
   "execution_count": null,
   "metadata": {},
   "outputs": [],
   "source": [
    "obj.run()"
   ]
  }
 ],
 "metadata": {
  "kernelspec": {
   "display_name": "Python 3",
   "language": "python",
   "name": "python3"
  },
  "language_info": {
   "codemirror_mode": {
    "name": "ipython",
    "version": 3
   },
   "file_extension": ".py",
   "mimetype": "text/x-python",
   "name": "python",
   "nbconvert_exporter": "python",
   "pygments_lexer": "ipython3",
   "version": "3.7.1"
  },
  "latex_envs": {
   "LaTeX_envs_menu_present": true,
   "autoclose": true,
   "autocomplete": true,
   "bibliofile": "biblio.bib",
   "cite_by": "apalike",
   "current_citInitial": 1,
   "eqLabelWithNumbers": true,
   "eqNumInitial": 1,
   "hotkeys": {
    "equation": "Ctrl-E",
    "itemize": "Ctrl-I"
   },
   "labels_anchors": false,
   "latex_user_defs": false,
   "report_style_numbering": false,
   "user_envs_cfg": false
  },
  "toc": {
   "base_numbering": 1,
   "nav_menu": {},
   "number_sections": true,
   "sideBar": true,
   "skip_h1_title": false,
   "title_cell": "Table of Contents",
   "title_sidebar": "Contents",
   "toc_cell": false,
   "toc_position": {},
   "toc_section_display": true,
   "toc_window_display": false
  }
 },
 "nbformat": 4,
 "nbformat_minor": 2
}
