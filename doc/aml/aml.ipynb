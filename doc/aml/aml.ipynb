{
 "cells": [
  {
   "cell_type": "markdown",
   "metadata": {},
   "source": [
    "# Tackling conjugated systems through aqml\n",
    "\n",
    "## Introduction\n",
    "\n",
    "- Conjugated systems present as a chanllenge for qml\n",
    "- Generally, large error is expected from qml models\n",
    "\n",
    "Here we \n",
    "- Extend the origin amons to include a few amons with $N_I=8$\n",
    "- Resulting aqml model can give excellent results, approaching chemical accuracy for energies for arbitrary larger systems"
   ]
  },
  {
   "cell_type": "markdown",
   "metadata": {},
   "source": [
    "## Method\n",
    "\n",
    "### amons\n",
    "\n",
    "Amons are representative fragments of a larger mol\n",
    "\n",
    "\n",
    "### AQML\n",
    "\n",
    "Amons-based QML\n"
   ]
  },
  {
   "cell_type": "markdown",
   "metadata": {},
   "source": [
    "## Results\n",
    "\n",
    "### Benzenoid\n",
    "A benzenoid is a fusene that is a subgraph of the regular hexagonal lattice (i.e., a simply connected polyhex).\n",
    "http://mathworld.wolfram.com/Fusene.html\n",
    "\n",
    "\n",
    "### carbon sheet\n",
    "Here we extropolate to the limit: graphene sheet.\n"
   ]
  },
  {
   "cell_type": "code",
   "execution_count": null,
   "metadata": {},
   "outputs": [],
   "source": []
  }
 ],
 "metadata": {
  "kernelspec": {
   "display_name": "Python 3",
   "language": "python",
   "name": "python3"
  },
  "language_info": {
   "codemirror_mode": {
    "name": "ipython",
    "version": 3
   },
   "file_extension": ".py",
   "mimetype": "text/x-python",
   "name": "python",
   "nbconvert_exporter": "python",
   "pygments_lexer": "ipython3",
   "version": "3.7.1"
  },
  "latex_envs": {
   "LaTeX_envs_menu_present": true,
   "autoclose": true,
   "autocomplete": true,
   "bibliofile": "biblio.bib",
   "cite_by": "apalike",
   "current_citInitial": 1,
   "eqLabelWithNumbers": true,
   "eqNumInitial": 1,
   "hotkeys": {
    "equation": "Ctrl-E",
    "itemize": "Ctrl-I"
   },
   "labels_anchors": false,
   "latex_user_defs": false,
   "report_style_numbering": false,
   "user_envs_cfg": false
  },
  "toc": {
   "base_numbering": 1,
   "nav_menu": {},
   "number_sections": true,
   "sideBar": true,
   "skip_h1_title": false,
   "title_cell": "Table of Contents",
   "title_sidebar": "Contents",
   "toc_cell": false,
   "toc_position": {},
   "toc_section_display": true,
   "toc_window_display": false
  }
 },
 "nbformat": 4,
 "nbformat_minor": 2
}
